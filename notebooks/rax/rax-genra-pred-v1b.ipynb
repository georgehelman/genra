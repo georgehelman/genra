{
 "cells": [
  {
   "cell_type": "code",
   "execution_count": 1,
   "metadata": {},
   "outputs": [
    {
     "name": "stdout",
     "output_type": "stream",
     "text": [
      "Populating the interactive namespace from numpy and matplotlib\n"
     ]
    }
   ],
   "source": [
    "# %load ../env.py\n",
    "%load_ext autoreload\n",
    "%autoreload 2\n",
    "%pylab inline\n",
    "%matplotlib inline\n",
    "\n",
    "import matplotlib.text as text\n",
    "import pandas as pd\n",
    "import numpy as np\n",
    "import pylab as pl\n",
    "import scipy as sp\n",
    "import sys\n",
    "import rpy2 \n",
    "import os \n",
    "\n",
    "#Set environment variables\n",
    "\n",
    "\n",
    "# Set up the local source files\n",
    "TOP = '/'.join(os.getcwd().split('/')[:-2])+'/'\n",
    "#TOP = \"/share/home/ishah/ipynb/pb/HTTR_WF/\"\n",
    "\n",
    "LIB = TOP+'lib'\n",
    "if not LIB in sys.path: \n",
    "    sys.path.insert(0,LIB)\n",
    "\n",
    "os.environ['PYTHONPATH']=LIB\n",
    "\n",
    "\n",
    "DAT_DIR = TOP + '/data/'\n",
    "FIG_DIR = TOP + '/figs/'\n",
    "\n",
    "if not os.path.exists(DAT_DIR): os.mkdir(DAT_DIR)\n",
    "if not os.path.exists(FIG_DIR): os.mkdir(FIG_DIR)\n",
    "\n",
    "\n",
    "from db.mongo import *\n",
    "\n",
    "DB = openMongo(db='genra_dev_v4')"
   ]
  },
  {
   "cell_type": "markdown",
   "metadata": {},
   "source": [
    "## Load the genra prediction module"
   ]
  },
  {
   "cell_type": "code",
   "execution_count": 2,
   "metadata": {},
   "outputs": [],
   "source": [
    "from rax.genrapred import *"
   ]
  },
  {
   "cell_type": "code",
   "execution_count": 3,
   "metadata": {},
   "outputs": [
    {
     "name": "stdout",
     "output_type": "stream",
     "text": [
      "Help on function runGenRA in module rax.genrapred:\n",
      "\n",
      "runGenRA(sid, Y=None, SID=None, DB=None, fp_x='chm_mrgn', fp_y='toxp_txrf', sel_by=None, k0=10, s0=0.1, metric='jaccard', pred=True, ret=None, wt=True, n_perm=100, dbg=False)\n",
      "    sid  : the DSSTOX SID of the target chemical (required)\n",
      "    \n",
      "    Y    : list of toxicities for evaluation of activities (optional)\n",
      "    \n",
      "    SID  : list of dsstox_sids of chemicals to consider in neighbourhood (optional)\n",
      "    \n",
      "    DB   : reference to mongodb (required)\n",
      "    \n",
      "    fp_x : fingerprint for chemical similarity. Options:\n",
      "          - chm_mrgn: RDKit Morgan (default)\n",
      "          - chm_httr: RDKit Torsion\n",
      "          - chm_ct  : ChemoTypes \n",
      "    \n",
      "    fp_y: fingerprint for predicted bioactivity. This is resolved to a specific \n",
      "          database collection and attribute. Currently only consider toxicity. Options\n",
      "          - toxp_txrf: toxref toxicity classifications. \n",
      "    \n",
      "    sel_by: when finding nearest neighbours of target, select the neighbours based on \n",
      "            availability of this information. Options:\n",
      "          - tox_txrf: toxref toxicity classifications. \n",
      "    \n",
      "    k0    : Number of nearest neighbours to consider\n",
      "    \n",
      "    s0    : Similarity threshold measured by metric\n",
      "    \n",
      "    metric: Similarity metric. Options:\n",
      "          - Jaccard (default)\n",
      "    \n",
      "    n_perm: Number of permutations for testing significance of AUC\n",
      "    \n",
      "    pred  : Whether to predict activity for target or just calculate the \n",
      "            predictive performances\n",
      "    \n",
      "    ret   : Results to return. Options:\n",
      "          - full: a list with three elements \n",
      "            1. Predictions for target\n",
      "            2. Performance results for neighbourhood\n",
      "            3. Similarity scores for chemicals in neighbourhood\n",
      "          - else:\n",
      "            * Performance results\n",
      "    \n",
      "    Description of returned values:\n",
      "    \n",
      "    * Predictions for target - a list of predictions, one for each bioactivity outcome. \n",
      "      Each prediction is a dict with the following keys:\n",
      "      - dsstox_sid  : DSSTOX SID of target\n",
      "      - out         : bioactivity/toxicity endpoint\n",
      "      - k0          : k0\n",
      "      - s0          : s0\n",
      "      - fp          : fp_x\n",
      "      - a_t         : Observed activity of target for out \n",
      "      - a_s         : Similarity weighted bioactivity of target across neighbours\n",
      "      - a_p         : Predicted activity 0/1 based on threshold t0\n",
      "      - auc         : ROC area under curve across a_s and a_t for neighbours\n",
      "      - t0          : activity threshold that produces best balanced accuracy\n",
      "      - p_val       : the significance of auc across n_perm\n",
      "      - pred        : the prediction class \n",
      "                      if a_t known  : one of TN/TP/FN/FP\n",
      "                      if a_t unknown: one of Pos/Neg\n",
      "    \n",
      "    * Performance results for neighbourhood as a dict in which keys are \n",
      "      bioactivity/toxicity endpoints and values are dictionaries with the following\n",
      "      keys:\n",
      "      - out        : Binary activity of each analog (no effect:0/effect: 1)\n",
      "      - act        : Similarity weighted activities for each analog in the \n",
      "                     neighbourhood as a pandas.DataFrame with the following columns:\n",
      "             - dsstox_sid: DSSTOX SID of analog (index)\n",
      "             - a_t       : True activity of analog\n",
      "             - a_p       : Simiarity weighted bioactivity of analog\n",
      "             - n_p       : Number of positives\n",
      "             - n_n       : Number of negatives \n",
      "      - roc        : The receiver operating characteristic for the neighbourhood \n",
      "                     as a dataframe with the following columns:\n",
      "             - fpr       : false positive rate\n",
      "             - sp        : specificity\n",
      "             - sn        : sensitivity\n",
      "             - t0        : score threshold\n",
      "             - BA        : balanced accuracy = 0.5 * (sn+sp)\n",
      "    \n",
      "    * Similarity matrix for all k0 chemicals considered in neighbourhood as a \n",
      "      k0xk0 pandas.DataFrame in which rows and columns are indexed by dsstox_sid and\n",
      "      the value of each cell is the similarity score based on above metric\n",
      "\n"
     ]
    }
   ],
   "source": [
    "help(runGenRA)"
   ]
  },
  {
   "cell_type": "markdown",
   "metadata": {},
   "source": [
    "## Find an example chemical "
   ]
  },
  {
   "cell_type": "code",
   "execution_count": 72,
   "metadata": {},
   "outputs": [
    {
     "data": {
      "text/plain": [
       "{u'casrn': u'335-67-1',\n",
       " u'chemspider_id': 9180,\n",
       " u'created_at': datetime.datetime(2017, 4, 24, 20, 32, 19),\n",
       " u'dsstox_cid': u'DTXCID6011865',\n",
       " u'dsstox_sid': u'DTXSID8031865',\n",
       " u'gsid': 31865,\n",
       " u'inchi_key': u'SNGREZUHAYWORS-UHFFFAOYSA-N',\n",
       " u'iupac': u'Pentadecafluorooctanoic acid',\n",
       " u'mol_weight': 414.07,\n",
       " u'name': u'PFOA',\n",
       " u'pubchem_cid': 9554,\n",
       " u'smiles': u'OC(=O)C(F)(F)C(F)(F)C(F)(F)C(F)(F)C(F)(F)C(F)(F)C(F)(F)F',\n",
       " u'updated_at': datetime.datetime(2017, 8, 30, 19, 10, 40)}"
      ]
     },
     "execution_count": 72,
     "metadata": {},
     "output_type": "execute_result"
    }
   ],
   "source": [
    "C0 = DB.compounds.find_one(dict(name='PFOA'),dict(_id=0,synonyms=0))\n",
    "sid = C0['dsstox_sid']\n",
    "C0"
   ]
  },
  {
   "cell_type": "markdown",
   "metadata": {},
   "source": [
    "## Run the GenRA Prediction"
   ]
  },
  {
   "cell_type": "code",
   "execution_count": 73,
   "metadata": {},
   "outputs": [],
   "source": [
    "Hits = pd.DataFrame(runGenRA(sid,DB=DB,s0=0.05,k0=20,dbg=False,sel_by='toxp_txrf')).set_index('out')"
   ]
  },
  {
   "cell_type": "code",
   "execution_count": 74,
   "metadata": {},
   "outputs": [
    {
     "data": {
      "text/html": [
       "<div>\n",
       "<table border=\"1\" class=\"dataframe\">\n",
       "  <thead>\n",
       "    <tr style=\"text-align: right;\">\n",
       "      <th></th>\n",
       "      <th>a_p</th>\n",
       "      <th>a_s</th>\n",
       "      <th>a_t</th>\n",
       "      <th>auc</th>\n",
       "      <th>dsstox_sid</th>\n",
       "      <th>fp</th>\n",
       "      <th>k0</th>\n",
       "      <th>n_neg</th>\n",
       "      <th>n_pos</th>\n",
       "      <th>p_val</th>\n",
       "      <th>pred</th>\n",
       "      <th>s0</th>\n",
       "      <th>t0</th>\n",
       "    </tr>\n",
       "    <tr>\n",
       "      <th>out</th>\n",
       "      <th></th>\n",
       "      <th></th>\n",
       "      <th></th>\n",
       "      <th></th>\n",
       "      <th></th>\n",
       "      <th></th>\n",
       "      <th></th>\n",
       "      <th></th>\n",
       "      <th></th>\n",
       "      <th></th>\n",
       "      <th></th>\n",
       "      <th></th>\n",
       "      <th></th>\n",
       "    </tr>\n",
       "  </thead>\n",
       "  <tbody>\n",
       "    <tr>\n",
       "      <th>CHR:Stomach</th>\n",
       "      <td>0</td>\n",
       "      <td>0.232</td>\n",
       "      <td>None</td>\n",
       "      <td>0.500000</td>\n",
       "      <td>DTXSID8031865</td>\n",
       "      <td>chm_mrgn</td>\n",
       "      <td>20</td>\n",
       "      <td>4</td>\n",
       "      <td>3</td>\n",
       "      <td>0.40</td>\n",
       "      <td>Neg</td>\n",
       "      <td>0.05</td>\n",
       "      <td>0.401701</td>\n",
       "    </tr>\n",
       "    <tr>\n",
       "      <th>SUB:Seminal Vesicle</th>\n",
       "      <td>0</td>\n",
       "      <td>0.090</td>\n",
       "      <td>None</td>\n",
       "      <td>0.512821</td>\n",
       "      <td>DTXSID8031865</td>\n",
       "      <td>chm_mrgn</td>\n",
       "      <td>20</td>\n",
       "      <td>13</td>\n",
       "      <td>3</td>\n",
       "      <td>0.45</td>\n",
       "      <td>Neg</td>\n",
       "      <td>0.05</td>\n",
       "      <td>0.136390</td>\n",
       "    </tr>\n",
       "    <tr>\n",
       "      <th>MGR:Food Consumption</th>\n",
       "      <td>0</td>\n",
       "      <td>0.304</td>\n",
       "      <td>None</td>\n",
       "      <td>0.533333</td>\n",
       "      <td>DTXSID8031865</td>\n",
       "      <td>chm_mrgn</td>\n",
       "      <td>20</td>\n",
       "      <td>5</td>\n",
       "      <td>3</td>\n",
       "      <td>0.34</td>\n",
       "      <td>Neg</td>\n",
       "      <td>0.05</td>\n",
       "      <td>0.366333</td>\n",
       "    </tr>\n",
       "    <tr>\n",
       "      <th>SUB:Other</th>\n",
       "      <td>0</td>\n",
       "      <td>0.326</td>\n",
       "      <td>None</td>\n",
       "      <td>0.571429</td>\n",
       "      <td>DTXSID8031865</td>\n",
       "      <td>chm_mrgn</td>\n",
       "      <td>20</td>\n",
       "      <td>14</td>\n",
       "      <td>2</td>\n",
       "      <td>0.44</td>\n",
       "      <td>Neg</td>\n",
       "      <td>0.05</td>\n",
       "      <td>0.157344</td>\n",
       "    </tr>\n",
       "    <tr>\n",
       "      <th>SUB:Bone Marrow</th>\n",
       "      <td>0</td>\n",
       "      <td>0.096</td>\n",
       "      <td>None</td>\n",
       "      <td>0.666667</td>\n",
       "      <td>DTXSID8031865</td>\n",
       "      <td>chm_mrgn</td>\n",
       "      <td>20</td>\n",
       "      <td>13</td>\n",
       "      <td>3</td>\n",
       "      <td>0.20</td>\n",
       "      <td>Neg</td>\n",
       "      <td>0.05</td>\n",
       "      <td>0.187438</td>\n",
       "    </tr>\n",
       "    <tr>\n",
       "      <th>DEV:Liver</th>\n",
       "      <td>0</td>\n",
       "      <td>0.112</td>\n",
       "      <td>None</td>\n",
       "      <td>0.666667</td>\n",
       "      <td>DTXSID8031865</td>\n",
       "      <td>chm_mrgn</td>\n",
       "      <td>20</td>\n",
       "      <td>6</td>\n",
       "      <td>2</td>\n",
       "      <td>0.27</td>\n",
       "      <td>Neg</td>\n",
       "      <td>0.05</td>\n",
       "      <td>0.189812</td>\n",
       "    </tr>\n",
       "    <tr>\n",
       "      <th>MGR:Stomach</th>\n",
       "      <td>0</td>\n",
       "      <td>0.115</td>\n",
       "      <td>None</td>\n",
       "      <td>0.666667</td>\n",
       "      <td>DTXSID8031865</td>\n",
       "      <td>chm_mrgn</td>\n",
       "      <td>20</td>\n",
       "      <td>6</td>\n",
       "      <td>2</td>\n",
       "      <td>0.24</td>\n",
       "      <td>Neg</td>\n",
       "      <td>0.05</td>\n",
       "      <td>0.112760</td>\n",
       "    </tr>\n",
       "    <tr>\n",
       "      <th>MGR:Mortality</th>\n",
       "      <td>0</td>\n",
       "      <td>0.115</td>\n",
       "      <td>None</td>\n",
       "      <td>0.666667</td>\n",
       "      <td>DTXSID8031865</td>\n",
       "      <td>chm_mrgn</td>\n",
       "      <td>20</td>\n",
       "      <td>6</td>\n",
       "      <td>2</td>\n",
       "      <td>0.22</td>\n",
       "      <td>Neg</td>\n",
       "      <td>0.05</td>\n",
       "      <td>0.112760</td>\n",
       "    </tr>\n",
       "    <tr>\n",
       "      <th>DEV:Kidney</th>\n",
       "      <td>0</td>\n",
       "      <td>0.163</td>\n",
       "      <td>None</td>\n",
       "      <td>0.800000</td>\n",
       "      <td>DTXSID8031865</td>\n",
       "      <td>chm_mrgn</td>\n",
       "      <td>20</td>\n",
       "      <td>5</td>\n",
       "      <td>3</td>\n",
       "      <td>0.03</td>\n",
       "      <td>Neg</td>\n",
       "      <td>0.05</td>\n",
       "      <td>0.298850</td>\n",
       "    </tr>\n",
       "    <tr>\n",
       "      <th>MGR:Lung</th>\n",
       "      <td>0</td>\n",
       "      <td>0.115</td>\n",
       "      <td>None</td>\n",
       "      <td>0.833333</td>\n",
       "      <td>DTXSID8031865</td>\n",
       "      <td>chm_mrgn</td>\n",
       "      <td>20</td>\n",
       "      <td>6</td>\n",
       "      <td>2</td>\n",
       "      <td>0.07</td>\n",
       "      <td>Neg</td>\n",
       "      <td>0.05</td>\n",
       "      <td>0.143714</td>\n",
       "    </tr>\n",
       "  </tbody>\n",
       "</table>\n",
       "</div>"
      ],
      "text/plain": [
       "                      a_p    a_s   a_t       auc     dsstox_sid        fp  k0  \\\n",
       "out                                                                             \n",
       "CHR:Stomach             0  0.232  None  0.500000  DTXSID8031865  chm_mrgn  20   \n",
       "SUB:Seminal Vesicle     0  0.090  None  0.512821  DTXSID8031865  chm_mrgn  20   \n",
       "MGR:Food Consumption    0  0.304  None  0.533333  DTXSID8031865  chm_mrgn  20   \n",
       "SUB:Other               0  0.326  None  0.571429  DTXSID8031865  chm_mrgn  20   \n",
       "SUB:Bone Marrow         0  0.096  None  0.666667  DTXSID8031865  chm_mrgn  20   \n",
       "DEV:Liver               0  0.112  None  0.666667  DTXSID8031865  chm_mrgn  20   \n",
       "MGR:Stomach             0  0.115  None  0.666667  DTXSID8031865  chm_mrgn  20   \n",
       "MGR:Mortality           0  0.115  None  0.666667  DTXSID8031865  chm_mrgn  20   \n",
       "DEV:Kidney              0  0.163  None  0.800000  DTXSID8031865  chm_mrgn  20   \n",
       "MGR:Lung                0  0.115  None  0.833333  DTXSID8031865  chm_mrgn  20   \n",
       "\n",
       "                      n_neg  n_pos  p_val pred    s0        t0  \n",
       "out                                                             \n",
       "CHR:Stomach               4      3   0.40  Neg  0.05  0.401701  \n",
       "SUB:Seminal Vesicle      13      3   0.45  Neg  0.05  0.136390  \n",
       "MGR:Food Consumption      5      3   0.34  Neg  0.05  0.366333  \n",
       "SUB:Other                14      2   0.44  Neg  0.05  0.157344  \n",
       "SUB:Bone Marrow          13      3   0.20  Neg  0.05  0.187438  \n",
       "DEV:Liver                 6      2   0.27  Neg  0.05  0.189812  \n",
       "MGR:Stomach               6      2   0.24  Neg  0.05  0.112760  \n",
       "MGR:Mortality             6      2   0.22  Neg  0.05  0.112760  \n",
       "DEV:Kidney                5      3   0.03  Neg  0.05  0.298850  \n",
       "MGR:Lung                  6      2   0.07  Neg  0.05  0.143714  "
      ]
     },
     "execution_count": 74,
     "metadata": {},
     "output_type": "execute_result"
    }
   ],
   "source": [
    "H0=Hits.sort_values(['auc','p_val'],ascending=[True,False]).query(\"auc>0.1 and p_val<0.5\")\n",
    "H0"
   ]
  },
  {
   "cell_type": "markdown",
   "metadata": {},
   "source": [
    "## Visualize predictions"
   ]
  },
  {
   "cell_type": "code",
   "execution_count": 75,
   "metadata": {},
   "outputs": [
    {
     "data": {
      "text/plain": [
       "<matplotlib.legend.Legend at 0x7ff69bd87a10>"
      ]
     },
     "execution_count": 75,
     "metadata": {},
     "output_type": "execute_result"
    },
    {
     "data": {
      "image/png": "[encoded data removed]",
      "text/plain": [
       "<matplotlib.figure.Figure at 0x7ff69bfe8590>"
      ]
     },
     "metadata": {},
     "output_type": "display_data"
    }
   ],
   "source": [
    "pl.title(\"GenRA Predictions for %s\" % C0['name'])\n",
    "H0['auc'].plot.barh(color='grey',alpha=0.4,stacked=True)\n",
    "H0['p_val'].plot.barh(color='red',alpha=1,width=0.2,stacked=True)\n",
    "pl.legend()"
   ]
  },
  {
   "cell_type": "markdown",
   "metadata": {},
   "source": [
    "# A few more examples\n"
   ]
  },
  {
   "cell_type": "code",
   "execution_count": 79,
   "metadata": {},
   "outputs": [
    {
     "data": {
      "text/plain": [
       "<matplotlib.legend.Legend at 0x7ff69a8bf2d0>"
      ]
     },
     "execution_count": 79,
     "metadata": {},
     "output_type": "execute_result"
    },
    {
     "data": {
      "image/png": "[encoded data removed]",
      "text/plain": [
       "<matplotlib.figure.Figure at 0x7ff69aedfc90>"
      ]
     },
     "metadata": {},
     "output_type": "display_data"
    }
   ],
   "source": [
    "C0 = DB.compounds.find_one(dict(name='Troglitazone'),dict(_id=0,synonyms=0))\n",
    "sid = C0['dsstox_sid']\n",
    "Hits = pd.DataFrame(runGenRA(sid,DB=DB,s0=0.05,k0=20,dbg=False,sel_by='toxp_txrf')).set_index('out')\n",
    "#H0=Hits.sort_values(['auc','p_val'],ascending=[True,False]).query(\"auc>0.1 and p_val<0.5\")\n",
    "H0=Hits.sort_values(['auc','p_val'],ascending=[True,False]).query(\"auc>0.1 and p_val<0.5\").iloc[:10]\n",
    "pl.title(\"GenRA Predictions for %s\" % C0['name'])\n",
    "H0['auc'].plot.barh(color='grey',alpha=0.4,stacked=True)\n",
    "H0['p_val'].plot.barh(color='red',alpha=1,width=0.2,stacked=True)\n",
    "pl.legend()"
   ]
  },
  {
   "cell_type": "code",
   "execution_count": 84,
   "metadata": {},
   "outputs": [
    {
     "data": {
      "text/plain": [
       "<matplotlib.legend.Legend at 0x7ff69ab8fe50>"
      ]
     },
     "execution_count": 84,
     "metadata": {},
     "output_type": "execute_result"
    },
    {
     "data": {
      "image/png": "[encoded data removed]",
      "text/plain": [
       "<matplotlib.figure.Figure at 0x7ff69b220d50>"
      ]
     },
     "metadata": {},
     "output_type": "display_data"
    }
   ],
   "source": [
    "C0 = DB.compounds.find_one(dict(name='Pioglitazone'),dict(_id=0,synonyms=0))\n",
    "sid = C0['dsstox_sid']\n",
    "Hits = pd.DataFrame(runGenRA(sid,DB=DB,s0=0.05,k0=20,dbg=False,sel_by='toxp_txrf')).set_index('out')\n",
    "#H0=Hits.sort_values(['auc','p_val'],ascending=[True,False]).query(\"auc>0.1 and p_val<0.5\")\n",
    "H0=Hits.sort_values(['auc','p_val'],ascending=[True,False]).iloc[-10:]\n",
    "pl.title(\"GenRA Predictions for %s\" % C0['name'])\n",
    "H0['auc'].plot.barh(color='grey',alpha=0.4,stacked=True)\n",
    "H0['p_val'].plot.barh(color='red',alpha=1,width=0.2,stacked=True)\n",
    "pl.legend()"
   ]
  },
  {
   "cell_type": "code",
   "execution_count": 85,
   "metadata": {},
   "outputs": [
    {
     "data": {
      "text/plain": [
       "<matplotlib.legend.Legend at 0x7ff69a30fd10>"
      ]
     },
     "execution_count": 85,
     "metadata": {},
     "output_type": "execute_result"
    },
    {
     "data": {
      "image/png": "[encoded data removed]",
      "text/plain": [
       "<matplotlib.figure.Figure at 0x7ff69a2a3090>"
      ]
     },
     "metadata": {},
     "output_type": "display_data"
    }
   ],
   "source": [
    "C0 = DB.compounds.find_one(dict(name='Butachlor'),dict(_id=0,synonyms=0))\n",
    "sid = C0['dsstox_sid']\n",
    "Hits = pd.DataFrame(runGenRA(sid,DB=DB,s0=0.05,k0=20,dbg=False,sel_by='toxp_txrf')).set_index('out')\n",
    "H0=Hits.sort_values(['auc','p_val'],ascending=[True,False]).iloc[-10:]\n",
    "pl.title(\"GenRA Predictions for %s\" % C0['name'])\n",
    "H0['auc'].plot.barh(color='grey',alpha=0.4,stacked=True)\n",
    "H0['p_val'].plot.barh(color='red',alpha=1,width=0.2,stacked=True)\n",
    "pl.legend()"
   ]
  },
  {
   "cell_type": "code",
   "execution_count": 86,
   "metadata": {},
   "outputs": [
    {
     "data": {
      "text/plain": [
       "<matplotlib.legend.Legend at 0x7ff699c69650>"
      ]
     },
     "execution_count": 86,
     "metadata": {},
     "output_type": "execute_result"
    },
    {
     "data": {
      "image/png": "[encoded data removed]",
      "text/plain": [
       "<matplotlib.figure.Figure at 0x7ff69bd8a350>"
      ]
     },
     "metadata": {},
     "output_type": "display_data"
    }
   ],
   "source": [
    "C0 = DB.compounds.find_one(dict(name='Cycloheximide'),dict(_id=0,synonyms=0))\n",
    "sid = C0['dsstox_sid']\n",
    "Hits = pd.DataFrame(runGenRA(sid,DB=DB,s0=0.05,k0=20,dbg=False,sel_by='toxp_txrf')).set_index('out')\n",
    "H0=Hits.sort_values(['auc','p_val'],ascending=[True,False]).iloc[-10:]\n",
    "pl.title(\"GenRA Predictions for %s\" % C0['name'])\n",
    "H0['auc'].plot.barh(color='grey',alpha=0.4,stacked=True)\n",
    "H0['p_val'].plot.barh(color='red',alpha=1,width=0.2,stacked=True)\n",
    "pl.legend()"
   ]
  }
 ],
 "metadata": {
  "kernelspec": {
   "display_name": "Python 2",
   "language": "python",
   "name": "python2"
  },
  "language_info": {
   "codemirror_mode": {
    "name": "ipython",
    "version": 2
   },
   "file_extension": ".py",
   "mimetype": "text/x-python",
   "name": "python",
   "nbconvert_exporter": "python",
   "pygments_lexer": "ipython2",
   "version": "2.7.13"
  }
 },
 "nbformat": 4,
 "nbformat_minor": 2
}
