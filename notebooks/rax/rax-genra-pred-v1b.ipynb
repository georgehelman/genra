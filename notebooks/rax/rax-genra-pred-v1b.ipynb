{
 "cells": [
  {
   "cell_type": "code",
   "execution_count": null,
   "metadata": {},
   "outputs": [],
   "source": [
    "# %load ../env.py\n",
    "%load_ext autoreload\n",
    "%autoreload 2\n",
    "%pylab inline\n",
    "%matplotlib inline\n",
    "\n",
    "import matplotlib.text as text\n",
    "import pandas as pd\n",
    "import numpy as np\n",
    "import pylab as pl\n",
    "import scipy as sp\n",
    "import sys\n",
    "import rpy2 \n",
    "import os \n",
    "\n",
    "#Set environment variables\n",
    "\n",
    "\n",
    "# Set up the local source files\n",
    "TOP = '/'.join(os.getcwd().split('/')[:-2])+'/'\n",
    "#TOP = \"/share/home/ishah/ipynb/pb/HTTR_WF/\"\n",
    "\n",
    "LIB = TOP+'lib'\n",
    "if not LIB in sys.path: \n",
    "    sys.path.insert(0,LIB)\n",
    "\n",
    "os.environ['PYTHONPATH']=LIB\n",
    "\n",
    "\n",
    "DAT_DIR = TOP + '/data/'\n",
    "FIG_DIR = TOP + '/figs/'\n",
    "\n",
    "if not os.path.exists(DAT_DIR): os.mkdir(DAT_DIR)\n",
    "if not os.path.exists(FIG_DIR): os.mkdir(FIG_DIR)\n",
    "\n",
    "\n",
    "from db.mongo import *\n",
    "\n",
    "DB = openMongo(db='genra_dev_v4')"
   ]
  },
  {
   "cell_type": "markdown",
   "metadata": {},
   "source": [
    "## Load the genra prediction module"
   ]
  },
  {
   "cell_type": "code",
   "execution_count": null,
   "metadata": {},
   "outputs": [],
   "source": [
    "from rax.genrapred import *"
   ]
  },
  {
   "cell_type": "code",
   "execution_count": null,
   "metadata": {},
   "outputs": [],
   "source": [
    "help(runGenRA)"
   ]
  },
  {
   "cell_type": "markdown",
   "metadata": {},
   "source": [
    "## Find an example chemical "
   ]
  },
  {
   "cell_type": "code",
   "execution_count": null,
   "metadata": {},
   "outputs": [],
   "source": [
    "C0 = DB.compounds.find_one(dict(name='PFOA'),dict(_id=0,synonyms=0))\n",
    "sid = C0['dsstox_sid']\n",
    "C0"
   ]
  },
  {
   "cell_type": "markdown",
   "metadata": {},
   "source": [
    "## Run the GenRA Prediction"
   ]
  },
  {
   "cell_type": "code",
   "execution_count": null,
   "metadata": {},
   "outputs": [],
   "source": [
    "Hits = pd.DataFrame(runGenRA(sid,DB=DB,s0=0.05,k0=20,dbg=False,sel_by='toxp_txrf')).set_index('out')"
   ]
  },
  {
   "cell_type": "code",
   "execution_count": null,
   "metadata": {},
   "outputs": [],
   "source": [
    "H0=Hits.sort_values(['auc','p_val'],ascending=[True,False]).query(\"auc>0.1 and p_val<0.5\")\n",
    "H0"
   ]
  },
  {
   "cell_type": "markdown",
   "metadata": {},
   "source": [
    "## Visualize predictions"
   ]
  },
  {
   "cell_type": "code",
   "execution_count": null,
   "metadata": {},
   "outputs": [],
   "source": [
    "pl.title(\"GenRA Predictions for %s\" % C0['name'])\n",
    "H0['auc'].plot.barh(color='grey',alpha=0.4,stacked=True)\n",
    "H0['p_val'].plot.barh(color='red',alpha=1,width=0.2,stacked=True)\n",
    "pl.legend()"
   ]
  },
  {
   "cell_type": "markdown",
   "metadata": {},
   "source": [
    "# A few more examples\n"
   ]
  },
  {
   "cell_type": "code",
   "execution_count": null,
   "metadata": {},
   "outputs": [],
   "source": [
    "C0 = DB.compounds.find_one(dict(name='Troglitazone'),dict(_id=0,synonyms=0))\n",
    "sid = C0['dsstox_sid']\n",
    "Hits = pd.DataFrame(runGenRA(sid,DB=DB,s0=0.05,k0=20,dbg=False,sel_by='toxp_txrf')).set_index('out')\n",
    "#H0=Hits.sort_values(['auc','p_val'],ascending=[True,False]).query(\"auc>0.1 and p_val<0.5\")\n",
    "H0=Hits.sort_values(['auc','p_val'],ascending=[True,False]).query(\"auc>0.1 and p_val<0.5\").iloc[:10]\n",
    "pl.title(\"GenRA Predictions for %s\" % C0['name'])\n",
    "H0['auc'].plot.barh(color='grey',alpha=0.4,stacked=True)\n",
    "H0['p_val'].plot.barh(color='red',alpha=1,width=0.2,stacked=True)\n",
    "pl.legend()"
   ]
  },
  {
   "cell_type": "code",
   "execution_count": null,
   "metadata": {},
   "outputs": [],
   "source": [
    "C0 = DB.compounds.find_one(dict(name='Pioglitazone'),dict(_id=0,synonyms=0))\n",
    "sid = C0['dsstox_sid']\n",
    "Hits = pd.DataFrame(runGenRA(sid,DB=DB,s0=0.05,k0=20,dbg=False,sel_by='toxp_txrf')).set_index('out')\n",
    "#H0=Hits.sort_values(['auc','p_val'],ascending=[True,False]).query(\"auc>0.1 and p_val<0.5\")\n",
    "H0=Hits.sort_values(['auc','p_val'],ascending=[True,False]).iloc[-10:]\n",
    "pl.title(\"GenRA Predictions for %s\" % C0['name'])\n",
    "H0['auc'].plot.barh(color='grey',alpha=0.4,stacked=True)\n",
    "H0['p_val'].plot.barh(color='red',alpha=1,width=0.2,stacked=True)\n",
    "pl.legend()"
   ]
  },
  {
   "cell_type": "code",
   "execution_count": null,
   "metadata": {},
   "outputs": [],
   "source": [
    "C0 = DB.compounds.find_one(dict(name='Butachlor'),dict(_id=0,synonyms=0))\n",
    "sid = C0['dsstox_sid']\n",
    "Hits = pd.DataFrame(runGenRA(sid,DB=DB,s0=0.05,k0=20,dbg=False,sel_by='toxp_txrf')).set_index('out')\n",
    "H0=Hits.sort_values(['auc','p_val'],ascending=[True,False]).iloc[-10:]\n",
    "pl.title(\"GenRA Predictions for %s\" % C0['name'])\n",
    "H0['auc'].plot.barh(color='grey',alpha=0.4,stacked=True)\n",
    "H0['p_val'].plot.barh(color='red',alpha=1,width=0.2,stacked=True)\n",
    "pl.legend()"
   ]
  },
  {
   "cell_type": "code",
   "execution_count": null,
   "metadata": {},
   "outputs": [],
   "source": [
    "C0 = DB.compounds.find_one(dict(name='Cycloheximide'),dict(_id=0,synonyms=0))\n",
    "sid = C0['dsstox_sid']\n",
    "Hits = pd.DataFrame(runGenRA(sid,DB=DB,s0=0.05,k0=20,dbg=False,sel_by='toxp_txrf')).set_index('out')\n",
    "H0=Hits.sort_values(['auc','p_val'],ascending=[True,False]).iloc[-10:]\n",
    "pl.title(\"GenRA Predictions for %s\" % C0['name'])\n",
    "H0['auc'].plot.barh(color='grey',alpha=0.4,stacked=True)\n",
    "H0['p_val'].plot.barh(color='red',alpha=1,width=0.2,stacked=True)\n",
    "pl.legend()"
   ]
  }
 ],
 "metadata": {
  "language_info": {
   "name": "python",
   "pygments_lexer": "ipython3"
  }
 },
 "nbformat": 4,
 "nbformat_minor": 2
}
