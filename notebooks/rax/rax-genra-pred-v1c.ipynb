{
 "cells": [
  {
   "cell_type": "code",
   "execution_count": 1,
   "metadata": {},
   "outputs": [
    {
     "name": "stdout",
     "output_type": "stream",
     "text": [
      "Populating the interactive namespace from numpy and matplotlib\n"
     ]
    }
   ],
   "source": [
    "# %load ../env.py\n",
    "%load_ext autoreload\n",
    "%autoreload 2\n",
    "%pylab inline\n",
    "%matplotlib inline\n",
    "\n",
    "import matplotlib.text as text\n",
    "import pandas as pd\n",
    "import numpy as np\n",
    "import pylab as pl\n",
    "import scipy as sp\n",
    "import sys\n",
    "import rpy2 \n",
    "import os \n",
    "\n",
    "#Set environment variables\n",
    "\n",
    "\n",
    "# Set up the local source files\n",
    "TOP = '/'.join(os.getcwd().split('/')[:-2])+'/'\n",
    "#TOP = \"/share/home/ishah/ipynb/pb/HTTR_WF/\"\n",
    "\n",
    "LIB = TOP+'lib'\n",
    "if not LIB in sys.path: \n",
    "    sys.path.insert(0,LIB)\n",
    "\n",
    "os.environ['PYTHONPATH']=LIB\n",
    "\n",
    "\n",
    "DAT_DIR = TOP + '/data/'\n",
    "FIG_DIR = TOP + '/figs/'\n",
    "\n",
    "if not os.path.exists(DAT_DIR): os.mkdir(DAT_DIR)\n",
    "if not os.path.exists(FIG_DIR): os.mkdir(FIG_DIR)\n",
    "\n",
    "\n",
    "from db.mongo import *\n",
    "\n",
    "DB = openMongo(db='genra_dev_v4')"
   ]
  },
  {
   "cell_type": "markdown",
   "metadata": {},
   "source": [
    "## Load the genra prediction module"
   ]
  },
  {
   "cell_type": "code",
   "execution_count": 2,
   "metadata": {},
   "outputs": [],
   "source": [
    "from rax.genrapred import *"
   ]
  },
  {
   "cell_type": "markdown",
   "metadata": {},
   "source": [
    "## Find an example chemical "
   ]
  },
  {
   "cell_type": "code",
   "execution_count": 3,
   "metadata": {},
   "outputs": [
    {
     "data": {
      "text/plain": [
       "{u'casrn': u'335-67-1',\n",
       " u'chemspider_id': 9180,\n",
       " u'created_at': datetime.datetime(2017, 4, 24, 20, 32, 19),\n",
       " u'dsstox_cid': u'DTXCID6011865',\n",
       " u'dsstox_sid': u'DTXSID8031865',\n",
       " u'gsid': 31865,\n",
       " u'inchi_key': u'SNGREZUHAYWORS-UHFFFAOYSA-N',\n",
       " u'iupac': u'Pentadecafluorooctanoic acid',\n",
       " u'mol_weight': 414.07,\n",
       " u'name': u'PFOA',\n",
       " u'pubchem_cid': 9554,\n",
       " u'smiles': u'OC(=O)C(F)(F)C(F)(F)C(F)(F)C(F)(F)C(F)(F)C(F)(F)C(F)(F)F',\n",
       " u'updated_at': datetime.datetime(2017, 8, 30, 19, 10, 40)}"
      ]
     },
     "execution_count": 3,
     "metadata": {},
     "output_type": "execute_result"
    }
   ],
   "source": [
    "C0 = DB.compounds.find_one(dict(name='PFOA'),dict(_id=0,synonyms=0))\n",
    "sid = C0['dsstox_sid']\n",
    "C0"
   ]
  },
  {
   "cell_type": "markdown",
   "metadata": {},
   "source": [
    "## Run the GenRA Prediction"
   ]
  },
  {
   "cell_type": "code",
   "execution_count": 4,
   "metadata": {},
   "outputs": [
    {
     "name": "stderr",
     "output_type": "stream",
     "text": [
      "/opt/anaconda2/lib/python2.7/site-packages/sklearn/metrics/ranking.py:534: UndefinedMetricWarning: No negative samples in y_true, false positive value should be meaningless\n",
      "  UndefinedMetricWarning)\n"
     ]
    }
   ],
   "source": [
    "Hits = pd.DataFrame(runGenRA(sid,DB=DB,s0=0.05,k0=20,dbg=False,sel_by='toxp_txrf')).set_index('out')"
   ]
  },
  {
   "cell_type": "code",
   "execution_count": 5,
   "metadata": {},
   "outputs": [
    {
     "data": {
      "text/html": [
       "<div>\n",
       "<table border=\"1\" class=\"dataframe\">\n",
       "  <thead>\n",
       "    <tr style=\"text-align: right;\">\n",
       "      <th></th>\n",
       "      <th>a_p</th>\n",
       "      <th>a_s</th>\n",
       "      <th>a_t</th>\n",
       "      <th>auc</th>\n",
       "      <th>dsstox_sid</th>\n",
       "      <th>fp</th>\n",
       "      <th>k0</th>\n",
       "      <th>n_neg</th>\n",
       "      <th>n_pos</th>\n",
       "      <th>p_val</th>\n",
       "      <th>pred</th>\n",
       "      <th>s0</th>\n",
       "      <th>t0</th>\n",
       "    </tr>\n",
       "    <tr>\n",
       "      <th>out</th>\n",
       "      <th></th>\n",
       "      <th></th>\n",
       "      <th></th>\n",
       "      <th></th>\n",
       "      <th></th>\n",
       "      <th></th>\n",
       "      <th></th>\n",
       "      <th></th>\n",
       "      <th></th>\n",
       "      <th></th>\n",
       "      <th></th>\n",
       "      <th></th>\n",
       "      <th></th>\n",
       "    </tr>\n",
       "  </thead>\n",
       "  <tbody>\n",
       "    <tr>\n",
       "      <th>SUB:Adrenal Gland</th>\n",
       "      <td>0</td>\n",
       "      <td>0.120</td>\n",
       "      <td>None</td>\n",
       "      <td>0.500000</td>\n",
       "      <td>DTXSID8031865</td>\n",
       "      <td>chm_mrgn</td>\n",
       "      <td>20</td>\n",
       "      <td>12</td>\n",
       "      <td>4</td>\n",
       "      <td>0.46</td>\n",
       "      <td>Neg</td>\n",
       "      <td>0.05</td>\n",
       "      <td>0.176260</td>\n",
       "    </tr>\n",
       "    <tr>\n",
       "      <th>SUB:Seminal Vesicle</th>\n",
       "      <td>0</td>\n",
       "      <td>0.090</td>\n",
       "      <td>None</td>\n",
       "      <td>0.512821</td>\n",
       "      <td>DTXSID8031865</td>\n",
       "      <td>chm_mrgn</td>\n",
       "      <td>20</td>\n",
       "      <td>13</td>\n",
       "      <td>3</td>\n",
       "      <td>0.40</td>\n",
       "      <td>Neg</td>\n",
       "      <td>0.05</td>\n",
       "      <td>0.136390</td>\n",
       "    </tr>\n",
       "    <tr>\n",
       "      <th>MGR:Food Consumption</th>\n",
       "      <td>0</td>\n",
       "      <td>0.304</td>\n",
       "      <td>None</td>\n",
       "      <td>0.533333</td>\n",
       "      <td>DTXSID8031865</td>\n",
       "      <td>chm_mrgn</td>\n",
       "      <td>20</td>\n",
       "      <td>5</td>\n",
       "      <td>3</td>\n",
       "      <td>0.37</td>\n",
       "      <td>Neg</td>\n",
       "      <td>0.05</td>\n",
       "      <td>0.366333</td>\n",
       "    </tr>\n",
       "    <tr>\n",
       "      <th>SUB:Other</th>\n",
       "      <td>0</td>\n",
       "      <td>0.326</td>\n",
       "      <td>None</td>\n",
       "      <td>0.571429</td>\n",
       "      <td>DTXSID8031865</td>\n",
       "      <td>chm_mrgn</td>\n",
       "      <td>20</td>\n",
       "      <td>14</td>\n",
       "      <td>2</td>\n",
       "      <td>0.45</td>\n",
       "      <td>Neg</td>\n",
       "      <td>0.05</td>\n",
       "      <td>0.157344</td>\n",
       "    </tr>\n",
       "    <tr>\n",
       "      <th>SUB:Bone Marrow</th>\n",
       "      <td>0</td>\n",
       "      <td>0.096</td>\n",
       "      <td>None</td>\n",
       "      <td>0.666667</td>\n",
       "      <td>DTXSID8031865</td>\n",
       "      <td>chm_mrgn</td>\n",
       "      <td>20</td>\n",
       "      <td>13</td>\n",
       "      <td>3</td>\n",
       "      <td>0.20</td>\n",
       "      <td>Neg</td>\n",
       "      <td>0.05</td>\n",
       "      <td>0.187438</td>\n",
       "    </tr>\n",
       "    <tr>\n",
       "      <th>MGR:Stomach</th>\n",
       "      <td>0</td>\n",
       "      <td>0.115</td>\n",
       "      <td>None</td>\n",
       "      <td>0.666667</td>\n",
       "      <td>DTXSID8031865</td>\n",
       "      <td>chm_mrgn</td>\n",
       "      <td>20</td>\n",
       "      <td>6</td>\n",
       "      <td>2</td>\n",
       "      <td>0.31</td>\n",
       "      <td>Neg</td>\n",
       "      <td>0.05</td>\n",
       "      <td>0.112760</td>\n",
       "    </tr>\n",
       "    <tr>\n",
       "      <th>MGR:Mortality</th>\n",
       "      <td>1</td>\n",
       "      <td>0.115</td>\n",
       "      <td>None</td>\n",
       "      <td>0.666667</td>\n",
       "      <td>DTXSID8031865</td>\n",
       "      <td>chm_mrgn</td>\n",
       "      <td>20</td>\n",
       "      <td>6</td>\n",
       "      <td>2</td>\n",
       "      <td>0.16</td>\n",
       "      <td>Pos</td>\n",
       "      <td>0.05</td>\n",
       "      <td>0.112760</td>\n",
       "    </tr>\n",
       "    <tr>\n",
       "      <th>DEV:Liver</th>\n",
       "      <td>0</td>\n",
       "      <td>0.112</td>\n",
       "      <td>None</td>\n",
       "      <td>0.666667</td>\n",
       "      <td>DTXSID8031865</td>\n",
       "      <td>chm_mrgn</td>\n",
       "      <td>20</td>\n",
       "      <td>6</td>\n",
       "      <td>2</td>\n",
       "      <td>0.13</td>\n",
       "      <td>Neg</td>\n",
       "      <td>0.05</td>\n",
       "      <td>0.189812</td>\n",
       "    </tr>\n",
       "    <tr>\n",
       "      <th>DEV:Kidney</th>\n",
       "      <td>0</td>\n",
       "      <td>0.163</td>\n",
       "      <td>None</td>\n",
       "      <td>0.800000</td>\n",
       "      <td>DTXSID8031865</td>\n",
       "      <td>chm_mrgn</td>\n",
       "      <td>20</td>\n",
       "      <td>5</td>\n",
       "      <td>3</td>\n",
       "      <td>0.03</td>\n",
       "      <td>Neg</td>\n",
       "      <td>0.05</td>\n",
       "      <td>0.298850</td>\n",
       "    </tr>\n",
       "    <tr>\n",
       "      <th>MGR:Lung</th>\n",
       "      <td>0</td>\n",
       "      <td>0.115</td>\n",
       "      <td>None</td>\n",
       "      <td>0.833333</td>\n",
       "      <td>DTXSID8031865</td>\n",
       "      <td>chm_mrgn</td>\n",
       "      <td>20</td>\n",
       "      <td>6</td>\n",
       "      <td>2</td>\n",
       "      <td>0.08</td>\n",
       "      <td>Neg</td>\n",
       "      <td>0.05</td>\n",
       "      <td>0.143714</td>\n",
       "    </tr>\n",
       "  </tbody>\n",
       "</table>\n",
       "</div>"
      ],
      "text/plain": [
       "                      a_p    a_s   a_t       auc     dsstox_sid        fp  k0  \\\n",
       "out                                                                             \n",
       "SUB:Adrenal Gland       0  0.120  None  0.500000  DTXSID8031865  chm_mrgn  20   \n",
       "SUB:Seminal Vesicle     0  0.090  None  0.512821  DTXSID8031865  chm_mrgn  20   \n",
       "MGR:Food Consumption    0  0.304  None  0.533333  DTXSID8031865  chm_mrgn  20   \n",
       "SUB:Other               0  0.326  None  0.571429  DTXSID8031865  chm_mrgn  20   \n",
       "SUB:Bone Marrow         0  0.096  None  0.666667  DTXSID8031865  chm_mrgn  20   \n",
       "MGR:Stomach             0  0.115  None  0.666667  DTXSID8031865  chm_mrgn  20   \n",
       "MGR:Mortality           1  0.115  None  0.666667  DTXSID8031865  chm_mrgn  20   \n",
       "DEV:Liver               0  0.112  None  0.666667  DTXSID8031865  chm_mrgn  20   \n",
       "DEV:Kidney              0  0.163  None  0.800000  DTXSID8031865  chm_mrgn  20   \n",
       "MGR:Lung                0  0.115  None  0.833333  DTXSID8031865  chm_mrgn  20   \n",
       "\n",
       "                      n_neg  n_pos  p_val pred    s0        t0  \n",
       "out                                                             \n",
       "SUB:Adrenal Gland        12      4   0.46  Neg  0.05  0.176260  \n",
       "SUB:Seminal Vesicle      13      3   0.40  Neg  0.05  0.136390  \n",
       "MGR:Food Consumption      5      3   0.37  Neg  0.05  0.366333  \n",
       "SUB:Other                14      2   0.45  Neg  0.05  0.157344  \n",
       "SUB:Bone Marrow          13      3   0.20  Neg  0.05  0.187438  \n",
       "MGR:Stomach               6      2   0.31  Neg  0.05  0.112760  \n",
       "MGR:Mortality             6      2   0.16  Pos  0.05  0.112760  \n",
       "DEV:Liver                 6      2   0.13  Neg  0.05  0.189812  \n",
       "DEV:Kidney                5      3   0.03  Neg  0.05  0.298850  \n",
       "MGR:Lung                  6      2   0.08  Neg  0.05  0.143714  "
      ]
     },
     "execution_count": 5,
     "metadata": {},
     "output_type": "execute_result"
    }
   ],
   "source": [
    "H0=Hits.sort_values(['auc','p_val'],ascending=[True,False]).query(\"auc>0.1 and p_val<0.5\")\n",
    "H0"
   ]
  },
  {
   "cell_type": "markdown",
   "metadata": {},
   "source": [
    "## Visualize predictions"
   ]
  },
  {
   "cell_type": "code",
   "execution_count": 6,
   "metadata": {},
   "outputs": [
    {
     "data": {
      "text/plain": [
       "<matplotlib.legend.Legend at 0x7fbd962b8ed0>"
      ]
     },
     "execution_count": 6,
     "metadata": {},
     "output_type": "execute_result"
    },
    {
     "data": {
      "image/png": "[encoded data removed]",
      "text/plain": [
       "<matplotlib.figure.Figure at 0x7fbd9610cd50>"
      ]
     },
     "metadata": {},
     "output_type": "display_data"
    }
   ],
   "source": [
    "pl.title(\"GenRA Predictions for %s\" % C0['name'])\n",
    "H0['auc'].plot.barh(color='grey',alpha=0.4,stacked=True)\n",
    "H0['p_val'].plot.barh(color='red',alpha=1,width=0.2,stacked=True)\n",
    "pl.legend()"
   ]
  },
  {
   "cell_type": "markdown",
   "metadata": {},
   "source": [
    "# Parallelize\n",
    "\n"
   ]
  },
  {
   "cell_type": "code",
   "execution_count": 7,
   "metadata": {},
   "outputs": [
    {
     "name": "stdout",
     "output_type": "stream",
     "text": [
      "db  env.py  old  parenv.py  rax\r\n"
     ]
    }
   ],
   "source": [
    "!ls ../"
   ]
  },
  {
   "cell_type": "code",
   "execution_count": 29,
   "metadata": {},
   "outputs": [
    {
     "ename": "IOError",
     "evalue": "Connection file 'file:/share/home/ishah/profile_chiron_clust/security/ipcontroller-client.json' not found. Is a controller running?",
     "output_type": "error",
     "traceback": [
      "\u001b[0;31m---------------------------------------------------------------------------\u001b[0m",
      "\u001b[0;31mIOError\u001b[0m                                   Traceback (most recent call last)",
      "\u001b[0;32m<ipython-input-29-efab9e99ec93>\u001b[0m in \u001b[0;36m<module>\u001b[0;34m()\u001b[0m\n\u001b[1;32m      1\u001b[0m \u001b[0;32mimport\u001b[0m \u001b[0mipyparallel\u001b[0m \u001b[0;32mas\u001b[0m \u001b[0mPP\u001b[0m\u001b[0;34m\u001b[0m\u001b[0m\n\u001b[1;32m      2\u001b[0m \u001b[0;34m\u001b[0m\u001b[0m\n\u001b[0;32m----> 3\u001b[0;31m \u001b[0mRC\u001b[0m\u001b[0;34m=\u001b[0m\u001b[0mPP\u001b[0m\u001b[0;34m.\u001b[0m\u001b[0mClient\u001b[0m\u001b[0;34m(\u001b[0m\u001b[0murl_file\u001b[0m\u001b[0;34m=\u001b[0m\u001b[0;34m'file:/share/home/ishah/profile_chiron_clust/security/ipcontroller-client.json'\u001b[0m\u001b[0;34m)\u001b[0m\u001b[0;34m\u001b[0m\u001b[0m\n\u001b[0m\u001b[1;32m      4\u001b[0m \u001b[0md_view\u001b[0m\u001b[0;34m=\u001b[0m\u001b[0mRC\u001b[0m\u001b[0;34m[\u001b[0m\u001b[0;34m:\u001b[0m\u001b[0;34m]\u001b[0m\u001b[0;34m\u001b[0m\u001b[0m\n\u001b[1;32m      5\u001b[0m \u001b[0mlb_view\u001b[0m \u001b[0;34m=\u001b[0m \u001b[0mRC\u001b[0m\u001b[0;34m.\u001b[0m\u001b[0mload_balanced_view\u001b[0m\u001b[0;34m(\u001b[0m\u001b[0;34m)\u001b[0m\u001b[0;34m\u001b[0m\u001b[0m\n",
      "\u001b[0;32m/opt/anaconda2/lib/python2.7/site-packages/ipyparallel/client/client.pyc\u001b[0m in \u001b[0;36m__init__\u001b[0;34m(self, url_file, profile, profile_dir, ipython_dir, context, debug, sshserver, sshkey, password, paramiko, timeout, cluster_id, **extra_args)\u001b[0m\n\u001b[1;32m    402\u001b[0m             \u001b[0;31m# Connection file explicitly specified, but not found\u001b[0m\u001b[0;34m\u001b[0m\u001b[0;34m\u001b[0m\u001b[0m\n\u001b[1;32m    403\u001b[0m             raise IOError(\"Connection file %r not found. Is a controller running?\" % \\\n\u001b[0;32m--> 404\u001b[0;31m                 \u001b[0mcompress_user\u001b[0m\u001b[0;34m(\u001b[0m\u001b[0murl_file\u001b[0m\u001b[0;34m)\u001b[0m\u001b[0;34m\u001b[0m\u001b[0m\n\u001b[0m\u001b[1;32m    405\u001b[0m             )\n\u001b[1;32m    406\u001b[0m \u001b[0;34m\u001b[0m\u001b[0m\n",
      "\u001b[0;31mIOError\u001b[0m: Connection file 'file:/share/home/ishah/profile_chiron_clust/security/ipcontroller-client.json' not found. Is a controller running?"
     ]
    }
   ],
   "source": [
    "import ipyparallel as PP\n",
    "\n",
    "RC=PP.Client(url_file='file:/share/home/ishah/profile_chiron_clust/security/ipcontroller-client.json')\n",
    "d_view=RC[:]\n",
    "lb_view = RC.load_balanced_view()\n",
    "lb_view.block = True\n",
    "x=file(\"../env.py\",'r').read()\n",
    "d_view.execute(x)"
   ]
  },
  {
   "cell_type": "code",
   "execution_count": 24,
   "metadata": {},
   "outputs": [
    {
     "data": {
      "text/plain": [
       "<AsyncResult: execute>"
      ]
     },
     "execution_count": 24,
     "metadata": {},
     "output_type": "execute_result"
    }
   ],
   "source": [
    "d_view.execute(\"from rax.genrapred import *\")\n",
    "d_view.execute(\"2+2\")"
   ]
  },
  {
   "cell_type": "code",
   "execution_count": 20,
   "metadata": {},
   "outputs": [
    {
     "ename": "CompositeError",
     "evalue": "one or more exceptions from call to method: <lambda>\n[3:apply]: NameError: global name 'DB' is not defined",
     "output_type": "error",
     "traceback": [
      "[3:apply]: ",
      "\u001b[0;31m---------------------------------------------------------------------------\u001b[0m\u001b[0;31mNameError\u001b[0m                                 Traceback (most recent call last)\u001b[0;32m<string>\u001b[0m in \u001b[0;36m<module>\u001b[0;34m()\u001b[0m",
      "\u001b[0;32m<ipython-input-20-0026b6289df8>\u001b[0m in \u001b[0;36m<lambda>\u001b[0;34m(x)\u001b[0m",
      "\u001b[0;31mNameError\u001b[0m: global name 'DB' is not defined",
      ""
     ]
    }
   ],
   "source": [
    "d_view.map_sync(lambda x: DB.httr_raw.count(),range(10))"
   ]
  },
  {
   "cell_type": "code",
   "execution_count": 18,
   "metadata": {},
   "outputs": [
    {
     "data": {
      "text/plain": [
       "<AsyncResult: _push>"
      ]
     },
     "execution_count": 18,
     "metadata": {},
     "output_type": "execute_result"
    }
   ],
   "source": []
  },
  {
   "cell_type": "code",
   "execution_count": 14,
   "metadata": {},
   "outputs": [
    {
     "data": {
      "text/plain": [
       "<AsyncResult: _pull>"
      ]
     },
     "execution_count": 14,
     "metadata": {},
     "output_type": "execute_result"
    }
   ],
   "source": [
    "d_view.pull('x')"
   ]
  }
 ],
 "metadata": {
  "kernelspec": {
   "display_name": "Python 2",
   "language": "python",
   "name": "python2"
  },
  "language_info": {
   "codemirror_mode": {
    "name": "ipython",
    "version": 2
   },
   "file_extension": ".py",
   "mimetype": "text/x-python",
   "name": "python",
   "nbconvert_exporter": "python",
   "pygments_lexer": "ipython2",
   "version": "2.7.13"
  }
 },
 "nbformat": 4,
 "nbformat_minor": 2
}
