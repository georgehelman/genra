{
 "cells": [
  {
   "cell_type": "code",
   "execution_count": 10,
   "metadata": {},
   "outputs": [
    {
     "name": "stdout",
     "output_type": "stream",
     "text": [
      "The autoreload extension is already loaded. To reload it, use:\n",
      "  %reload_ext autoreload\n",
      "Populating the interactive namespace from numpy and matplotlib\n"
     ]
    },
    {
     "name": "stderr",
     "output_type": "stream",
     "text": [
      "/usr/local/anaconda2/lib/python2.7/site-packages/IPython/core/magics/pylab.py:161: UserWarning: pylab import has clobbered these variables: ['copy', 'text']\n",
      "`%matplotlib` prevents importing * from pylab and numpy\n",
      "  \"\\n`%matplotlib` prevents importing * from pylab and numpy\"\n"
     ]
    }
   ],
   "source": [
    "# %load ../env.py\n",
    "%load_ext autoreload\n",
    "%autoreload 2\n",
    "%pylab inline\n",
    "%matplotlib inline\n",
    "\n",
    "import matplotlib.text as text\n",
    "import pandas as pd\n",
    "import numpy as np\n",
    "import pylab as pl\n",
    "import scipy as sp\n",
    "import sys\n",
    "import rpy2 \n",
    "import os \n",
    "\n",
    "#Set environment variables\n",
    "\n",
    "\n",
    "# Set up the local source files\n",
    "#TOP = '/'.join(os.getcwd().split('/')[:-2])+'/'\n",
    "#TOP = \"/share/home/ishah/ipynb/chiron/genra-analysis/\"\n",
    "TOP = \"/share/home/ishah/ipynb/pb/GenRA/\"\n",
    "\n",
    "LIB = TOP+'lib'\n",
    "if not LIB in sys.path: \n",
    "    sys.path.insert(0,LIB)\n",
    "\n",
    "os.environ['PYTHONPATH']=LIB\n",
    "\n",
    "\n",
    "DAT_DIR = TOP + '/data/'\n",
    "FIG_DIR = TOP + '/figs/'\n",
    "\n",
    "if not os.path.exists(DAT_DIR): os.mkdir(DAT_DIR)\n",
    "if not os.path.exists(FIG_DIR): os.mkdir(FIG_DIR)\n",
    "\n",
    "\n",
    "from db.mongo import *\n",
    "\n",
    "DB = openMongo(db='genra_dev_v4')"
   ]
  },
  {
   "cell_type": "code",
   "execution_count": null,
   "metadata": {},
   "outputs": [],
   "source": []
  },
  {
   "cell_type": "markdown",
   "metadata": {},
   "source": [
    "## Load the genra prediction module"
   ]
  },
  {
   "cell_type": "code",
   "execution_count": 11,
   "metadata": {},
   "outputs": [],
   "source": [
    "from rax.genrapred import *"
   ]
  },
  {
   "cell_type": "markdown",
   "metadata": {},
   "source": [
    "## Find an example chemical "
   ]
  },
  {
   "cell_type": "code",
   "execution_count": 7,
   "metadata": {},
   "outputs": [
    {
     "data": {
      "text/plain": [
       "{u'casrn': u'1763-23-1',\n",
       " u'chemspider_id': 67068,\n",
       " u'created_at': datetime.datetime(2017, 4, 24, 20, 32, 19),\n",
       " u'dsstox_cid': u'DTXCID1011864',\n",
       " u'dsstox_sid': u'DTXSID3031864',\n",
       " u'gsid': 31864,\n",
       " u'inchi_key': u'YFSUTJLHUFNCNZ-UHFFFAOYSA-N',\n",
       " u'iupac': u'Heptadecafluorooctane-1-sulfonic acid',\n",
       " u'mol_weight': 500.13,\n",
       " u'name': u'PFOS',\n",
       " u'pubchem_cid': 74483,\n",
       " u'smiles': u'OS(=O)(=O)C(F)(F)C(F)(F)C(F)(F)C(F)(F)C(F)(F)C(F)(F)C(F)(F)C(F)(F)F',\n",
       " u'updated_at': datetime.datetime(2017, 8, 30, 19, 10, 40)}"
      ]
     },
     "execution_count": 7,
     "metadata": {},
     "output_type": "execute_result"
    }
   ],
   "source": [
    "C0 = DB.compounds.find_one(dict(name='PFOS'),dict(_id=0,synonyms=0))\n",
    "sid = C0['dsstox_sid']\n",
    "C0"
   ]
  },
  {
   "cell_type": "markdown",
   "metadata": {},
   "source": [
    "## Run the GenRA Prediction"
   ]
  },
  {
   "cell_type": "code",
   "execution_count": 21,
   "metadata": {},
   "outputs": [],
   "source": [
    "saveRunGenRA(sid,col_save='pred_is_v1',DB=DB,s0=0.05,k0=10,dbg=False,sel_by='toxp_txrf')"
   ]
  },
  {
   "cell_type": "code",
   "execution_count": 22,
   "metadata": {},
   "outputs": [
    {
     "data": {
      "text/plain": [
       "226"
      ]
     },
     "execution_count": 22,
     "metadata": {},
     "output_type": "execute_result"
    }
   ],
   "source": [
    "DB.pred_is_v1.count()"
   ]
  },
  {
   "cell_type": "code",
   "execution_count": 7,
   "metadata": {},
   "outputs": [
    {
     "name": "stderr",
     "output_type": "stream",
     "text": [
      "/usr/local/anaconda2/lib/python2.7/site-packages/sklearn/metrics/ranking.py:534: UndefinedMetricWarning: No negative samples in y_true, false positive value should be meaningless\n",
      "  UndefinedMetricWarning)\n"
     ]
    }
   ],
   "source": [
    "Hits = pd.DataFrame(runGenRA(sid,DB=DB,s0=0.05,k0=20,dbg=False,sel_by='toxp_txrf')).set_index('out')"
   ]
  },
  {
   "cell_type": "code",
   "execution_count": 8,
   "metadata": {},
   "outputs": [
    {
     "data": {
      "text/html": [
       "<div>\n",
       "<table border=\"1\" class=\"dataframe\">\n",
       "  <thead>\n",
       "    <tr style=\"text-align: right;\">\n",
       "      <th></th>\n",
       "      <th>a_p</th>\n",
       "      <th>a_s</th>\n",
       "      <th>a_t</th>\n",
       "      <th>auc</th>\n",
       "      <th>dsstox_sid</th>\n",
       "      <th>fp</th>\n",
       "      <th>k0</th>\n",
       "      <th>n_neg</th>\n",
       "      <th>n_pos</th>\n",
       "      <th>p_val</th>\n",
       "      <th>pred</th>\n",
       "      <th>s0</th>\n",
       "      <th>t0</th>\n",
       "    </tr>\n",
       "    <tr>\n",
       "      <th>out</th>\n",
       "      <th></th>\n",
       "      <th></th>\n",
       "      <th></th>\n",
       "      <th></th>\n",
       "      <th></th>\n",
       "      <th></th>\n",
       "      <th></th>\n",
       "      <th></th>\n",
       "      <th></th>\n",
       "      <th></th>\n",
       "      <th></th>\n",
       "      <th></th>\n",
       "      <th></th>\n",
       "    </tr>\n",
       "  </thead>\n",
       "  <tbody>\n",
       "    <tr>\n",
       "      <th>SUB:Adrenal Gland</th>\n",
       "      <td>0</td>\n",
       "      <td>0.120</td>\n",
       "      <td>None</td>\n",
       "      <td>0.500000</td>\n",
       "      <td>DTXSID8031865</td>\n",
       "      <td>chm_mrgn</td>\n",
       "      <td>20</td>\n",
       "      <td>12</td>\n",
       "      <td>4</td>\n",
       "      <td>0.48</td>\n",
       "      <td>Neg</td>\n",
       "      <td>0.05</td>\n",
       "      <td>0.176260</td>\n",
       "    </tr>\n",
       "    <tr>\n",
       "      <th>CHR:Stomach</th>\n",
       "      <td>0</td>\n",
       "      <td>0.232</td>\n",
       "      <td>None</td>\n",
       "      <td>0.500000</td>\n",
       "      <td>DTXSID8031865</td>\n",
       "      <td>chm_mrgn</td>\n",
       "      <td>20</td>\n",
       "      <td>4</td>\n",
       "      <td>3</td>\n",
       "      <td>0.33</td>\n",
       "      <td>Neg</td>\n",
       "      <td>0.05</td>\n",
       "      <td>0.401701</td>\n",
       "    </tr>\n",
       "    <tr>\n",
       "      <th>SUB:Seminal Vesicle</th>\n",
       "      <td>0</td>\n",
       "      <td>0.090</td>\n",
       "      <td>None</td>\n",
       "      <td>0.512821</td>\n",
       "      <td>DTXSID8031865</td>\n",
       "      <td>chm_mrgn</td>\n",
       "      <td>20</td>\n",
       "      <td>13</td>\n",
       "      <td>3</td>\n",
       "      <td>0.47</td>\n",
       "      <td>Neg</td>\n",
       "      <td>0.05</td>\n",
       "      <td>0.136390</td>\n",
       "    </tr>\n",
       "    <tr>\n",
       "      <th>MGR:Food Consumption</th>\n",
       "      <td>0</td>\n",
       "      <td>0.304</td>\n",
       "      <td>None</td>\n",
       "      <td>0.533333</td>\n",
       "      <td>DTXSID8031865</td>\n",
       "      <td>chm_mrgn</td>\n",
       "      <td>20</td>\n",
       "      <td>5</td>\n",
       "      <td>3</td>\n",
       "      <td>0.48</td>\n",
       "      <td>Neg</td>\n",
       "      <td>0.05</td>\n",
       "      <td>0.366333</td>\n",
       "    </tr>\n",
       "    <tr>\n",
       "      <th>SUB:Other</th>\n",
       "      <td>0</td>\n",
       "      <td>0.326</td>\n",
       "      <td>None</td>\n",
       "      <td>0.571429</td>\n",
       "      <td>DTXSID8031865</td>\n",
       "      <td>chm_mrgn</td>\n",
       "      <td>20</td>\n",
       "      <td>14</td>\n",
       "      <td>2</td>\n",
       "      <td>0.27</td>\n",
       "      <td>Neg</td>\n",
       "      <td>0.05</td>\n",
       "      <td>0.157344</td>\n",
       "    </tr>\n",
       "    <tr>\n",
       "      <th>SUB:Bone Marrow</th>\n",
       "      <td>0</td>\n",
       "      <td>0.096</td>\n",
       "      <td>None</td>\n",
       "      <td>0.666667</td>\n",
       "      <td>DTXSID8031865</td>\n",
       "      <td>chm_mrgn</td>\n",
       "      <td>20</td>\n",
       "      <td>13</td>\n",
       "      <td>3</td>\n",
       "      <td>0.21</td>\n",
       "      <td>Neg</td>\n",
       "      <td>0.05</td>\n",
       "      <td>0.187438</td>\n",
       "    </tr>\n",
       "    <tr>\n",
       "      <th>MGR:Stomach</th>\n",
       "      <td>0</td>\n",
       "      <td>0.115</td>\n",
       "      <td>None</td>\n",
       "      <td>0.666667</td>\n",
       "      <td>DTXSID8031865</td>\n",
       "      <td>chm_mrgn</td>\n",
       "      <td>20</td>\n",
       "      <td>6</td>\n",
       "      <td>2</td>\n",
       "      <td>0.29</td>\n",
       "      <td>Neg</td>\n",
       "      <td>0.05</td>\n",
       "      <td>0.112760</td>\n",
       "    </tr>\n",
       "    <tr>\n",
       "      <th>MGR:Mortality</th>\n",
       "      <td>0</td>\n",
       "      <td>0.115</td>\n",
       "      <td>None</td>\n",
       "      <td>0.666667</td>\n",
       "      <td>DTXSID8031865</td>\n",
       "      <td>chm_mrgn</td>\n",
       "      <td>20</td>\n",
       "      <td>6</td>\n",
       "      <td>2</td>\n",
       "      <td>0.28</td>\n",
       "      <td>Neg</td>\n",
       "      <td>0.05</td>\n",
       "      <td>0.112760</td>\n",
       "    </tr>\n",
       "    <tr>\n",
       "      <th>DEV:Liver</th>\n",
       "      <td>0</td>\n",
       "      <td>0.112</td>\n",
       "      <td>None</td>\n",
       "      <td>0.666667</td>\n",
       "      <td>DTXSID8031865</td>\n",
       "      <td>chm_mrgn</td>\n",
       "      <td>20</td>\n",
       "      <td>6</td>\n",
       "      <td>2</td>\n",
       "      <td>0.17</td>\n",
       "      <td>Neg</td>\n",
       "      <td>0.05</td>\n",
       "      <td>0.189812</td>\n",
       "    </tr>\n",
       "    <tr>\n",
       "      <th>DEV:Kidney</th>\n",
       "      <td>0</td>\n",
       "      <td>0.163</td>\n",
       "      <td>None</td>\n",
       "      <td>0.800000</td>\n",
       "      <td>DTXSID8031865</td>\n",
       "      <td>chm_mrgn</td>\n",
       "      <td>20</td>\n",
       "      <td>5</td>\n",
       "      <td>3</td>\n",
       "      <td>0.07</td>\n",
       "      <td>Neg</td>\n",
       "      <td>0.05</td>\n",
       "      <td>0.298850</td>\n",
       "    </tr>\n",
       "    <tr>\n",
       "      <th>MGR:Lung</th>\n",
       "      <td>0</td>\n",
       "      <td>0.115</td>\n",
       "      <td>None</td>\n",
       "      <td>0.833333</td>\n",
       "      <td>DTXSID8031865</td>\n",
       "      <td>chm_mrgn</td>\n",
       "      <td>20</td>\n",
       "      <td>6</td>\n",
       "      <td>2</td>\n",
       "      <td>0.09</td>\n",
       "      <td>Neg</td>\n",
       "      <td>0.05</td>\n",
       "      <td>0.143714</td>\n",
       "    </tr>\n",
       "  </tbody>\n",
       "</table>\n",
       "</div>"
      ],
      "text/plain": [
       "                      a_p    a_s   a_t       auc     dsstox_sid        fp  k0  \\\n",
       "out                                                                             \n",
       "SUB:Adrenal Gland       0  0.120  None  0.500000  DTXSID8031865  chm_mrgn  20   \n",
       "CHR:Stomach             0  0.232  None  0.500000  DTXSID8031865  chm_mrgn  20   \n",
       "SUB:Seminal Vesicle     0  0.090  None  0.512821  DTXSID8031865  chm_mrgn  20   \n",
       "MGR:Food Consumption    0  0.304  None  0.533333  DTXSID8031865  chm_mrgn  20   \n",
       "SUB:Other               0  0.326  None  0.571429  DTXSID8031865  chm_mrgn  20   \n",
       "SUB:Bone Marrow         0  0.096  None  0.666667  DTXSID8031865  chm_mrgn  20   \n",
       "MGR:Stomach             0  0.115  None  0.666667  DTXSID8031865  chm_mrgn  20   \n",
       "MGR:Mortality           0  0.115  None  0.666667  DTXSID8031865  chm_mrgn  20   \n",
       "DEV:Liver               0  0.112  None  0.666667  DTXSID8031865  chm_mrgn  20   \n",
       "DEV:Kidney              0  0.163  None  0.800000  DTXSID8031865  chm_mrgn  20   \n",
       "MGR:Lung                0  0.115  None  0.833333  DTXSID8031865  chm_mrgn  20   \n",
       "\n",
       "                      n_neg  n_pos  p_val pred    s0        t0  \n",
       "out                                                             \n",
       "SUB:Adrenal Gland        12      4   0.48  Neg  0.05  0.176260  \n",
       "CHR:Stomach               4      3   0.33  Neg  0.05  0.401701  \n",
       "SUB:Seminal Vesicle      13      3   0.47  Neg  0.05  0.136390  \n",
       "MGR:Food Consumption      5      3   0.48  Neg  0.05  0.366333  \n",
       "SUB:Other                14      2   0.27  Neg  0.05  0.157344  \n",
       "SUB:Bone Marrow          13      3   0.21  Neg  0.05  0.187438  \n",
       "MGR:Stomach               6      2   0.29  Neg  0.05  0.112760  \n",
       "MGR:Mortality             6      2   0.28  Neg  0.05  0.112760  \n",
       "DEV:Liver                 6      2   0.17  Neg  0.05  0.189812  \n",
       "DEV:Kidney                5      3   0.07  Neg  0.05  0.298850  \n",
       "MGR:Lung                  6      2   0.09  Neg  0.05  0.143714  "
      ]
     },
     "execution_count": 8,
     "metadata": {},
     "output_type": "execute_result"
    }
   ],
   "source": [
    "H0=Hits.sort_values(['auc','p_val'],ascending=[True,False]).query(\"auc>0.1 and p_val<0.5\")\n",
    "H0"
   ]
  },
  {
   "cell_type": "markdown",
   "metadata": {},
   "source": [
    "## Visualize predictions"
   ]
  },
  {
   "cell_type": "code",
   "execution_count": 9,
   "metadata": {},
   "outputs": [
    {
     "data": {
      "text/plain": [
       "<matplotlib.legend.Legend at 0x7fac8691b150>"
      ]
     },
     "execution_count": 9,
     "metadata": {},
     "output_type": "execute_result"
    },
    {
     "data": {
      "image/png": "[encoded data removed]",
      "text/plain": [
       "<matplotlib.figure.Figure at 0x7fac8691be10>"
      ]
     },
     "metadata": {},
     "output_type": "display_data"
    }
   ],
   "source": [
    "pl.title(\"GenRA Predictions for %s\" % C0['name'])\n",
    "H0['auc'].plot.barh(color='grey',alpha=0.4,stacked=True)\n",
    "H0['p_val'].plot.barh(color='red',alpha=1,width=0.2,stacked=True)\n",
    "pl.legend()"
   ]
  },
  {
   "cell_type": "markdown",
   "metadata": {},
   "source": [
    "# Parallelize\n",
    "\n",
    "`ipcluster start --profile=pb_parallel --n=50`\n"
   ]
  },
  {
   "cell_type": "code",
   "execution_count": 12,
   "metadata": {},
   "outputs": [
    {
     "data": {
      "text/plain": [
       "<AsyncResult: execute>"
      ]
     },
     "execution_count": 12,
     "metadata": {},
     "output_type": "execute_result"
    }
   ],
   "source": [
    "import ipyparallel as PP\n",
    "\n",
    "RC=PP.Client(profile='pb_parallel')\n",
    "d_view=RC[:]\n",
    "lb_view = RC.load_balanced_view()\n",
    "lb_view.block = True\n",
    "x=file(\"../parenv.py\",'r').read()\n",
    "d_view.execute(x)"
   ]
  },
  {
   "cell_type": "code",
   "execution_count": 4,
   "metadata": {},
   "outputs": [
    {
     "data": {
      "text/plain": [
       "[748794,\n",
       " 748794,\n",
       " 748794,\n",
       " 748794,\n",
       " 748794,\n",
       " 748794,\n",
       " 748794,\n",
       " 748794,\n",
       " 748794,\n",
       " 748794]"
      ]
     },
     "execution_count": 4,
     "metadata": {},
     "output_type": "execute_result"
    }
   ],
   "source": [
    "d_view.map_sync(lambda x: DB.chm_fp.count(),range(10))"
   ]
  },
  {
   "cell_type": "code",
   "execution_count": 5,
   "metadata": {},
   "outputs": [
    {
     "data": {
      "text/plain": [
       "[u'pred_GH',\n",
       " u'logs',\n",
       " u'pred_gh',\n",
       " u'tox1_fp',\n",
       " u'tox_fp',\n",
       " u'compounds',\n",
       " u'chm_fp',\n",
       " u'pred_is_v1',\n",
       " u'bio_fp']"
      ]
     },
     "execution_count": 5,
     "metadata": {},
     "output_type": "execute_result"
    }
   ],
   "source": [
    "DB.collection_names()"
   ]
  },
  {
   "cell_type": "code",
   "execution_count": 4,
   "metadata": {},
   "outputs": [],
   "source": [
    "ALL_SID = [i['dsstox_sid'] for i in DB.chm_fp.find({},dict(dsstox_sid=1))]"
   ]
  },
  {
   "cell_type": "code",
   "execution_count": 13,
   "metadata": {},
   "outputs": [
    {
     "data": {
      "text/plain": [
       "u'DTXSID4021684'"
      ]
     },
     "execution_count": 13,
     "metadata": {},
     "output_type": "execute_result"
    }
   ],
   "source": [
    "sid = ALL_SID[1000]\n",
    "sid"
   ]
  },
  {
   "cell_type": "code",
   "execution_count": 8,
   "metadata": {},
   "outputs": [
    {
     "name": "stderr",
     "output_type": "stream",
     "text": [
      "/usr/local/anaconda2/lib/python2.7/site-packages/sklearn/metrics/ranking.py:534: UndefinedMetricWarning: No negative samples in y_true, false positive value should be meaningless\n",
      "  UndefinedMetricWarning)\n"
     ]
    }
   ],
   "source": [
    "saveRunGenRA(sid,col_save='pred_is_v1',DB=DB,s0=0.05,k0=10,dbg=False,sel_by='toxp_txrf')"
   ]
  },
  {
   "cell_type": "code",
   "execution_count": null,
   "metadata": {},
   "outputs": [
    {
     "name": "stdout",
     "output_type": "stream",
     "text": [
      "Start ...  2018-01-09 12:36:37 tasks =  748794\n",
      "DB.pred_is_v1 0\n"
     ]
    }
   ],
   "source": [
    "import datetime\n",
    "\n",
    "WORK=ALL_SID\n",
    "DB.pred_is_v1.delete_many({})\n",
    "\n",
    "print \"Start ... \", datetime.datetime.now().strftime(\"%Y-%m-%d %H:%M:%S\"), \"tasks = \",len(WORK)\n",
    "print \"DB.pred_is_v1\", DB.pred_is_v1.count()\n",
    "\n",
    "lb_view.map(lambda sid:\n",
    "            saveRunGenRA(sid,col_save='pred_is_v1',DB=DB,s0=0.05,k0=10,\n",
    "                         dbg=False,sel_by='toxp_txrf'),\n",
    "            WORK)\n",
    "\n",
    "print \"DB.pred_is_v1\", DB.pred_is_v1.count()\n",
    "print \"End \", datetime.datetime.now().strftime(\"%Y-%m-%d %H:%M:%S\"), \"tasks = \",len(WORK)\n",
    "\n"
   ]
  },
  {
   "cell_type": "code",
   "execution_count": null,
   "metadata": {},
   "outputs": [],
   "source": [
    "for i in [u'fp', u'n_neg', u'auc',u'a_t', u'dsstox_sid', u'a_p', u'pred', u's0', u't0',\n",
    "         u'n_pos', u'k0', u'p_val', u'a_s', u'out']:\n",
    "    print(i+\"...\")\n",
    "    DB.pred_is_v1.create_index(i)\n",
    "    "
   ]
  }
 ],
 "metadata": {
  "kernelspec": {
   "display_name": "Python 2",
   "language": "python",
   "name": "python2"
  },
  "language_info": {
   "codemirror_mode": {
    "name": "ipython",
    "version": 2
   },
   "file_extension": ".py",
   "mimetype": "text/x-python",
   "name": "python",
   "nbconvert_exporter": "python",
   "pygments_lexer": "ipython2",
   "version": "2.7.13"
  }
 },
 "nbformat": 4,
 "nbformat_minor": 2
}
