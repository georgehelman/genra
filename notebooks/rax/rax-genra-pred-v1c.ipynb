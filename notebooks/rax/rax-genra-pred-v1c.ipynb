{
 "cells": [
  {
   "cell_type": "code",
   "execution_count": null,
   "metadata": {},
   "outputs": [],
   "source": [
    "# %load ../env.py\n",
    "%load_ext autoreload\n",
    "%autoreload 2\n",
    "%pylab inline\n",
    "%matplotlib inline\n",
    "\n",
    "import matplotlib.text as text\n",
    "import pandas as pd\n",
    "import numpy as np\n",
    "import pylab as pl\n",
    "import scipy as sp\n",
    "import sys\n",
    "import rpy2 \n",
    "import os \n",
    "\n",
    "#Set environment variables\n",
    "\n",
    "\n",
    "# Set up the local source files\n",
    "#TOP = '/'.join(os.getcwd().split('/')[:-2])+'/'\n",
    "#TOP = \"/share/home/ishah/ipynb/chiron/genra-analysis/\"\n",
    "TOP = '/'.join(os.getcwd().split('/')[:-2])+'/'\n",
    "\n",
    "LIB = TOP+'lib'\n",
    "if not LIB in sys.path: \n",
    "    sys.path.insert(0,LIB)\n",
    "\n",
    "os.environ['PYTHONPATH']=LIB\n",
    "\n",
    "\n",
    "DAT_DIR = TOP + '/data/'\n",
    "FIG_DIR = TOP + '/figs/'\n",
    "\n",
    "if not os.path.exists(DAT_DIR): os.mkdir(DAT_DIR)\n",
    "if not os.path.exists(FIG_DIR): os.mkdir(FIG_DIR)\n",
    "\n",
    "\n",
    "from db.mongo import *\n",
    "\n",
    "DB = openMongo(db='genra_dev_v4')"
   ]
  },
  {
   "cell_type": "code",
   "execution_count": null,
   "metadata": {},
   "outputs": [],
   "source": [
    "TOP"
   ]
  },
  {
   "cell_type": "markdown",
   "metadata": {},
   "source": [
    "## Load the genra prediction module"
   ]
  },
  {
   "cell_type": "code",
   "execution_count": null,
   "metadata": {},
   "outputs": [],
   "source": [
    "from rax.genrapred import *"
   ]
  },
  {
   "cell_type": "markdown",
   "metadata": {},
   "source": [
    "## Find an example chemical "
   ]
  },
  {
   "cell_type": "code",
   "execution_count": null,
   "metadata": {},
   "outputs": [],
   "source": [
    "C0 = DB.compounds.find_one(dict(name='PFOS'),dict(_id=0,synonyms=0))\n",
    "sid = C0['dsstox_sid']\n",
    "C0"
   ]
  },
  {
   "cell_type": "markdown",
   "metadata": {},
   "source": [
    "## Run the GenRA Prediction"
   ]
  },
  {
   "cell_type": "code",
   "execution_count": null,
   "metadata": {},
   "outputs": [],
   "source": [
    "saveRunGenRA(sid,col_save='pred_is_v1',DB=DB,s0=0.05,k0=10,dbg=False,sel_by='toxp_txrf')"
   ]
  },
  {
   "cell_type": "code",
   "execution_count": null,
   "metadata": {},
   "outputs": [],
   "source": [
    "DB.pred_is_v1.count()"
   ]
  },
  {
   "cell_type": "code",
   "execution_count": null,
   "metadata": {},
   "outputs": [],
   "source": [
    "Hits = pd.DataFrame(runGenRA(sid,DB=DB,s0=0.05,k0=20,dbg=False,sel_by='toxp_txrf')).set_index('out')"
   ]
  },
  {
   "cell_type": "code",
   "execution_count": null,
   "metadata": {},
   "outputs": [],
   "source": [
    "H0=Hits.sort_values(['auc','p_val'],ascending=[True,False]).query(\"auc>0.1 and p_val<0.5\")\n",
    "H0"
   ]
  },
  {
   "cell_type": "markdown",
   "metadata": {},
   "source": [
    "## Visualize predictions"
   ]
  },
  {
   "cell_type": "code",
   "execution_count": null,
   "metadata": {},
   "outputs": [],
   "source": [
    "pl.title(\"GenRA Predictions for %s\" % C0['name'])\n",
    "H0['auc'].plot.barh(color='grey',alpha=0.4,stacked=True)\n",
    "H0['p_val'].plot.barh(color='red',alpha=1,width=0.2,stacked=True)\n",
    "pl.legend()"
   ]
  },
  {
   "cell_type": "markdown",
   "metadata": {},
   "source": [
    "# Parallelize\n",
    "\n",
    "`ipcluster start --profile=pb_parallel --n=50`\n"
   ]
  },
  {
   "cell_type": "code",
   "execution_count": null,
   "metadata": {},
   "outputs": [],
   "source": [
    "import ipyparallel as PP\n",
    "\n",
    "RC=PP.Client(profile='pb_parallel')\n",
    "d_view=RC[:]\n",
    "lb_view = RC.load_balanced_view()\n",
    "lb_view.block = True\n",
    "x=file(\"../parenv.py\",'r').read()\n",
    "d_view.execute(x)"
   ]
  },
  {
   "cell_type": "code",
   "execution_count": null,
   "metadata": {},
   "outputs": [],
   "source": [
    "d_view.map_sync(lambda x: DB.chm_fp.count(),range(10))"
   ]
  },
  {
   "cell_type": "code",
   "execution_count": null,
   "metadata": {},
   "outputs": [],
   "source": [
    "DB.collection_names()"
   ]
  },
  {
   "cell_type": "code",
   "execution_count": null,
   "metadata": {},
   "outputs": [],
   "source": [
    "ALL_SID = [i['dsstox_sid'] for i in DB.chm_fp.find({},dict(dsstox_sid=1))]"
   ]
  },
  {
   "cell_type": "code",
   "execution_count": null,
   "metadata": {},
   "outputs": [],
   "source": [
    "sid = ALL_SID[1000]\n",
    "sid"
   ]
  },
  {
   "cell_type": "code",
   "execution_count": null,
   "metadata": {},
   "outputs": [],
   "source": [
    "saveRunGenRA(sid,col_save='pred_is_v1',DB=DB,s0=0.05,k0=10,dbg=False,sel_by='toxp_txrf')"
   ]
  },
  {
   "cell_type": "code",
   "execution_count": null,
   "metadata": {},
   "outputs": [],
   "source": [
    "import datetime\n",
    "\n",
    "WORK=ALL_SID\n",
    "#DB.pred_is_v1.delete_many({})\n",
    "\n",
    "print \"Start ... \", datetime.datetime.now().strftime(\"%Y-%m-%d %H:%M:%S\"), \"tasks = \",len(WORK)\n",
    "print \"DB.pred_is_v1\", DB.pred_is_v1.count()\n",
    "\n",
    "lb_view.map(lambda sid:\n",
    "            saveRunGenRA(sid,col_save='pred_GH',DB=DB,s0=0.05,k0=10,\n",
    "                         dbg=False,sel_by='toxp_txrf'),\n",
    "            WORK)\n",
    "\n",
    "print \"DB.pred_is_v1\", DB.pred_is_v1.count()\n",
    "print \"End \", datetime.datetime.now().strftime(\"%Y-%m-%d %H:%M:%S\"), \"tasks = \",len(WORK)\n",
    "\n"
   ]
  },
  {
   "cell_type": "code",
   "execution_count": null,
   "metadata": {},
   "outputs": [],
   "source": [
    "for i in [u'fp', u'n_neg', u'auc',u'a_t', u'dsstox_sid', u'a_p', u'pred', u's0', u't0',\n",
    "         u'n_pos', u'k0', u'p_val', u'a_s', u'out']:\n",
    "    print(i+\"...\")\n",
    "    DB.pred_is_v1.create_index(i)\n",
    "    "
   ]
  },
  {
   "cell_type": "code",
   "execution_count": null,
   "metadata": {},
   "outputs": [],
   "source": []
  }
 ],
 "metadata": {
  "anaconda-cloud": {},
  "kernelspec": {
   "display_name": "Python [default]",
   "language": "python",
   "name": "python2"
  },
  "language_info": {
   "codemirror_mode": {
    "name": "ipython",
    "version": 2
   },
   "file_extension": ".py",
   "mimetype": "text/x-python",
   "name": "python",
   "nbconvert_exporter": "python",
   "pygments_lexer": "ipython2",
   "version": "2.7.12"
  }
 },
 "nbformat": 4,
 "nbformat_minor": 2
}
