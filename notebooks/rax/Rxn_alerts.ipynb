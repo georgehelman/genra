{
 "cells": [
  {
   "cell_type": "code",
   "execution_count": null,
   "metadata": {},
   "outputs": [],
   "source": [
    "import os\n",
    "import sys\n",
    "\n",
    "TOP = '/'.join(os.getcwd().split('/')[:-2])+'/'\n",
    "LIB = TOP+'lib'\n",
    "if not LIB in sys.path: \n",
    "    sys.path.insert(0,LIB)\n",
    "\n",
    "DAT_DIR = TOP + 'data/reaction/'\n",
    "FIG_DIR = TOP + 'figs/reaction/'"
   ]
  },
  {
   "cell_type": "code",
   "execution_count": null,
   "metadata": {},
   "outputs": [],
   "source": [
    "pwd"
   ]
  },
  {
   "cell_type": "code",
   "execution_count": null,
   "metadata": {},
   "outputs": [],
   "source": [
    "ls"
   ]
  },
  {
   "cell_type": "code",
   "execution_count": null,
   "metadata": {},
   "outputs": [],
   "source": [
    "import pandas as pd\n",
    "import numpy as np\n",
    "from rdkit import Chem\n",
    "from rdkit.Chem import AllChem\n",
    "from rdkit.Chem import Draw\n",
    "from rdkit.Chem.Draw import IPythonConsole\n"
   ]
  },
  {
   "cell_type": "code",
   "execution_count": null,
   "metadata": {},
   "outputs": [],
   "source": [
    "import matplotlib.pyplot as plt\n",
    "import seaborn as sns\n",
    "%matplotlib inline"
   ]
  },
  {
   "cell_type": "code",
   "execution_count": null,
   "metadata": {},
   "outputs": [],
   "source": [
    "df = pd.read_csv(DAT_DIR+'rxn_domains.csv')"
   ]
  },
  {
   "cell_type": "code",
   "execution_count": null,
   "metadata": {},
   "outputs": [],
   "source": [
    "df.head()"
   ]
  },
  {
   "cell_type": "code",
   "execution_count": null,
   "metadata": {},
   "outputs": [],
   "source": [
    "df = df.set_index('#')"
   ]
  },
  {
   "cell_type": "code",
   "execution_count": null,
   "metadata": {},
   "outputs": [],
   "source": [
    "#smarts_dict = {'acyl':{'[#6]-[#7]=C=S','[#6]-[#7]=C=O'}, 'sb':'[#6]-[#6](-[F,Cl,Br,I])=O'}"
   ]
  },
  {
   "cell_type": "code",
   "execution_count": null,
   "metadata": {},
   "outputs": [],
   "source": [
    "#smarts_dict"
   ]
  },
  {
   "cell_type": "code",
   "execution_count": null,
   "metadata": {},
   "outputs": [],
   "source": [
    "#dow_sm = [Chem.MolFromSmarts(element)for element in df['SMARTS_pattern']]"
   ]
  },
  {
   "cell_type": "code",
   "execution_count": null,
   "metadata": {},
   "outputs": [],
   "source": [
    "#smarts = ['[#6]-[#7]=C=O', '[#6]-[#7]=C=S']"
   ]
  },
  {
   "cell_type": "code",
   "execution_count": null,
   "metadata": {},
   "outputs": [],
   "source": [
    "#m = Chem.MolFromSmiles('c1ccccc1O')"
   ]
  },
  {
   "cell_type": "code",
   "execution_count": null,
   "metadata": {},
   "outputs": [],
   "source": [
    "def grouper(index):\n",
    "    floatindex = float(index)\n",
    "    intindex = int(floatindex)        \n",
    "    return intindex"
   ]
  },
  {
   "cell_type": "code",
   "execution_count": null,
   "metadata": {},
   "outputs": [],
   "source": [
    "smarts_df = df.groupby(grouper)"
   ]
  },
  {
   "cell_type": "code",
   "execution_count": null,
   "metadata": {},
   "outputs": [],
   "source": [
    "mech_dict = {}\n",
    "for i,group in smarts_df:\n",
    "    key = [name for name in group['Mech_Domain'] if name!=' '][0]\n",
    "    value = set(group['SMARTS_pattern'])\n",
    "    mech_dict[key]=value"
   ]
  },
  {
   "cell_type": "code",
   "execution_count": null,
   "metadata": {},
   "outputs": [],
   "source": [
    "''''test = {'Acyl': {'O=[#6]-1-[#8]-[#6](=O)-[#6]-2=[#6]-1-[#6]=[#6]-[#6]=[#6]-2',\n",
    "  'O=[#6]-1-[#8]-[#6](=O)-[#6]=[#6]-1',\n",
    "  'O=[#6]-1-[#8]-[#6](=O)-c2ccccc-12',\n",
    "  '[#6]-[#6](-[F,Cl,Br,I])=O',\n",
    "  '[#6]-[#6](=O)-[#8]-[#7]-1-[#6](=O)-[#6]-[#6]-[#6]-1=O',\n",
    "  '[#6]-[#6]-1=[#7]-[#6]-[#6](=O)-[#8]-1'}}"
   ]
  },
  {
   "cell_type": "code",
   "execution_count": null,
   "metadata": {},
   "outputs": [],
   "source": [
    "#Chem.MolFromSmarts('[#6]-[#6]-1=[#7]-[#6]-[#6](=O)-[#8]-1')"
   ]
  },
  {
   "cell_type": "code",
   "execution_count": null,
   "metadata": {},
   "outputs": [],
   "source": [
    "Dow_smarts = {k : [Chem.MolFromSmarts(s) for s in v] for k,v in mech_dict.items()}"
   ]
  },
  {
   "cell_type": "code",
   "execution_count": null,
   "metadata": {},
   "outputs": [],
   "source": [
    "#RDkit smarts for the set of reactivity alerts published by Dow. Dictionary of the smarts patterns\n",
    "Dow_smarts"
   ]
  },
  {
   "cell_type": "code",
   "execution_count": null,
   "metadata": {},
   "outputs": [],
   "source": [
    "# Test file from the Dow supplementary file of ~162 smiles\n",
    "''''rxn_smi = pd.read_csv('rxn_smi.csv')"
   ]
  },
  {
   "cell_type": "code",
   "execution_count": null,
   "metadata": {},
   "outputs": [],
   "source": [
    "#smaller subset of about 16 smiles strings as a test set to try out on the SMARTS patterns\n",
    "''''dows = pd.read_csv('dows.csv')"
   ]
  },
  {
   "cell_type": "code",
   "execution_count": null,
   "metadata": {},
   "outputs": [],
   "source": [
    "#dows"
   ]
  },
  {
   "cell_type": "code",
   "execution_count": null,
   "metadata": {},
   "outputs": [],
   "source": [
    "#smi_dict = { k:v for (k,v) in zip(rxn_smi['CAS_Number'], rxn_smi['SMILES'])}"
   ]
  },
  {
   "cell_type": "code",
   "execution_count": null,
   "metadata": {},
   "outputs": [],
   "source": [
    "#smi_smiles = {k : Chem.MolFromSmiles(v) for k,v in smi_dict.items()}"
   ]
  },
  {
   "cell_type": "code",
   "execution_count": null,
   "metadata": {},
   "outputs": [],
   "source": [
    "#dow_dict = { k:v for (k,v) in zip(dows['DTXSID'], dows['SMILES'])}"
   ]
  },
  {
   "cell_type": "code",
   "execution_count": null,
   "metadata": {},
   "outputs": [],
   "source": [
    "#dow_dict"
   ]
  },
  {
   "cell_type": "code",
   "execution_count": null,
   "metadata": {},
   "outputs": [],
   "source": [
    "#m = Chem.MolFromSmiles('BrCC1=CC=CC=C1')"
   ]
  },
  {
   "cell_type": "code",
   "execution_count": null,
   "metadata": {},
   "outputs": [],
   "source": [
    "#Chem.MolToSmiles(m)"
   ]
  },
  {
   "cell_type": "code",
   "execution_count": null,
   "metadata": {},
   "outputs": [],
   "source": [
    "#conv = {k : Chem.MolToSmiles(v) for k,v in Dow_smiles.items()}"
   ]
  },
  {
   "cell_type": "code",
   "execution_count": null,
   "metadata": {},
   "outputs": [],
   "source": [
    "#conv"
   ]
  },
  {
   "cell_type": "code",
   "execution_count": null,
   "metadata": {},
   "outputs": [],
   "source": [
    "#Dow_smiles = {k : Chem.MolFromSmiles(v) for k,v in dow_dict.items()}"
   ]
  },
  {
   "cell_type": "code",
   "execution_count": null,
   "metadata": {},
   "outputs": [],
   "source": [
    "#Dictionary of the Dow small test file to test out against the Dow reaction alerts\n",
    "#Dow_smiles\n"
   ]
  },
  {
   "cell_type": "code",
   "execution_count": null,
   "metadata": {},
   "outputs": [],
   "source": [
    "#a = list(map(lambda e:Chem.MolFromSmiles(e), dow_dict.values()))"
   ]
  },
  {
   "cell_type": "code",
   "execution_count": null,
   "metadata": {},
   "outputs": [],
   "source": [
    "#Large test file of 500 substances\n",
    "niceatm = pd.read_csv(DAT_DIR+'NICEATM_LLNA.csv')"
   ]
  },
  {
   "cell_type": "code",
   "execution_count": null,
   "metadata": {},
   "outputs": [],
   "source": [
    "niceatm.head()"
   ]
  },
  {
   "cell_type": "code",
   "execution_count": null,
   "metadata": {},
   "outputs": [],
   "source": [
    "#Dictionary of the niceatm chemicals\n",
    "niceatm_dict = { k:v for (k,v) in zip(niceatm['DTXSID'], niceatm['SMILES'])}"
   ]
  },
  {
   "cell_type": "code",
   "execution_count": null,
   "metadata": {},
   "outputs": [],
   "source": [
    "#niceatm rdkit dictionary\n",
    "niceatm_smiles = {k : Chem.MolFromSmiles(v) for k,v in niceatm_dict.items()}"
   ]
  },
  {
   "cell_type": "code",
   "execution_count": null,
   "metadata": {},
   "outputs": [],
   "source": [
    "#{x:[k for k, v in Dow_smarts.items() if any([x.HasSubstructMatch(e) for e in v])] for x in niceatm_smiles.values()}"
   ]
  },
  {
   "cell_type": "code",
   "execution_count": null,
   "metadata": {},
   "outputs": [],
   "source": [
    "niceatm_Dow = {x:[k for k, v in Dow_smarts.items() if any([y.HasSubstructMatch(e) for e in v])] for x,y in niceatm_smiles.items()}"
   ]
  },
  {
   "cell_type": "code",
   "execution_count": null,
   "metadata": {},
   "outputs": [],
   "source": [
    "niceatm_Enoch = {x:[k for k, v in enoch_smarts.items() if any([y.HasSubstructMatch(e) for e in v])] for x,y in niceatm_smiles.items()}"
   ]
  },
  {
   "cell_type": "code",
   "execution_count": null,
   "metadata": {},
   "outputs": [],
   "source": [
    "niceatm_OECD = {x:[k for k, v in oecd_smarts.items() if any([y.HasSubstructMatch(e) for e in v])] for x,y in niceatm_smiles.items()}"
   ]
  },
  {
   "cell_type": "code",
   "execution_count": null,
   "metadata": {},
   "outputs": [],
   "source": [
    "#chk = {k : Chem.MolToSmiles(k) for k,v in niceatm_Dow.items()}"
   ]
  },
  {
   "cell_type": "code",
   "execution_count": null,
   "metadata": {},
   "outputs": [],
   "source": [
    "#pd.DataFrame.from_dict([chk]).T.to_csv('chk_smiles.csv')\n",
    "pd.DataFrame.from_dict([niceatm_Dow]).T.to_csv('niceatm_Dow.csv')\n",
    "pd.DataFrame.from_dict([niceatm_Enoch]).T.to_csv('niceatm_Enoch.csv')\n",
    "pd.DataFrame.from_dict([niceatm_OECD]).T.to_csv('niceatm_OECD.csv')\n"
   ]
  },
  {
   "cell_type": "code",
   "execution_count": null,
   "metadata": {},
   "outputs": [],
   "source": [
    "pd.DataFrame.from_dict([niceatm_smiles]).T.to_csv('niceatm_smiles.csv')"
   ]
  },
  {
   "cell_type": "code",
   "execution_count": null,
   "metadata": {},
   "outputs": [],
   "source": [
    "#d2 = {x:[k for k, v in Dow_smarts.items() if any([x.HasSubstructMatch(e) for e in v])] for x in Dow_smiles.values()}"
   ]
  },
  {
   "cell_type": "code",
   "execution_count": null,
   "metadata": {},
   "outputs": [],
   "source": [
    "#len(d2)"
   ]
  },
  {
   "cell_type": "code",
   "execution_count": null,
   "metadata": {},
   "outputs": [],
   "source": [
    "#dsm  = [Chem.MolFromSmiles(element)for element in dows['SMILES']]"
   ]
  },
  {
   "cell_type": "code",
   "execution_count": null,
   "metadata": {},
   "outputs": [],
   "source": [
    "#d3 = {x:[k for k, v in Dow_smarts.items() if any([x.HasSubstructMatch(e) for e in v])] for x in dsm}"
   ]
  },
  {
   "cell_type": "code",
   "execution_count": null,
   "metadata": {},
   "outputs": [],
   "source": [
    "#d3 = {x:[k for k, v in Dow_smarts.items() if any([x.HasSubstructMatch(e) for e in v])] for x in smi_smiles.values()}"
   ]
  },
  {
   "cell_type": "code",
   "execution_count": null,
   "metadata": {},
   "outputs": [],
   "source": [
    "#pd.DataFrame.from_dict([smi_smiles]).T.to_csv('smi_smiles.csv')"
   ]
  },
  {
   "cell_type": "code",
   "execution_count": null,
   "metadata": {},
   "outputs": [],
   "source": [
    "#len(d3)"
   ]
  },
  {
   "cell_type": "code",
   "execution_count": null,
   "metadata": {},
   "outputs": [],
   "source": [
    "#chems = Chem.SDMolSupplier('1295.sdf')"
   ]
  },
  {
   "cell_type": "code",
   "execution_count": null,
   "metadata": {},
   "outputs": [],
   "source": [
    "#dd = {mol:[k for k, v in Dow_smarts.items() if any([mol.HasSubstructMatch(e) for e in v])] for mol in chems}"
   ]
  },
  {
   "cell_type": "code",
   "execution_count": null,
   "metadata": {},
   "outputs": [],
   "source": [
    "#len(dd)"
   ]
  },
  {
   "cell_type": "code",
   "execution_count": null,
   "metadata": {},
   "outputs": [],
   "source": [
    "enoch = pd.read_csv(DAT_DIR+'Enoch.csv')"
   ]
  },
  {
   "cell_type": "code",
   "execution_count": null,
   "metadata": {},
   "outputs": [],
   "source": [
    "enoch.head()"
   ]
  },
  {
   "cell_type": "code",
   "execution_count": null,
   "metadata": {},
   "outputs": [],
   "source": [
    "enoch_df = enoch.set_index('#')"
   ]
  },
  {
   "cell_type": "code",
   "execution_count": null,
   "metadata": {},
   "outputs": [],
   "source": [
    "enoch_df = enoch_df.groupby(grouper)"
   ]
  },
  {
   "cell_type": "code",
   "execution_count": null,
   "metadata": {},
   "outputs": [],
   "source": [
    "enoch_dict = {}\n",
    "for i,group in enoch_df:\n",
    "    key = [name for name in group['Mech'] if name!=' '][0]\n",
    "    value = set(group['SMARTS'])\n",
    "    enoch_dict[key]=value"
   ]
  },
  {
   "cell_type": "code",
   "execution_count": null,
   "metadata": {},
   "outputs": [],
   "source": [
    "enoch_smarts = {k : [Chem.MolFromSmarts(s) for s in v] for k,v in enoch_dict.items()}"
   ]
  },
  {
   "cell_type": "code",
   "execution_count": null,
   "metadata": {},
   "outputs": [],
   "source": [
    "#d5 = {x:[k for k, v in enoch_smarts.items() if any([x.HasSubstructMatch(e) for e in v])] for x in Dow_smiles.values()}"
   ]
  },
  {
   "cell_type": "code",
   "execution_count": null,
   "metadata": {},
   "outputs": [],
   "source": [
    "#d6 = {x:[k for k, v in enoch_smarts.items() if any([x.HasSubstructMatch(e) for e in v])] for x in smi_smiles.values()}"
   ]
  },
  {
   "cell_type": "code",
   "execution_count": null,
   "metadata": {},
   "outputs": [],
   "source": [
    "#d_6 = pd.DataFrame.from_dict([d6]).T.to_csv('d6_enoch_smarts.csv')"
   ]
  },
  {
   "cell_type": "code",
   "execution_count": null,
   "metadata": {},
   "outputs": [],
   "source": [
    "{k:len(v) for k,v in enoch_dict.items()}"
   ]
  },
  {
   "cell_type": "code",
   "execution_count": null,
   "metadata": {},
   "outputs": [],
   "source": [
    "{k:len(v) for k,v in enoch_dict.items()}\n",
    "{k:len(v) for k,v in mech_dict.items()}"
   ]
  },
  {
   "cell_type": "code",
   "execution_count": null,
   "metadata": {},
   "outputs": [],
   "source": [
    "enoch_crt = pd.read_csv(DAT_DIR+'Enoch_CRT.csv')"
   ]
  },
  {
   "cell_type": "code",
   "execution_count": null,
   "metadata": {},
   "outputs": [],
   "source": [
    "enoch_crt_df = enoch_crt.set_index('#')"
   ]
  },
  {
   "cell_type": "code",
   "execution_count": null,
   "metadata": {},
   "outputs": [],
   "source": [
    "enoch_crt = enoch_crt_df.groupby(grouper)"
   ]
  },
  {
   "cell_type": "code",
   "execution_count": null,
   "metadata": {},
   "outputs": [],
   "source": [
    "crt_dict = {}\n",
    "for i,group in enoch_crt:\n",
    "    key = [name for name in group['Mech'] if name!=' '][0]\n",
    "    value = set(group['SMARTS'])\n",
    "    crt_dict[key]=value"
   ]
  },
  {
   "cell_type": "code",
   "execution_count": null,
   "metadata": {},
   "outputs": [],
   "source": [
    "crt_dict"
   ]
  },
  {
   "cell_type": "code",
   "execution_count": null,
   "metadata": {},
   "outputs": [],
   "source": [
    "oecd_smarts = {k : [Chem.MolFromSmarts(s) for s in v] for k,v in crt_dict.items()}"
   ]
  },
  {
   "cell_type": "code",
   "execution_count": null,
   "metadata": {},
   "outputs": [],
   "source": [
    "crt_len = {k:len(v) for k,v in crt_dict.items()}"
   ]
  },
  {
   "cell_type": "code",
   "execution_count": null,
   "metadata": {},
   "outputs": [],
   "source": [
    "crt_len"
   ]
  },
  {
   "cell_type": "code",
   "execution_count": null,
   "metadata": {},
   "outputs": [],
   "source": [
    "enoch_len = {k:len(v) for k,v in enoch_dict.items()}\n",
    "dow_len = {k:len(v) for k,v in mech_dict.items()}"
   ]
  },
  {
   "cell_type": "code",
   "execution_count": null,
   "metadata": {},
   "outputs": [],
   "source": [
    "counts = pd.read_csv(DAT_DIR+'counts_mech.csv')"
   ]
  },
  {
   "cell_type": "code",
   "execution_count": null,
   "metadata": {},
   "outputs": [],
   "source": [
    "counts"
   ]
  },
  {
   "cell_type": "code",
   "execution_count": null,
   "metadata": {},
   "outputs": [],
   "source": [
    "counts.rename(columns = {'Unnamed: 0':'Mech'}, inplace = True)"
   ]
  },
  {
   "cell_type": "code",
   "execution_count": null,
   "metadata": {},
   "outputs": [],
   "source": [
    "counts"
   ]
  },
  {
   "cell_type": "code",
   "execution_count": null,
   "metadata": {},
   "outputs": [],
   "source": [
    "f,(ax1,ax2,ax3) = plt.subplots(1,3, figsize=(10,15), sharey = True)\n",
    "\n",
    "\n",
    "sns.barplot(x = '#Enoch_Patterns', y = 'Mech', color = 'b',label = \"Enoch_alerts\", data = counts, ax=ax1)\n",
    "sns.barplot(x = '#OECD_Patterns', y = 'Mech', color = 'g',label = \"OECD_Protein_binding_alerts\", data = counts, ax = ax2)\n",
    "sns.barplot(x = '#Dow_Patterns', y = 'Mech', color = 'y',label = \"Dow_rxn_alerts\", data = counts, ax= ax3)\n",
    "ax1.set_ylabel('Mech')\n",
    "ax2.set_ylabel('')\n",
    "ax3.set_ylabel('')\n",
    "\n",
    "\n",
    "ax1.set_xlabel('Enoch_alerts')\n",
    "ax2.set_xlabel('OECD_Protein_binding_alerts')\n",
    "ax3.set_xlabel('Dow_rxn_alerts')\n",
    "\n",
    "ax1.set(xlim=(0,40))\n",
    "ax2.set(xlim=(0,40))\n",
    "ax3.set(xlim=(0,40))"
   ]
  },
  {
   "cell_type": "code",
   "execution_count": null,
   "metadata": {},
   "outputs": [],
   "source": [
    "''''pd.DataFrame.from_dict([crt_len]).T.to_csv('crt_len.csv')\n",
    "pd.DataFrame.from_dict([enoch_len]).T.to_csv('enoch_len.csv')\n",
    "pd.DataFrame.from_dict([dow_len]).T.to_csv('dow_len.csv')"
   ]
  },
  {
   "cell_type": "code",
   "execution_count": null,
   "metadata": {},
   "outputs": [],
   "source": [
    "#d8 = {x:[k for k, v in oecd_smarts.items() if any([x.HasSubstructMatch(e) for e in v])] for x in Dow_smiles.values()}"
   ]
  },
  {
   "cell_type": "code",
   "execution_count": null,
   "metadata": {},
   "outputs": [],
   "source": [
    "#d9 = {x:[k for k, v in oecd_smarts.items() if any([x.HasSubstructMatch(e) for e in v])] for x in smi_smiles.values()}"
   ]
  },
  {
   "cell_type": "code",
   "execution_count": null,
   "metadata": {},
   "outputs": [],
   "source": [
    "#d_9 = pd.DataFrame.from_dict([d3]).T.to_csv('d9_OECD_smarts.csv')"
   ]
  },
  {
   "cell_type": "code",
   "execution_count": null,
   "metadata": {},
   "outputs": [],
   "source": [
    "comparisons = pd.read_csv('mech-cat.csv')"
   ]
  },
  {
   "cell_type": "code",
   "execution_count": null,
   "metadata": {},
   "outputs": [],
   "source": [
    "comparisons.head()"
   ]
  },
  {
   "cell_type": "code",
   "execution_count": null,
   "metadata": {},
   "outputs": [],
   "source": [
    "jrc = pd.read_csv(DAT_DIR+'JRC.csv')"
   ]
  },
  {
   "cell_type": "code",
   "execution_count": null,
   "metadata": {},
   "outputs": [],
   "source": [
    "jrc.head()"
   ]
  },
  {
   "cell_type": "code",
   "execution_count": null,
   "metadata": {},
   "outputs": [],
   "source": [
    "#Dictionary of the jrc chemicals\n",
    "jrc_dict = { k:v for (k,v) in zip(jrc['DTXSID'], jrc['SMILES'])}"
   ]
  },
  {
   "cell_type": "code",
   "execution_count": null,
   "metadata": {},
   "outputs": [],
   "source": [
    "#jrc rdkit dictionary\n",
    "jrc_smiles = {k : Chem.MolFromSmiles(v) for k,v in jrc_dict.items()}"
   ]
  },
  {
   "cell_type": "code",
   "execution_count": null,
   "metadata": {},
   "outputs": [],
   "source": [
    "jrc_Dow = {x:[k for k, v in Dow_smarts.items() if any([y.HasSubstructMatch(e) for e in v])] for x,y in jrc_smiles.items()}"
   ]
  },
  {
   "cell_type": "code",
   "execution_count": null,
   "metadata": {},
   "outputs": [],
   "source": [
    "jrc_Enoch = {x:[k for k, v in enoch_smarts.items() if any([y.HasSubstructMatch(e) for e in v])] for x,y in jrc_smiles.items()}"
   ]
  },
  {
   "cell_type": "code",
   "execution_count": null,
   "metadata": {},
   "outputs": [],
   "source": [
    "jrc_OECD = {x:[k for k, v in oecd_smarts.items() if any([y.HasSubstructMatch(e) for e in v])] for x,y in jrc_smiles.items()}"
   ]
  },
  {
   "cell_type": "code",
   "execution_count": null,
   "metadata": {},
   "outputs": [],
   "source": [
    "pd.DataFrame.from_dict([jrc_Dow]).T.to_csv('jrc_Dow.csv')"
   ]
  },
  {
   "cell_type": "code",
   "execution_count": null,
   "metadata": {},
   "outputs": [],
   "source": [
    "pd.DataFrame.from_dict([jrc_Enoch]).T.to_csv('jrc_Enoch.csv')"
   ]
  },
  {
   "cell_type": "code",
   "execution_count": null,
   "metadata": {},
   "outputs": [],
   "source": [
    "pd.DataFrame.from_dict([jrc_OECD]).T.to_csv('jrc_OECD.csv')"
   ]
  },
  {
   "cell_type": "code",
   "execution_count": null,
   "metadata": {},
   "outputs": [],
   "source": [
    "jrc_all = pd.read_csv('jrc_allpred_merged.csv')"
   ]
  },
  {
   "cell_type": "code",
   "execution_count": null,
   "metadata": {},
   "outputs": [],
   "source": [
    "jrc_all.head()"
   ]
  },
  {
   "cell_type": "code",
   "execution_count": null,
   "metadata": {},
   "outputs": [],
   "source": [
    "jrc_all['OECD'] = jrc_all['OECD'].str.replace(r\"\\['SNAr']\", \"['SNAR']\")"
   ]
  },
  {
   "cell_type": "code",
   "execution_count": null,
   "metadata": {},
   "outputs": [],
   "source": [
    "jrc_all['Expert_Mech'] = jrc_all['Expert_Mech'].str.replace(r\"\\['SNAr']\", \"['SNAR']\")"
   ]
  },
  {
   "cell_type": "code",
   "execution_count": null,
   "metadata": {},
   "outputs": [],
   "source": [
    "jrc_all['Enoch'] = jrc_all['Enoch'].str.replace(r\"\\['SB', 'MA']\", \"['MA', 'SB']\")"
   ]
  },
  {
   "cell_type": "code",
   "execution_count": null,
   "metadata": {},
   "outputs": [],
   "source": [
    "jrc_all['Expert_Mech'] = jrc_all['Expert_Mech'].str.replace(r\"\\['Acyl','MA', ]\", \"['Acyl', 'MA']\")"
   ]
  },
  {
   "cell_type": "code",
   "execution_count": null,
   "metadata": {},
   "outputs": [],
   "source": [
    "jrc_all['Expert_Mech'].unique()"
   ]
  },
  {
   "cell_type": "code",
   "execution_count": null,
   "metadata": {},
   "outputs": [],
   "source": [
    "jrc_all['Enoch'].unique()"
   ]
  },
  {
   "cell_type": "code",
   "execution_count": null,
   "metadata": {},
   "outputs": [],
   "source": [
    "from sklearn.metrics import confusion_matrix"
   ]
  },
  {
   "cell_type": "code",
   "execution_count": null,
   "metadata": {},
   "outputs": [],
   "source": [
    "cm = confusion_matrix(jrc_all['Expert_Mech'],jrc_all['Enoch'])"
   ]
  },
  {
   "cell_type": "code",
   "execution_count": null,
   "metadata": {},
   "outputs": [],
   "source": [
    "print(cm)"
   ]
  },
  {
   "cell_type": "code",
   "execution_count": null,
   "metadata": {},
   "outputs": [],
   "source": [
    "cm_df = pd.DataFrame(cm, index = mycols, columns = mycols)"
   ]
  },
  {
   "cell_type": "code",
   "execution_count": null,
   "metadata": {},
   "outputs": [],
   "source": [
    "cm_df.to_csv('Expert_Enoch_CM.csv')"
   ]
  },
  {
   "cell_type": "code",
   "execution_count": null,
   "metadata": {},
   "outputs": [],
   "source": [
    "from sklearn.metrics import classification_report, precision_recall_fscore_support"
   ]
  },
  {
   "cell_type": "code",
   "execution_count": null,
   "metadata": {},
   "outputs": [],
   "source": [
    "#show the classification report \n",
    "print(classification_report(jrc_all['Expert_Mech'],jrc_all['Enoch']))"
   ]
  },
  {
   "cell_type": "code",
   "execution_count": null,
   "metadata": {},
   "outputs": [],
   "source": [
    "# parse out the first column as whole object is str\n",
    "report_data = []\n",
    "lines = report.split('\\n')\n",
    "for line in lines[2:-3]:\n",
    "    row = {}\n",
    "    row_data = line.split(\"    \")\n",
    "    row_data = list(filter(None,row_data))\n",
    "    row['class'] = row_data[0]\n",
    "    report_data.append(row)\n",
    "mycmdf = pd.DataFrame.from_dict(report_data)\n",
    "\n"
   ]
  },
  {
   "cell_type": "code",
   "execution_count": null,
   "metadata": {},
   "outputs": [],
   "source": [
    "mycmdt = mycmdf.T\n"
   ]
  },
  {
   "cell_type": "code",
   "execution_count": null,
   "metadata": {},
   "outputs": [],
   "source": [
    "mycols = list(mycmdt.iloc[0])"
   ]
  },
  {
   "cell_type": "code",
   "execution_count": null,
   "metadata": {},
   "outputs": [],
   "source": [
    "len(mycols)"
   ]
  },
  {
   "cell_type": "code",
   "execution_count": null,
   "metadata": {},
   "outputs": [],
   "source": [
    "''''def cm_formating(report):\n",
    "    report_data = []\n",
    "lines = report.split('\\n')\n",
    "for line in lines[2:-3]:\n",
    "    row = {}\n",
    "    row_data = line.split(\"    \")\n",
    "    row_data = list(filter(None,row_data))\n",
    "    row['class'] = row_data[0]\n",
    "    report_data.append(row)\n",
    "df_3 = pd.DataFrame.from_dict(report_data)\n"
   ]
  },
  {
   "cell_type": "code",
   "execution_count": null,
   "metadata": {},
   "outputs": [],
   "source": [
    "report = classification_report(jrc_all['Expert_Mech'],jrc_all['Enoch'])"
   ]
  },
  {
   "cell_type": "code",
   "execution_count": null,
   "metadata": {},
   "outputs": [],
   "source": [
    "clf_rep = precision_recall_fscore_support(jrc_all['Expert_Mech'],jrc_all['Enoch'])"
   ]
  },
  {
   "cell_type": "code",
   "execution_count": null,
   "metadata": {},
   "outputs": [],
   "source": [
    "#from scipy import stats"
   ]
  },
  {
   "cell_type": "code",
   "execution_count": null,
   "metadata": {},
   "outputs": [],
   "source": [
    "#out_dict = {'precision' : clf_rep[0].round(2),'recall': clf_rep[1].round(2),'f1_score': clf_rep[2].round(2),'support':clf_rep[3]}"
   ]
  },
  {
   "cell_type": "code",
   "execution_count": null,
   "metadata": {},
   "outputs": [],
   "source": [
    "#out_df = pd.DataFrame.from_dict(out_dict)"
   ]
  },
  {
   "cell_type": "code",
   "execution_count": null,
   "metadata": {},
   "outputs": [],
   "source": [
    "#github.com/scikit-learn/scikit-learn/issues/7845"
   ]
  },
  {
   "cell_type": "code",
   "execution_count": null,
   "metadata": {},
   "outputs": [],
   "source": [
    "''''avg_tot = out_df.apply(lambda x: round(get_harmonic_mean(x),2) if x.item != 0 else round(x.sum(),2)).to_frame().T\n",
    "avg_tot.index=['avg/total']\n",
    "out_df = out_df.append(avg_tot)\n",
    "print(out_df)"
   ]
  },
  {
   "cell_type": "code",
   "execution_count": null,
   "metadata": {},
   "outputs": [],
   "source": [
    "''''def get_harmonic_mean(my_list):\n",
    "    sum = 0.0\n",
    "    for i in my_list:\n",
    "        sum += 1/i\n",
    "    return len(my_list)/sum\n",
    "print (get_harmonic_mean([3,3,4]))"
   ]
  },
  {
   "cell_type": "code",
   "execution_count": null,
   "metadata": {},
   "outputs": [],
   "source": [
    "avg_tot = list(precision_recall_fscore_support(jrc_all['Expert_Mech'], jrc_all['Enoch'], average = 'weighted'))"
   ]
  },
  {
   "cell_type": "code",
   "execution_count": null,
   "metadata": {},
   "outputs": [],
   "source": [
    "out_df = pd.DataFrame.from_dict(out_dict)\n"
   ]
  },
  {
   "cell_type": "code",
   "execution_count": null,
   "metadata": {},
   "outputs": [],
   "source": [
    "report_data = []\n",
    "lines = report.split('\\n')\n",
    "for line in lines[2:-3]:\n",
    "    row = {}\n",
    "    row_data = line.split(\"    \")\n",
    "    row_data = list(filter(None,row_data))\n",
    "    row['class'] = row_data[0]\n",
    "    row['precision'] = float(row_data[1])\n",
    "    row['recall'] = float(row_data[2])\n",
    "    row['f1_score'] = float(row_data[3])\n",
    "    row['support'] = float(row_data[4])\n",
    "    report_data.append(row)\n",
    "test = pd.DataFrame.from_dict(report_data)\n"
   ]
  },
  {
   "cell_type": "code",
   "execution_count": null,
   "metadata": {},
   "outputs": [],
   "source": [
    "test.to_csv('Expert_Enoch_Classification_Report.csv')\n"
   ]
  },
  {
   "cell_type": "code",
   "execution_count": null,
   "metadata": {},
   "outputs": [],
   "source": [
    "test['support'].sum()"
   ]
  },
  {
   "cell_type": "code",
   "execution_count": null,
   "metadata": {},
   "outputs": [],
   "source": [
    "avg = list(precision_recall_fscore_support(jrc_all['Expert_Mech'], jrc_all['Enoch'], average = 'weighted'))"
   ]
  },
  {
   "cell_type": "code",
   "execution_count": null,
   "metadata": {},
   "outputs": [],
   "source": [
    "test.append(avg.append(total))"
   ]
  },
  {
   "cell_type": "code",
   "execution_count": null,
   "metadata": {},
   "outputs": [],
   "source": [
    "ax = sns.heatmap(cm_df, annot = True, yticklabels = True, xticklabels = True, cmap = 'Blues')\n",
    "ax.set_ylabel(\"Expert_Mech\")\n",
    "ax.set_xlabel('Enoch')"
   ]
  },
  {
   "cell_type": "code",
   "execution_count": null,
   "metadata": {},
   "outputs": [],
   "source": []
  },
  {
   "cell_type": "code",
   "execution_count": null,
   "metadata": {},
   "outputs": [],
   "source": [
    "jrc_all.head()"
   ]
  },
  {
   "cell_type": "code",
   "execution_count": null,
   "metadata": {},
   "outputs": [],
   "source": [
    "confusion_matrix(jrc_all['Expert_Mech'],jrc_all['OECD'])"
   ]
  },
  {
   "cell_type": "code",
   "execution_count": null,
   "metadata": {},
   "outputs": [],
   "source": [
    "len(cm_em_tbx)"
   ]
  },
  {
   "cell_type": "code",
   "execution_count": null,
   "metadata": {},
   "outputs": [],
   "source": []
  },
  {
   "cell_type": "code",
   "execution_count": null,
   "metadata": {},
   "outputs": [],
   "source": [
    "cmemtbx_df = pd.DataFrame(cm_em_tbx, index = em_oecd_cols, columns = em_oecd_cols)"
   ]
  },
  {
   "cell_type": "code",
   "execution_count": null,
   "metadata": {},
   "outputs": [],
   "source": [
    "cmemtbx_df.to_csv('Expert_OECD_CM.csv')"
   ]
  },
  {
   "cell_type": "code",
   "execution_count": null,
   "metadata": {},
   "outputs": [],
   "source": [
    "rep_em_oecd = classification_report(jrc_all['Expert_Mech'],jrc_all['OECD'])"
   ]
  },
  {
   "cell_type": "code",
   "execution_count": null,
   "metadata": {},
   "outputs": [],
   "source": [
    "print(classification_report(jrc_all['Expert_Mech'],jrc_all['OECD']))"
   ]
  },
  {
   "cell_type": "code",
   "execution_count": null,
   "metadata": {},
   "outputs": [],
   "source": [
    "report_data = []\n",
    "lines = rep_em_oecd.split('\\n')\n",
    "for line in lines[2:-3]:\n",
    "    row = {}\n",
    "    row_data = line.split(\"    \")\n",
    "    row_data = list(filter(None,row_data))\n",
    "    row['class'] = row_data[0]\n",
    "    row['precision'] = float(row_data[1])\n",
    "    row['recall'] = float(row_data[2])\n",
    "    row['f1_score'] = float(row_data[3])\n",
    "    row['support'] = float(row_data[4])\n",
    "    report_data.append(row)\n",
    "em_oecd = pd.DataFrame.from_dict(report_data)"
   ]
  },
  {
   "cell_type": "code",
   "execution_count": null,
   "metadata": {},
   "outputs": [],
   "source": [
    "em_oecd.to_csv('em_oecd.csv')"
   ]
  },
  {
   "cell_type": "code",
   "execution_count": null,
   "metadata": {},
   "outputs": [],
   "source": [
    "em_oecd_cols = list(em_oecd['class'])\n"
   ]
  },
  {
   "cell_type": "code",
   "execution_count": null,
   "metadata": {},
   "outputs": [],
   "source": [
    "ax = sns.heatmap(cmemtbx_df, annot = True, yticklabels = True, xticklabels = True, cmap = 'Blues')\n",
    "ax.set_ylabel(\"Expert_Mech\")\n",
    "ax.set_xlabel('OECD')"
   ]
  },
  {
   "cell_type": "code",
   "execution_count": null,
   "metadata": {},
   "outputs": [],
   "source": [
    "cm_em_dow = confusion_matrix(jrc_all['Expert_Mech'],jrc_all['Dow'])"
   ]
  },
  {
   "cell_type": "code",
   "execution_count": null,
   "metadata": {},
   "outputs": [],
   "source": [
    "print(classification_report(jrc_all['Expert_Mech'],jrc_all['Dow']))"
   ]
  },
  {
   "cell_type": "code",
   "execution_count": null,
   "metadata": {},
   "outputs": [],
   "source": [
    "rep_em_dow = classification_report(jrc_all['Expert_Mech'],jrc_all['Dow'])"
   ]
  },
  {
   "cell_type": "code",
   "execution_count": null,
   "metadata": {},
   "outputs": [],
   "source": [
    "report_data = []\n",
    "lines = rep_em_dow.split('\\n')\n",
    "for line in lines[2:-3]:\n",
    "    row = {}\n",
    "    row_data = line.split(\"    \")\n",
    "    row_data = list(filter(None,row_data))\n",
    "    row['class'] = row_data[0]\n",
    "    row['precision'] = float(row_data[1])\n",
    "    row['recall'] = float(row_data[2])\n",
    "    row['f1_score'] = float(row_data[3])\n",
    "    row['support'] = float(row_data[4])\n",
    "    report_data.append(row)\n",
    "em_dow = pd.DataFrame.from_dict(report_data)"
   ]
  },
  {
   "cell_type": "code",
   "execution_count": null,
   "metadata": {},
   "outputs": [],
   "source": [
    "em_dow.to_csv('em_dow.csv')"
   ]
  },
  {
   "cell_type": "code",
   "execution_count": null,
   "metadata": {},
   "outputs": [],
   "source": [
    "em_dow_cols = list(em_dow['class'])"
   ]
  },
  {
   "cell_type": "code",
   "execution_count": null,
   "metadata": {},
   "outputs": [],
   "source": [
    "cmemdow_df = pd.DataFrame(cm_em_dow, index = em_dow_cols, columns = em_dow_cols)"
   ]
  },
  {
   "cell_type": "code",
   "execution_count": null,
   "metadata": {},
   "outputs": [],
   "source": [
    "cmemdow_df.to_csv('cmemdow.csv')"
   ]
  },
  {
   "cell_type": "code",
   "execution_count": null,
   "metadata": {},
   "outputs": [],
   "source": [
    "ax = sns.heatmap(cmemdow_df, annot = True, yticklabels = True, xticklabels = True, cmap = 'Blues')\n",
    "ax.set_ylabel(\"Expert_Mech\")\n",
    "ax.set_xlabel('Dow')"
   ]
  },
  {
   "cell_type": "code",
   "execution_count": null,
   "metadata": {},
   "outputs": [],
   "source": [
    "from sklearn.metrics import matthews_corrcoef"
   ]
  },
  {
   "cell_type": "code",
   "execution_count": null,
   "metadata": {},
   "outputs": [],
   "source": [
    "matthews_corrcoef(jrc_all['Expert_Mech'],jrc_all['Enoch'],sample_weight=None)"
   ]
  },
  {
   "cell_type": "code",
   "execution_count": null,
   "metadata": {},
   "outputs": [],
   "source": [
    "matthews_corrcoef(jrc_all['Expert_Mech'],jrc_all['OECD'],sample_weight=None)"
   ]
  },
  {
   "cell_type": "code",
   "execution_count": null,
   "metadata": {},
   "outputs": [],
   "source": [
    "matthews_corrcoef(jrc_all['Expert_Mech'],jrc_all['Dow'],sample_weight=None)"
   ]
  },
  {
   "cell_type": "code",
   "execution_count": null,
   "metadata": {},
   "outputs": [],
   "source": [
    "print(classification_report(jrc_all['Expert_Mech'],jrc_all['Dow']))\n"
   ]
  },
  {
   "cell_type": "code",
   "execution_count": null,
   "metadata": {},
   "outputs": [],
   "source": [
    "print(classification_report(jrc_all['Expert_Mech'],jrc_all['OECD']))"
   ]
  },
  {
   "cell_type": "code",
   "execution_count": null,
   "metadata": {},
   "outputs": [],
   "source": [
    "print(classification_report(jrc_all['Expert_Mech'],jrc_all['Enoch']))"
   ]
  },
  {
   "cell_type": "code",
   "execution_count": null,
   "metadata": {},
   "outputs": [],
   "source": [
    "jrc_all.head()"
   ]
  },
  {
   "cell_type": "code",
   "execution_count": null,
   "metadata": {},
   "outputs": [],
   "source": [
    "jrc_mini = jrc_all.iloc[0:5,4:8]"
   ]
  },
  {
   "cell_type": "code",
   "execution_count": null,
   "metadata": {},
   "outputs": [],
   "source": [
    "jrc_mini"
   ]
  },
  {
   "cell_type": "code",
   "execution_count": null,
   "metadata": {},
   "outputs": [],
   "source": [
    "jrc_mini[(jrc_mini['Dow'] == jrc_mini['OECD']) & (jrc_mini['OECD'] == jrc_mini['Enoch']) & (jrc_mini['Expert_Mech'] == jrc_mini['Dow'])]\n",
    "    "
   ]
  },
  {
   "cell_type": "code",
   "execution_count": null,
   "metadata": {},
   "outputs": [],
   "source": [
    "jrc_mini[(jrc_mini['Dow'] == jrc_mini['OECD']) & (jrc_mini['OECD'] == jrc_mini['Enoch']) & (jrc_mini['Expert_Mech'] != jrc_mini['Dow'])]"
   ]
  },
  {
   "cell_type": "code",
   "execution_count": null,
   "metadata": {},
   "outputs": [],
   "source": [
    "jrc_mini[jrc_mini.apply(lambda x: x['Expert_Mech'] in x['OECD'], axis=1)]"
   ]
  },
  {
   "cell_type": "code",
   "execution_count": null,
   "metadata": {},
   "outputs": [],
   "source": [
    "all_correct = jrc_all[(jrc_all['Dow'] == jrc_all['OECD']) & (jrc_all['OECD'] == jrc_all['Enoch']) & (jrc_all['Expert_Mech'] == jrc_all['Dow'])]"
   ]
  },
  {
   "cell_type": "code",
   "execution_count": null,
   "metadata": {},
   "outputs": [],
   "source": [
    "all_correct.to_csv('all_correct.csv')"
   ]
  },
  {
   "cell_type": "code",
   "execution_count": null,
   "metadata": {},
   "outputs": [],
   "source": [
    "len(jrc_all)"
   ]
  },
  {
   "cell_type": "code",
   "execution_count": null,
   "metadata": {},
   "outputs": [],
   "source": [
    "all_incorrect = jrc_all[(jrc_all['Dow'] == jrc_all['OECD']) & (jrc_all['OECD'] == jrc_all['Enoch']) & (jrc_all['Expert_Mech'] != jrc_all['Dow'])]"
   ]
  },
  {
   "cell_type": "code",
   "execution_count": null,
   "metadata": {},
   "outputs": [],
   "source": [
    "all_incorrect\n"
   ]
  },
  {
   "cell_type": "code",
   "execution_count": null,
   "metadata": {},
   "outputs": [],
   "source": [
    "all_incorrect.to_csv('all_incorrect.csv')"
   ]
  },
  {
   "cell_type": "code",
   "execution_count": null,
   "metadata": {},
   "outputs": [],
   "source": [
    "#all_incorrect.groupby('Expert_Mech').count()"
   ]
  },
  {
   "cell_type": "code",
   "execution_count": null,
   "metadata": {},
   "outputs": [],
   "source": [
    "mols = [Chem.MolFromSmiles(element)for element in all_incorrect['SMILES']]"
   ]
  },
  {
   "cell_type": "code",
   "execution_count": null,
   "metadata": {},
   "outputs": [],
   "source": [
    "all_incorrect\n"
   ]
  },
  {
   "cell_type": "code",
   "execution_count": null,
   "metadata": {},
   "outputs": [],
   "source": [
    "print(classification_report(jrc_all['Enoch'],jrc_all['Dow']))"
   ]
  },
  {
   "cell_type": "code",
   "execution_count": null,
   "metadata": {},
   "outputs": [],
   "source": [
    "print(confusion_matrix(jrc_all['Enoch'],jrc_all['Dow']))"
   ]
  },
  {
   "cell_type": "code",
   "execution_count": null,
   "metadata": {},
   "outputs": [],
   "source": [
    "matthews_corrcoef(jrc_all['Enoch'],jrc_all['Dow'],sample_weight=None)"
   ]
  },
  {
   "cell_type": "code",
   "execution_count": null,
   "metadata": {},
   "outputs": [],
   "source": [
    "print(classification_report(jrc_all['Enoch'],jrc_all['OECD']))"
   ]
  },
  {
   "cell_type": "code",
   "execution_count": null,
   "metadata": {},
   "outputs": [],
   "source": [
    "matthews_corrcoef(jrc_all['Enoch'],jrc_all['OECD'],sample_weight=None)"
   ]
  },
  {
   "cell_type": "code",
   "execution_count": null,
   "metadata": {},
   "outputs": [],
   "source": [
    "matthews_corrcoef(jrc_all['OECD'],jrc_all['Enoch'],sample_weight=None)"
   ]
  },
  {
   "cell_type": "code",
   "execution_count": null,
   "metadata": {},
   "outputs": [],
   "source": [
    "print(classification_report(jrc_all['Dow'],jrc_all['OECD']))"
   ]
  },
  {
   "cell_type": "code",
   "execution_count": null,
   "metadata": {},
   "outputs": [],
   "source": [
    "print(classification_report(jrc_all['OECD'],jrc_all['Dow']))"
   ]
  },
  {
   "cell_type": "code",
   "execution_count": null,
   "metadata": {},
   "outputs": [],
   "source": [
    "matthews_corrcoef(jrc_all['Dow'],jrc_all['OECD'],sample_weight=None)"
   ]
  },
  {
   "cell_type": "code",
   "execution_count": null,
   "metadata": {},
   "outputs": [],
   "source": [
    "Chem.Draw.MolsToGridImage(mols, molsPerRow=5, subImgSize=(500, 500), legends =[element for element in all_incorrect['DTXSID']])"
   ]
  },
  {
   "cell_type": "code",
   "execution_count": null,
   "metadata": {},
   "outputs": [],
   "source": [
    "Chem.MolFromSmiles('O=C1C(=C1C1=CC=CC=C1)C1=CC=CC=C1')"
   ]
  },
  {
   "cell_type": "code",
   "execution_count": null,
   "metadata": {},
   "outputs": [],
   "source": [
    "jrc_all[(jrc_all['Dow'] == jrc_all['OECD'])]"
   ]
  },
  {
   "cell_type": "code",
   "execution_count": null,
   "metadata": {},
   "outputs": [],
   "source": []
  },
  {
   "cell_type": "code",
   "execution_count": null,
   "metadata": {},
   "outputs": [],
   "source": []
  }
 ],
 "metadata": {
  "language_info": {
   "name": "python",
   "pygments_lexer": "ipython3"
  }
 },
 "nbformat": 4,
 "nbformat_minor": 2
}
