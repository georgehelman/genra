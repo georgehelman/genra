{
 "cells": [
  {
   "cell_type": "code",
   "execution_count": null,
   "metadata": {},
   "outputs": [],
   "source": [
    "# Load assay information\n",
    "!ls -l /share/home/ishah/projects/ToxCast/data/2015/Assay_Information_Oct_2015/Assay_Summary_151020.csv\n",
    "AS0 = pd.read_csv('/share/home/ishah/projects/ToxCast/data/2015/Assay_Information_Oct_2015/Assay_Summary_151020.csv')"
   ]
  },
  {
   "cell_type": "code",
   "execution_count": null,
   "metadata": {},
   "outputs": [],
   "source": [
    "def skipNulls(x):\n",
    "    return {k:v for k,v in x.iteritems() if v}\n",
    "\n",
    "def convert2unicode(Z):\n",
    "    mydict = {k.replace('.','_'): v for k,v in Z.iteritems() if v==v and v!='none' and v}\n",
    "    for k, v in mydict.iteritems():\n",
    "        if type(v) in [str]:\n",
    "            mydict[k] = unicode(v, errors = 'replace')\n",
    "        elif isinstance(v, dict):\n",
    "            convert2unicode(v)\n",
    "    return mydict\n",
    "\n",
    "DB.assay_info.drop()\n",
    "DB.assay_info.insert_many(map(convert2unicode,AS0.to_dict('records')))\n"
   ]
  },
  {
   "cell_type": "code",
   "execution_count": null,
   "metadata": {},
   "outputs": [],
   "source": [
    "I1 = DB.assay_info.find({},dict(_id=0,\n",
    "                                assay_component_endpoint_name=1,\n",
    "                                intended_target_family=1,\n",
    "                                intended_target_family_sub=1,\n",
    "                                intended_target_type=1,\n",
    "                                organism=1,\n",
    "                                tissue=1,\n",
    "                                cell_short_name=1,\n",
    "                                assay_source_name=1,\n",
    "                                biological_process_target=1,\n",
    "                                intended_target_gene_name=1,\n",
    "                                intended_target_gene_symbol=1))\n",
    "AI = pd.DataFrame(list(I1))\n",
    "\n",
    "AI.rename(columns=dict( assay_component_endpoint_name='bio_fp',\n",
    "                                intended_target_family='target_family',\n",
    "                                intended_target_family_sub='target_family_sub',\n",
    "                                intended_target_type='target_type',\n",
    "                                cell_short_name='cell',\n",
    "                                assay_source_name='source',\n",
    "                                biological_process_target='bio_process',\n",
    "                                intended_target_gene_name='gene_name',\n",
    "                                intended_target_gene_symbol='gene_symbol'),inplace=True)\n",
    "#DB.bio_fp_info.rename('bio_fp_info_1')\n",
    "DB.bio_fp_info.drop()\n",
    "DB.bio_fp_info.insert_many(AI.to_dict('records'))"
   ]
  },
  {
   "cell_type": "code",
   "execution_count": null,
   "metadata": {},
   "outputs": [],
   "source": []
  }
 ],
 "metadata": {
  "language_info": {
   "name": "python",
   "pygments_lexer": "ipython3"
  }
 },
 "nbformat": 4,
 "nbformat_minor": 1
}
