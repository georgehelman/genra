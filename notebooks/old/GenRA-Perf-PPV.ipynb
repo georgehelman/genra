{
 "cells": [
  {
   "cell_type": "code",
   "execution_count": null,
   "metadata": {},
   "outputs": [],
   "source": [
    "%load_ext autoreload\n",
    "%autoreload 2\n",
    "%load_ext sql \n",
    "%pylab inline\n",
    "%matplotlib inline\n",
    "\n",
    "import matplotlib.text as text\n",
    "\n",
    "import scipy.interpolate as interp\n",
    "import pandas as pd\n",
    "#from mp.txpepa import *\n",
    "from sklearn import (manifold, datasets, decomposition, ensemble, lda,\n",
    "                     random_projection)\n",
    "from sklearn.metrics.pairwise import euclidean_distances,manhattan_distances\n",
    "import statsmodels.api as sm\n",
    "import numpy.linalg as LA\n",
    "import bio.hts.traj as traj\n",
    "from rpy2.robjects.packages import importr\n",
    "from rpy2.robjects.vectors import FloatVector\n",
    "stats = importr('stats')\n",
    "from sklearn.neighbors import KNeighborsClassifier\n",
    "\n",
    "DAT_DIR = '/share/home/ishah/projects/Chem/data/tables/'\n",
    "PKL_DIR = '/share/home/ishah/projects/Chem/data/pickle/'\n",
    "RES_DIR = '/share/home/ishah/projects/Chem/data/results/'\n",
    "FIG_DIR = '/share/home/ishah/projects/Chem/figs/readacross/'\n",
    "\n",
    "import pickle\n",
    "\n",
    "tmstmp = time.strftime(\"%m-%d-%Y\",time.localtime())\n",
    "tmstmp"
   ]
  },
  {
   "cell_type": "code",
   "execution_count": null,
   "metadata": {},
   "outputs": [],
   "source": [
    "from bio.data.genra import *\n",
    "\n",
    "DB = openMongo(host='pb.epa.gov',user='ishah',passwd='ishah',db='genra_v3')\n",
    "DB.collection_names()"
   ]
  },
  {
   "cell_type": "code",
   "execution_count": null,
   "metadata": {},
   "outputs": [],
   "source": [
    "def calcPerf2(n_pos,n_neg,sens,spec,sn_sd=None,sp_sd=None):\n",
    "    n = n_pos+n_neg\n",
    "    TP = int(sens * n_pos)\n",
    "    TN = int(spec * n_neg)\n",
    "    FN = n_pos - TP\n",
    "    FP = n_neg - TN\n",
    "    \n",
    "    if (TP+FP)==0 or (TN+FN)==0: return \n",
    "    \n",
    "    PPV= 1.0*TP/(TP+FP)\n",
    "    NPV= 1.0*TN/(TN+FN)\n",
    "    FDR= 1 - PPV\n",
    "    \n",
    "    se=sp_se=sn_se=None\n",
    "    \n",
    "    if sn_sd and sp_sd:\n",
    "        sn_se=sn_sd/np.sqrt(n)\n",
    "        sp_se=sn_sd/np.sqrt(n)\n",
    "        se = np.sqrt(sn_se**2 + sp_se**2)*np.sqrt(n)\n",
    "        \n",
    "    return dict(#n_pos=n_pos,n_neg=n_neg,\n",
    "                TP=TP,TN=TN,FP=FP,FN=FN,\n",
    "                #Sens=sens,Spec=spec,\n",
    "                PPV = PPV, NPV=NPV, FDR=FDR,\n",
    "                se=se\n",
    "               )\n"
   ]
  },
  {
   "cell_type": "code",
   "execution_count": null,
   "metadata": {},
   "outputs": [],
   "source": [
    "q = {'auc':{'$gte':0.6},'n_pos':{'$gte':2},'n_neg':{'$gte':2}}\n",
    "print DB.genra_perf_v1.find(q).count()\n",
    "DB.genra_perf_v1.find_one(q)\n"
   ]
  },
  {
   "cell_type": "code",
   "execution_count": null,
   "metadata": {},
   "outputs": [],
   "source": [
    "P0 = DB.genra_perf_v1.find_one(q)\n",
    "calcPerf2(P0['n_pos'],P0['n_neg'],P0['sn_max'],P0['sp_max']\n",
    "         )"
   ]
  },
  {
   "cell_type": "code",
   "execution_count": null,
   "metadata": {},
   "outputs": [],
   "source": [
    "from util.jupyter import *"
   ]
  },
  {
   "cell_type": "code",
   "execution_count": null,
   "metadata": {},
   "outputs": [],
   "source": [
    "DB.genra_perf_v2.drop()\n",
    "q = {'auc':{'$gte':0.2},'n_pos':{'$gte':2},'n_neg':{'$gte':2}}\n",
    "N = DB.genra_perf_v1.find(q,dict(_id=0)).count()\n",
    "\n",
    "for P0 in log_progress(DB.genra_perf_v1.find(q,dict(_id=0)),every=10,size=N):\n",
    "    P1=calcPerf2(P0['n_pos'],P0['n_neg'],P0['sn_max'],P0['sp_max'])\n",
    "    if not P1: continue\n",
    "    P0.update(P1)\n",
    "    DB.genra_perf_v2.insert_one(P0)"
   ]
  },
  {
   "cell_type": "code",
   "execution_count": null,
   "metadata": {},
   "outputs": [],
   "source": [
    "DB.genra_perf_v2.count()"
   ]
  },
  {
   "cell_type": "code",
   "execution_count": null,
   "metadata": {},
   "outputs": [],
   "source": [
    "DB.genra_perf_v2.find_one()"
   ]
  },
  {
   "cell_type": "code",
   "execution_count": null,
   "metadata": {},
   "outputs": [],
   "source": [
    "len(DB.genra_perf_v2.distinct('cl'))"
   ]
  },
  {
   "cell_type": "code",
   "execution_count": null,
   "metadata": {},
   "outputs": [],
   "source": [
    "r=dict(_id=0,se=0)\n",
    "Perf0 = (pd.DataFrame(list(DB.genra_perf_v2.find({},r)))\n",
    "         .rename(columns=dict(sim_type='dt',sn_max='SN_max',sp_max='SP_max',auc='AUC',PPV='PPV_max',NPV='NPV_max'))\n",
    "        )"
   ]
  },
  {
   "cell_type": "code",
   "execution_count": null,
   "metadata": {},
   "outputs": [],
   "source": [
    "def Unq_Cl(x): return len(np.unique(x))"
   ]
  },
  {
   "cell_type": "code",
   "execution_count": null,
   "metadata": {},
   "outputs": [],
   "source": [
    "P1 = (Perf0.query(\"auc_pval<0.1\")\n",
    "      .groupby(['effect','dt'])\n",
    "      .aggregate(dict(PPV=[np.median,np.std],\n",
    "                      NPV=[np.median,np.std],\n",
    "                      SN_max=[np.median,np.std],\n",
    "                      SP_max=[np.median,np.std],\n",
    "                      AUC=[np.median,np.std],\n",
    "                      cl= Unq_Cl ))\n",
    "     )\n",
    "P1.head(30)"
   ]
  },
  {
   "cell_type": "code",
   "execution_count": null,
   "metadata": {},
   "outputs": [],
   "source": [
    "P1 = (Perf0#.query(\"auc_pval<0.1\")\n",
    "      .groupby(['effect','dt'])\n",
    "      .aggregate(dict(PPV_max=dict(mn=np.mean,sd=np.std),\n",
    "                      NPV_max=dict(mn=np.mean,sd=np.std),\n",
    "                      SN_max=dict(mn=np.mean,sd=np.std),\n",
    "                      SP_max=dict(mn=np.mean,sd=np.std),\n",
    "                      AUC=dict(mn=np.mean,sd=np.std),\n",
    "                      cl= Unq_Cl))\n",
    "     )\n",
    "P1.head(30)"
   ]
  },
  {
   "cell_type": "code",
   "execution_count": null,
   "metadata": {},
   "outputs": [],
   "source": [
    "Res = []\n",
    "for effect,Pi in P1.groupby(level=0):\n",
    "    Res.append(Pi.sort_values(('AUC','mn')).tail(1))\n",
    "    print effect,dt,Pi.shape"
   ]
  },
  {
   "cell_type": "code",
   "execution_count": null,
   "metadata": {},
   "outputs": [],
   "source": [
    "P2 = pd.concat(Res)"
   ]
  },
  {
   "cell_type": "code",
   "execution_count": null,
   "metadata": {},
   "outputs": [],
   "source": [
    "P2 = (P2[['cl','AUC','SN_max','PPV_max','SP_max']]\n",
    "      .round(decimals=2)\n",
    "      .rename(dict(SN_max='sens',SP_max='spec',PPV_max='ppv'))\n",
    "     )"
   ]
  },
  {
   "cell_type": "code",
   "execution_count": null,
   "metadata": {},
   "outputs": [],
   "source": [
    "P2.head()"
   ]
  },
  {
   "cell_type": "code",
   "execution_count": null,
   "metadata": {},
   "outputs": [],
   "source": [
    "C = [i+'_'+j for (i,j) in list(P2.columns)]\n",
    "P2.columns=C\n"
   ]
  },
  {
   "cell_type": "code",
   "execution_count": null,
   "metadata": {},
   "outputs": [],
   "source": [
    "P2.head()"
   ]
  },
  {
   "cell_type": "code",
   "execution_count": null,
   "metadata": {},
   "outputs": [],
   "source": [
    "P2['res2_sn']=P2.apply(lambda x: \"%3.2f±%3.2f\" % (x.SN_max_mn,x.SN_max_sd),axis=1)\n",
    "P2['res2_sp']=P2.apply(lambda x: \"%3.2f±%3.2f\" % (x.SP_max_mn,x.SP_max_sd),axis=1)\n",
    "P2['res2_ppv']=P2.apply(lambda x: \"%3.2f±%3.2f\" % (x.PPV_max_mn,x.PPV_max_sd),axis=1)\n",
    "P2['res2_auc']=P2.apply(lambda x: \"%3.2f±%3.2f\" % (x.AUC_mn,x.AUC_sd),axis=1)"
   ]
  },
  {
   "cell_type": "code",
   "execution_count": null,
   "metadata": {},
   "outputs": [],
   "source": [
    "P2.head()"
   ]
  },
  {
   "cell_type": "code",
   "execution_count": null,
   "metadata": {},
   "outputs": [],
   "source": [
    "X = P2.sort_values('AUC_mn',ascending=False)[['cl_Unq_Cl','res2_auc','res2_sn','res2_sp','res2_ppv']]\n",
    "\n",
    "#X.columns = \"Classifier ID\tStudy:Target\tdt\tn\tML Alg\tF1\tSensitivity\tSpecificity\tPPV\".split(\"\\t\")\n",
    "\n",
    "X.to_csv('/share/home/ishah/tmp/genra-perf-with-ppv-summary-v2.csv')\n",
    "\n",
    "#ew = pd.ExcelWriter('/share/home/ishah/tmp/genra-perf-with-ppv-summary-v2.xlsx', )\n",
    "#X.to_excel(ew)\n",
    "#ew.save()\n",
    "#for x in [i for i in X if i.startswith('res2')]:\n",
    "#    X[x] = X[x].str.decode('ascii').str.encode('utf-8')\n",
    "    \n",
    "\n"
   ]
  }
 ],
 "metadata": {
  "language_info": {
   "name": "python",
   "pygments_lexer": "ipython3"
  }
 },
 "nbformat": 4,
 "nbformat_minor": 2
}
