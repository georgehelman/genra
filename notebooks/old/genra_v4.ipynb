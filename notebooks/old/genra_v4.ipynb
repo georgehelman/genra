{
 "cells": [
  {
   "cell_type": "code",
   "execution_count": null,
   "metadata": {},
   "outputs": [],
   "source": [
    "%load_ext autoreload\n",
    "%autoreload 2\n",
    "%load_ext sql \n",
    "%pylab inline\n",
    "%matplotlib inline\n",
    "\n",
    "import matplotlib.text as text\n",
    "\n",
    "import scipy.interpolate as interp\n",
    "import pandas as pd\n",
    "#from mp.txpepa import *\n",
    "from sklearn import (manifold, datasets, decomposition, ensemble, lda,\n",
    "                     random_projection)\n",
    "from sklearn.metrics.pairwise import euclidean_distances,manhattan_distances\n",
    "import statsmodels.api as sm\n",
    "import numpy.linalg as LA\n",
    "import bio.hts.traj as traj\n",
    "#from rpy2.robjects.packages import importr\n",
    "#from rpy2.robjects.vectors import FloatVector\n",
    "#stats = importr('stats')\n",
    "from sklearn.neighbors import KNeighborsClassifier\n",
    "\n",
    "DAT_DIR = '/share/home/ishah/projects/Chem/data/tables/'\n",
    "PKL_DIR = '/share/home/ishah/projects/Chem/data/pickle/'\n",
    "RES_DIR = '/share/home/ishah/projects/Chem/data/results/'\n",
    "FIG_DIR = '/share/home/ishah/projects/Chem/figs/readacross/'\n",
    "\n",
    "import pickle,time\n",
    "import pylab as pl\n",
    "\n",
    "tmstmp = time.strftime(\"%m-%d-%Y\",time.localtime())\n",
    "tmstmp"
   ]
  },
  {
   "cell_type": "code",
   "execution_count": null,
   "metadata": {},
   "outputs": [],
   "source": [
    "from bio.data.genra import *\n"
   ]
  },
  {
   "cell_type": "code",
   "execution_count": null,
   "metadata": {},
   "outputs": [],
   "source": [
    "G3 = openMongo(user='ishah',passwd='ishah',db='genra_v3',host='pb.epa.gov')\n",
    "DB = openMongo(user='ishah',passwd='ishah',db='ghelman',host='pb.epa.gov')"
   ]
  },
  {
   "cell_type": "code",
   "execution_count": null,
   "metadata": {},
   "outputs": [],
   "source": [
    "DB.collection_names()"
   ]
  },
  {
   "cell_type": "code",
   "execution_count": null,
   "metadata": {},
   "outputs": [],
   "source": [
    "DB.compounds.find_one().keys()"
   ]
  },
  {
   "cell_type": "code",
   "execution_count": null,
   "metadata": {},
   "outputs": [],
   "source": [
    "DB.logs.find_one()"
   ]
  },
  {
   "cell_type": "code",
   "execution_count": null,
   "metadata": {},
   "outputs": [],
   "source": [
    "DB.logs.distinct('logs.field')"
   ]
  },
  {
   "cell_type": "code",
   "execution_count": null,
   "metadata": {},
   "outputs": [],
   "source": [
    "DB.compounds.find_one({'name':{'$regex':'carbon tetrachloride','$options':'i'}})"
   ]
  },
  {
   "cell_type": "code",
   "execution_count": null,
   "metadata": {},
   "outputs": [],
   "source": [
    "DB.toxval.find_one()"
   ]
  },
  {
   "cell_type": "code",
   "execution_count": null,
   "metadata": {},
   "outputs": [],
   "source": [
    "DB.toxval.find_one(dict(dsstox_cid='DTXCID20250'))"
   ]
  },
  {
   "cell_type": "code",
   "execution_count": null,
   "metadata": {},
   "outputs": [],
   "source": [
    "Tox=pd.DataFrame(DB.toxval.find_one(dict(dsstox_cid='DTXCID30182'))['toxvals'])"
   ]
  },
  {
   "cell_type": "code",
   "execution_count": null,
   "metadata": {},
   "outputs": [],
   "source": [
    "#Tox.head(10).T"
   ]
  },
  {
   "cell_type": "code",
   "execution_count": null,
   "metadata": {},
   "outputs": [],
   "source": [
    "#print \"\\n\".join(Tox.columns)"
   ]
  },
  {
   "cell_type": "code",
   "execution_count": null,
   "metadata": {},
   "outputs": [],
   "source": [
    "(Tox.groupby(['source','study_type','study_duration_class','species','strain','sex','toxval_type','toxval_subtype','toxval_text'])\n",
    " .aggregate(dict(toxval_numeric=[np.median,np.std],\n",
    "                 #toxval_numeric_qualifier=lambda x: '.'.join(set(x)),\n",
    "                 toxval_units = lambda x: '.'.join(set(x)),\n",
    "                 #source_url = lambda x: '.'.join(set(x)),\n",
    "                )\n",
    "           )\n",
    ")"
   ]
  },
  {
   "cell_type": "code",
   "execution_count": null,
   "metadata": {},
   "outputs": [],
   "source": [
    "G3.collection_names()"
   ]
  }
 ],
 "metadata": {
  "language_info": {
   "name": "python",
   "pygments_lexer": "ipython3"
  }
 },
 "nbformat": 4,
 "nbformat_minor": 2
}
