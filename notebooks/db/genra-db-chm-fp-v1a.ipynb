{
 "cells": [
  {
   "cell_type": "markdown",
   "metadata": {},
   "source": [
    "# Create chm_fp collection in genra_db"
   ]
  },
  {
   "cell_type": "code",
   "execution_count": 1,
   "metadata": {},
   "outputs": [
    {
     "name": "stdout",
     "output_type": "stream",
     "text": [
      "Populating the interactive namespace from numpy and matplotlib\n"
     ]
    }
   ],
   "source": [
    "# %load ../env.py\n",
    "%load_ext autoreload\n",
    "%autoreload 2\n",
    "%pylab inline\n",
    "%matplotlib inline\n",
    "\n",
    "import matplotlib.text as text\n",
    "import pandas as pd\n",
    "import numpy as np\n",
    "import pylab as pl\n",
    "import scipy as sp\n",
    "import sys\n",
    "import rpy2 \n",
    "import os \n",
    "\n",
    "#Set environment variables\n",
    "\n",
    "\n",
    "# Set up the local source files\n",
    "TOP = '/'.join(os.getcwd().split('/')[:-2])+'/'\n",
    "#TOP = \"/share/home/ishah/ipynb/pb/HTTR_WF/\"\n",
    "\n",
    "LIB = TOP+'lib'\n",
    "if not LIB in sys.path: \n",
    "    sys.path.insert(0,LIB)\n",
    "\n",
    "os.environ['PYTHONPATH']=LIB\n",
    "\n",
    "\n",
    "DAT_DIR = TOP + '/data/'\n",
    "FIG_DIR = TOP + '/figs/'\n",
    "\n",
    "if not os.path.exists(DAT_DIR): os.mkdir(DAT_DIR)\n",
    "if not os.path.exists(FIG_DIR): os.mkdir(FIG_DIR)\n",
    "\n",
    "\n",
    "from db.mongo import *\n",
    "\n",
    "DB = openMongo(db='genra_dev_v4')\n"
   ]
  },
  {
   "cell_type": "code",
   "execution_count": 2,
   "metadata": {},
   "outputs": [
    {
     "data": {
      "text/plain": [
       "[u'smiles',\n",
       " u'dsstox_sid',\n",
       " u'chemspider_id',\n",
       " u'created_at',\n",
       " u'iupac',\n",
       " u'updated_at',\n",
       " u'pubchem_cid',\n",
       " u'gsid',\n",
       " u'synonyms',\n",
       " u'dsstox_cid',\n",
       " u'mol_weight',\n",
       " u'inchi_key',\n",
       " u'_id',\n",
       " u'casrn',\n",
       " u'name']"
      ]
     },
     "execution_count": 2,
     "metadata": {},
     "output_type": "execute_result"
    }
   ],
   "source": [
    "DB.collection_names()\n",
    "DB.compounds.find_one().keys()"
   ]
  },
  {
   "cell_type": "code",
   "execution_count": 6,
   "metadata": {},
   "outputs": [
    {
     "data": {
      "text/plain": [
       "u'DTXSID7020182'"
      ]
     },
     "execution_count": 6,
     "metadata": {},
     "output_type": "execute_result"
    }
   ],
   "source": [
    "DB.compounds.find_one(dict(name='Bisphenol A'))['dsstox_sid']"
   ]
  },
  {
   "cell_type": "code",
   "execution_count": 4,
   "metadata": {},
   "outputs": [],
   "source": [
    "from chm.mkfp import *"
   ]
  },
  {
   "cell_type": "code",
   "execution_count": 10,
   "metadata": {},
   "outputs": [],
   "source": [
    "makeFP('DTXSID7020182', col_comp=DB.compounds,col_chm_fp=DB.chm_fp,save=True)"
   ]
  },
  {
   "cell_type": "code",
   "execution_count": 11,
   "metadata": {},
   "outputs": [
    {
     "data": {
      "text/plain": [
       "{u'_id': ObjectId('5a3ab42b9fb21e52969ab186'),\n",
       " u'casrn': u'80-05-7',\n",
       " u'dsstox_cid': u'DTXCID30182',\n",
       " u'dsstox_sid': u'DTXSID7020182',\n",
       " u'httr': {u'ds': [u'httr_0',\n",
       "   u'httr_1',\n",
       "   u'httr_2',\n",
       "   u'httr_372',\n",
       "   u'httr_373',\n",
       "   u'httr_374',\n",
       "   u'httr_375',\n",
       "   u'httr_380',\n",
       "   u'httr_381',\n",
       "   u'httr_382',\n",
       "   u'httr_383',\n",
       "   u'httr_1488',\n",
       "   u'httr_1489',\n",
       "   u'httr_1490',\n",
       "   u'httr_1892',\n",
       "   u'httr_1893',\n",
       "   u'httr_1894',\n",
       "   u'httr_2008',\n",
       "   u'httr_2009',\n",
       "   u'httr_2010'],\n",
       "  u'n': 20},\n",
       " u'mrgn': {u'ds': [u'mrgn_8',\n",
       "   u'mrgn_114',\n",
       "   u'mrgn_189',\n",
       "   u'mrgn_231',\n",
       "   u'mrgn_392',\n",
       "   u'mrgn_532',\n",
       "   u'mrgn_679',\n",
       "   u'mrgn_745',\n",
       "   u'mrgn_807',\n",
       "   u'mrgn_1011',\n",
       "   u'mrgn_1057',\n",
       "   u'mrgn_1075',\n",
       "   u'mrgn_1076',\n",
       "   u'mrgn_1313',\n",
       "   u'mrgn_1380',\n",
       "   u'mrgn_1417',\n",
       "   u'mrgn_1602',\n",
       "   u'mrgn_1665',\n",
       "   u'mrgn_1750',\n",
       "   u'mrgn_1778',\n",
       "   u'mrgn_1873'],\n",
       "  u'n': 21},\n",
       " u'name': u'Bisphenol A'}"
      ]
     },
     "execution_count": 11,
     "metadata": {},
     "output_type": "execute_result"
    }
   ],
   "source": [
    "for C in DB.compounds.find():\n",
    "    makeFP()"
   ]
  },
  {
   "cell_type": "code",
   "execution_count": 3,
   "metadata": {},
   "outputs": [],
   "source": [
    "for i in ['dsstox_sid']: DB.chm_fp.create_index(i)"
   ]
  },
  {
   "cell_type": "code",
   "execution_count": 7,
   "metadata": {},
   "outputs": [
    {
     "data": {
      "text/plain": [
       "998"
      ]
     },
     "execution_count": 7,
     "metadata": {},
     "output_type": "execute_result"
    },
    {
     "name": "stdout",
     "output_type": "stream",
     "text": [
      "\n"
     ]
    }
   ],
   "source": [
    "DB.chm_fp.count()"
   ]
  },
  {
   "cell_type": "markdown",
   "metadata": {},
   "source": [
    "# Serial FP generation\n"
   ]
  },
  {
   "cell_type": "code",
   "execution_count": null,
   "metadata": {},
   "outputs": [
    {
     "name": "stdout",
     "output_type": "stream",
     "text": [
      "Start ...  2017-12-20 17:08:47 tasks =  636960\n",
      "1000 / 636960 17:08:49\n",
      "2000 / 636960 17:08:52\n",
      "3000 / 636960 17:08:56\n",
      "4000 / 636960 17:09:00\n",
      "5000 / 636960 17:09:04\n",
      "6000 / 636960 17:09:09\n",
      "7000 / 636960 17:09:15\n",
      "8000 / 636960 17:09:21\n",
      "9000 / 636960 17:09:27\n",
      "10000 / 636960 17:09:34\n",
      "11000 / 636960 17:09:42\n",
      "12000 / 636960 17:09:50\n",
      "13000 / 636960 17:09:59\n",
      "14000 / 636960 17:10:08\n",
      "15000 / 636960 17:10:18\n",
      "16000 / 636960 17:10:28\n",
      "17000 / 636960 17:10:39\n",
      "18000 / 636960 17:10:51\n",
      "19000 / 636960 17:11:03\n",
      "20000 / 636960 17:11:15\n",
      "21000 / 636960 17:11:28\n",
      "22000 / 636960 17:11:41\n"
     ]
    }
   ],
   "source": [
    "import datetime\n",
    "from chm.mkfp import *\n",
    "\n",
    "N = DB.compounds.count() - DB.chm_fp.count()\n",
    "print \"Start ... \", datetime.datetime.now().strftime(\"%Y-%m-%d %H:%M:%S\"), \"tasks = \",N\n",
    "    \n",
    "k=0\n",
    "for C in DB.compounds.find(no_cursor_timeout=True):\n",
    "    k+=1\n",
    "    makeFP(C['dsstox_sid'], col_comp=DB.compounds,col_chm_fp=DB.chm_fp,\n",
    "           save=True,replace=False)\n",
    "        \n",
    "    if k%1000==0:\n",
    "        print k,'/',N,datetime.datetime.now().strftime(\"%H:%M:%S\")\n",
    "        \n",
    "print \"Ended ... \", datetime.datetime.now().strftime(\"%Y-%m-%d %H:%M:%S\"), \"tasks = \",N"
   ]
  },
  {
   "cell_type": "markdown",
   "metadata": {},
   "source": [
    "# Parallel FP generation"
   ]
  },
  {
   "cell_type": "code",
   "execution_count": 2,
   "metadata": {},
   "outputs": [
    {
     "data": {
      "text/plain": [
       "<AsyncResult: execute>"
      ]
     },
     "execution_count": 2,
     "metadata": {},
     "output_type": "execute_result"
    }
   ],
   "source": [
    "import ipyparallel as PP\n",
    "\n",
    "RC=PP.Client(profile='chiron_pm')\n",
    "d_view=RC[:]\n",
    "lb_view = RC.load_balanced_view()\n",
    "lb_view.block = True\n",
    "x=file(\"../env.py\",'r').read()\n",
    "d_view.execute(x)"
   ]
  },
  {
   "cell_type": "code",
   "execution_count": 3,
   "metadata": {},
   "outputs": [],
   "source": [
    "from chm.mkfp import *"
   ]
  },
  {
   "cell_type": "code",
   "execution_count": 7,
   "metadata": {},
   "outputs": [
    {
     "data": {
      "text/plain": [
       "<AsyncResult: execute>"
      ]
     },
     "execution_count": 7,
     "metadata": {},
     "output_type": "execute_result"
    }
   ],
   "source": [
    "d_view.execute(\"from chm.mkfp import *\")\n",
    "d_view.execute(\"DB = openMongo(db='genra_dev_v4')\")"
   ]
  },
  {
   "cell_type": "code",
   "execution_count": 19,
   "metadata": {},
   "outputs": [
    {
     "data": {
      "text/plain": [
       "[u'mrgn', u'dsstox_sid', u'name', u'httr', u'casrn', u'dsstox_cid', u'_id']"
      ]
     },
     "execution_count": 19,
     "metadata": {},
     "output_type": "execute_result"
    }
   ],
   "source": [
    "DB.chm_fp.find_one().keys()"
   ]
  },
  {
   "cell_type": "code",
   "execution_count": 2,
   "metadata": {},
   "outputs": [
    {
     "name": "stdout",
     "output_type": "stream",
     "text": [
      "name\n",
      "mrgn.ds\n",
      "mrgn.n\n",
      "httr.n\n",
      "httr.ds\n",
      "casrn\n",
      "dsstox_cid\n",
      "dsstox_sid\n"
     ]
    }
   ],
   "source": [
    "#DB.chm_fp.delete_many({})\n",
    "for i in ['name','mrgn.ds','mrgn.n','httr.n','httr.ds','casrn',\n",
    "          'dsstox_cid','dsstox_sid']:\n",
    "    print i\n",
    "    DB.chm_fp.create_index(i)\n"
   ]
  },
  {
   "cell_type": "code",
   "execution_count": null,
   "metadata": {},
   "outputs": [],
   "source": [
    "from threading import Thread\n",
    "SID = []\n",
    "\n",
    "def procCurs(curs,res):\n",
    "    for C in curs:\n",
    "        makeFP(C['dsstox_sid'], col_comp=DB.compounds,col_chm_fp=DB.chm_fp,\n",
    "               save=True,replace=False)\n",
    "        \n",
    "        \n",
    "Curs = DB.compounds.parallel_scan(50)\n",
    "TH0  = [Thread(target=procCurs,args=(curs,SID)) for curs in Curs]\n",
    "for th in TH0: th.start()\n",
    "for th in TH0: th.join()\n"
   ]
  },
  {
   "cell_type": "markdown",
   "metadata": {},
   "source": [
    "## How many chemicals left to do"
   ]
  },
  {
   "cell_type": "code",
   "execution_count": null,
   "metadata": {},
   "outputs": [],
   "source": [
    "DONE = DB.chm_fp.distinct('dsstox_sid')\n",
    "WORK = []\n",
    "\n",
    "for C in DB.compounds.find():\n",
    "    if DB.chm_fp.find(dict(dsstox_sid=C['dsstox_sid'])).count()>0: \n",
    "        continue\n",
    "    else:\n",
    "        WORK.append(C['dsstox_sid'])\n",
    "#list(set(DB.compounds.distinct('dsstox_sid')).difference(DONE))\n",
    "len(WORK)"
   ]
  },
  {
   "cell_type": "markdown",
   "metadata": {},
   "source": [
    "## Run in parallel"
   ]
  },
  {
   "cell_type": "code",
   "execution_count": null,
   "metadata": {},
   "outputs": [
    {
     "name": "stdout",
     "output_type": "stream",
     "text": [
      "Start ...  2017-12-20 14:21:00 tasks =  750464\n"
     ]
    }
   ],
   "source": [
    "import datetime\n",
    "from chm.mkfp import *\n",
    "\n",
    "            \n",
    "print \"Start ... \", datetime.datetime.now().strftime(\"%Y-%m-%d %H:%M:%S\"), \"tasks = \",len(WORK)\n",
    "\n",
    "lb_view.map(lambda dtxsid: makeFP(dtxsid, col_comp=DB.compounds,col_chm_fp=DB.chm_fp,save=True),WORK)\n",
    "\n",
    "\n",
    "print \"End \", datetime.datetime.now().strftime(\"%Y-%m-%d %H:%M:%S\"), \"tasks = \",len(WORK)\n",
    "\n"
   ]
  },
  {
   "cell_type": "code",
   "execution_count": null,
   "metadata": {},
   "outputs": [],
   "source": [
    "DB.chm_fp.find_one()"
   ]
  }
 ],
 "metadata": {
  "kernelspec": {
   "display_name": "Python 2",
   "language": "python",
   "name": "python2"
  },
  "language_info": {
   "codemirror_mode": {
    "name": "ipython",
    "version": 2
   },
   "file_extension": ".py",
   "mimetype": "text/x-python",
   "name": "python",
   "nbconvert_exporter": "python",
   "pygments_lexer": "ipython2",
   "version": "2.7.13"
  }
 },
 "nbformat": 4,
 "nbformat_minor": 2
}
