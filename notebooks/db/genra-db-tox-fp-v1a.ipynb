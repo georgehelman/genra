{
 "cells": [
  {
   "cell_type": "code",
   "execution_count": 1,
   "metadata": {},
   "outputs": [
    {
     "name": "stdout",
     "output_type": "stream",
     "text": [
      "Populating the interactive namespace from numpy and matplotlib\n"
     ]
    }
   ],
   "source": [
    "# %load ../env.py\n",
    "%load_ext autoreload\n",
    "%autoreload 2\n",
    "%pylab inline\n",
    "%matplotlib inline\n",
    "\n",
    "import matplotlib.text as text\n",
    "import pandas as pd\n",
    "import numpy as np\n",
    "import pylab as pl\n",
    "import scipy as sp\n",
    "import sys\n",
    "import rpy2 \n",
    "import os \n",
    "\n",
    "#Set environment variables\n",
    "\n",
    "\n",
    "# Set up the local source files\n",
    "TOP = '/'.join(os.getcwd().split('/')[:-2])+'/'\n",
    "#TOP = \"/share/home/ishah/ipynb/pb/HTTR_WF/\"\n",
    "\n",
    "LIB = TOP+'lib'\n",
    "if not LIB in sys.path: \n",
    "    sys.path.insert(0,LIB)\n",
    "\n",
    "os.environ['PYTHONPATH']=LIB\n",
    "\n",
    "\n",
    "DAT_DIR = TOP + '/data/'\n",
    "FIG_DIR = TOP + '/figs/'\n",
    "\n",
    "if not os.path.exists(DAT_DIR): os.mkdir(DAT_DIR)\n",
    "if not os.path.exists(FIG_DIR): os.mkdir(FIG_DIR)\n",
    "\n",
    "\n",
    "from db.mongo import *\n",
    "\n",
    "DB = openMongo(db='genra_dev_v4')"
   ]
  },
  {
   "cell_type": "code",
   "execution_count": 3,
   "metadata": {},
   "outputs": [],
   "source": [
    "DB.tox_fp.drop()"
   ]
  },
  {
   "cell_type": "markdown",
   "metadata": {},
   "source": [
    "# Goal\n",
    "\n",
    "Load toxicity information from ToxRefDB\n",
    "\n",
    "1. ToxRefDB existing\n",
    "\n",
    "`mongorestore -j20 -u ishah -p ishah -d genra_dev_v4 -c tox_fp tox5_fp.bson`\n",
    "\n",
    "2. ToxRefDB v2\n",
    "\n",
    "\n"
   ]
  },
  {
   "cell_type": "code",
   "execution_count": 7,
   "metadata": {},
   "outputs": [
    {
     "data": {
      "text/plain": [
       "[u'logs', u'tox_fp', u'compounds', u'chm_fp', u'bio_fp']"
      ]
     },
     "execution_count": 7,
     "metadata": {},
     "output_type": "execute_result"
    }
   ],
   "source": [
    "DB.collection_names()"
   ]
  },
  {
   "cell_type": "code",
   "execution_count": 9,
   "metadata": {},
   "outputs": [
    {
     "data": {
      "text/plain": [
       "{u'_id': ObjectId('571a4d59b6597d78196d861c'),\n",
       " u'chemical_casrn': u'53-86-1',\n",
       " u'chemical_name': u'Indomethacin',\n",
       " u'dose_max': 20.0,\n",
       " u'dose_min': 20.0,\n",
       " u'dose_units': u'mg/kg/day',\n",
       " u'dsstox_cid': u'DTXCID50740',\n",
       " u'dsstox_sid': u'DTXSID9020740',\n",
       " u'name': u'Indomethacin',\n",
       " u'tox_fpn1': {u'ds': [u'ACU:Thymus',\n",
       "   u'ACU:Mortality',\n",
       "   u'ACU:Intestine Small',\n",
       "   u'ACU:Testes',\n",
       "   u'ACU:Ovary',\n",
       "   u'ACU:Food Consumption',\n",
       "   u'ACU:Adrenal Gland',\n",
       "   u'ACU:Nose',\n",
       "   u'ACU:Clinical Signs',\n",
       "   u'ACU:Spleen',\n",
       "   u'ACU:Eye',\n",
       "   u'ACU:Body Weight',\n",
       "   u'ACU:Lung',\n",
       "   u'ACU:Water Consumption',\n",
       "   u'ACU:Stomach',\n",
       "   u'ACU:Intestine Large'],\n",
       "  u'n': 16},\n",
       " u'tox_fpn2': {u'ds': [u'ACU:ReproductiveFemale:Ovary',\n",
       "   u'ACU:ReproductiveMale:Testes',\n",
       "   u'ACU:InLifeObservations:Clinical Signs',\n",
       "   u'ACU:InLifeObservations:Water Consumption',\n",
       "   u'ACU:PrimaryDigestive:Intestine Small',\n",
       "   u'ACU:Integumentary:Nose',\n",
       "   u'ACU:Lymphatic:Spleen',\n",
       "   u'ACU:InLifeObservations:Food Consumption',\n",
       "   u'ACU:InLifeObservations:Mortality',\n",
       "   u'ACU:Respiratory:Lung',\n",
       "   u'ACU:Integumentary:Eye',\n",
       "   u'ACU:Endocrine:Thymus',\n",
       "   u'ACU:InLifeObservations:Body Weight',\n",
       "   u'ACU:Endocrine:Adrenal Gland',\n",
       "   u'ACU:PrimaryDigestive:Stomach',\n",
       "   u'ACU:PrimaryDigestive:Intestine Large'],\n",
       "  u'n': 16},\n",
       " u'tox_fpp1': {u'ds': [u'ACU:Clinical Chemistry', u'ACU:Urinalysis'], u'n': 2},\n",
       " u'tox_fpp2': {u'ds': [u'ACU:PathologyClinical:Clinical Chemistry',\n",
       "   u'ACU:PathologyClinical:Urinalysis'],\n",
       "  u'n': 2},\n",
       " u'tox_q1': [{u'dose': 20.0,\n",
       "   u'dose_unit': u'mg/kg/day',\n",
       "   u'dur_unit': u'day',\n",
       "   u'duration': 7.0,\n",
       "   u'effect': u'ACU:Clinical Chemistry'},\n",
       "  {u'dose': 20.0,\n",
       "   u'dose_unit': u'mg/kg/day',\n",
       "   u'dur_unit': u'day',\n",
       "   u'duration': 7.0,\n",
       "   u'effect': u'ACU:Urinalysis'}],\n",
       " u'tox_q2': [{u'dose': 20.0,\n",
       "   u'dose_unit': u'mg/kg/day',\n",
       "   u'dur_unit': u'day',\n",
       "   u'duration': 7.0,\n",
       "   u'effect': u'ACU:PathologyClinical:Clinical Chemistry'},\n",
       "  {u'dose': 20.0,\n",
       "   u'dose_unit': u'mg/kg/day',\n",
       "   u'dur_unit': u'day',\n",
       "   u'duration': 7.0,\n",
       "   u'effect': u'ACU:PathologyClinical:Urinalysis'}]}"
      ]
     },
     "execution_count": 9,
     "metadata": {},
     "output_type": "execute_result"
    }
   ],
   "source": [
    "DB.tox_fp.find_one()"
   ]
  },
  {
   "cell_type": "code",
   "execution_count": 10,
   "metadata": {},
   "outputs": [
    {
     "data": {
      "text/plain": [
       "[u'dose_min',\n",
       " u'tox_q2',\n",
       " u'chemical_casrn',\n",
       " u'dose_units',\n",
       " u'dose_max',\n",
       " u'tox_fpn1',\n",
       " u'tox_fpn2',\n",
       " u'chemical_name',\n",
       " u'dsstox_cid',\n",
       " u'tox_q1',\n",
       " u'dsstox_sid',\n",
       " u'_id',\n",
       " u'tox_fpp2',\n",
       " u'tox_fpp1',\n",
       " u'name']"
      ]
     },
     "execution_count": 10,
     "metadata": {},
     "output_type": "execute_result"
    }
   ],
   "source": [
    "DB.tox_fp.find_one().keys()"
   ]
  }
 ],
 "metadata": {
  "kernelspec": {
   "display_name": "Python 2",
   "language": "python",
   "name": "python2"
  },
  "language_info": {
   "codemirror_mode": {
    "name": "ipython",
    "version": 2
   },
   "file_extension": ".py",
   "mimetype": "text/x-python",
   "name": "python",
   "nbconvert_exporter": "python",
   "pygments_lexer": "ipython2",
   "version": "2.7.13"
  }
 },
 "nbformat": 4,
 "nbformat_minor": 2
}
