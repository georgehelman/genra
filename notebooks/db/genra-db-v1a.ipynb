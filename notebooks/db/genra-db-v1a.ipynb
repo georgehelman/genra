{
 "cells": [
  {
   "cell_type": "code",
   "execution_count": null,
   "metadata": {},
   "outputs": [],
   "source": [
    "# %load ../env.py\n",
    "%reload_ext autoreload\n",
    "%autoreload 2\n",
    "%pylab inline\n",
    "%matplotlib inline\n",
    "\n",
    "import matplotlib.text as text\n",
    "import pandas as pd\n",
    "import numpy as np\n",
    "import pylab as pl\n",
    "import scipy as sp\n",
    "import sys\n",
    "import rpy2 \n",
    "import os \n",
    "\n",
    "#Set environment variables\n",
    "\n",
    "\n",
    "# Set up the local source files\n",
    "TOP = '/'.join(os.getcwd().split('/')[:-2])+'/'\n",
    "#TOP = \"/share/home/ishah/ipynb/pb/HTTR_WF/\"\n",
    "\n",
    "LIB = TOP+'lib'\n",
    "if not LIB in sys.path: \n",
    "    sys.path.insert(0,LIB)\n",
    "\n",
    "os.environ['PYTHONPATH']=LIB\n",
    "\n",
    "\n",
    "DAT_DIR = TOP + '/data/'\n",
    "FIG_DIR = TOP + '/figs/'\n",
    "\n",
    "if not os.path.exists(DAT_DIR): os.mkdir(DAT_DIR)\n",
    "if not os.path.exists(FIG_DIR): os.mkdir(FIG_DIR)\n",
    "\n",
    "\n",
    "from db.mongo import *\n"
   ]
  },
  {
   "cell_type": "markdown",
   "metadata": {},
   "source": [
    "# Summary\n",
    "\n",
    "Create the new version of the GenRA database. The last version is genra_v3 so this will be genra_dev_v4. The keys steps are:\n",
    "\n",
    "* Chemical data: load chemical structure data from DSSTox and create chemical fingerprints\n",
    "* Bioactivity data: load bioactivity data from different sources (ToxCast, Tox21, other?) and create bioactivity fingerprints\n",
    "* Toxicity data: load toxicity data from toxrefdb and create toxicity fingerprints\n",
    "* Physprop data: load physprob data from DSSTox"
   ]
  },
  {
   "cell_type": "markdown",
   "metadata": {},
   "source": [
    "# Chemical Data\n",
    "\n",
    "## Loading from DSSTox\n",
    "Todo: describe how the chemical information is loaded into the database and kept updated. \n",
    "\n",
    "Right now just copy over collection that is already setup\n",
    "\n",
    "`mongodump -j 10 -d ghelman -c compounds -o dump`\n",
    "\n",
    "`mongodump -j 10 -d ghelman -c logs -o dump`\n",
    "\n",
    "`mongorestore -j 10 -d genra_dev_v4 -c compounds dump/compounds.bson`\n",
    "\n",
    "`mongorestore -j 10 -d genra_dev_v4 -c logs dump/logs.bson`\n"
   ]
  },
  {
   "cell_type": "code",
   "execution_count": null,
   "metadata": {},
   "outputs": [],
   "source": [
    "DB = openMongo(db='genra_dev_v4')\n",
    "GH = openMongo(db='ghelman')\n",
    "GH.collection_names()"
   ]
  },
  {
   "cell_type": "code",
   "execution_count": null,
   "metadata": {},
   "outputs": [],
   "source": [
    "DB.compounds.find_one({'name':'Bisphenol A'},dict(synonyms=0))"
   ]
  },
  {
   "cell_type": "code",
   "execution_count": null,
   "metadata": {},
   "outputs": [],
   "source": [
    "DB.logs.find_one(dict(dsstox_cid='DTXCID30182'))"
   ]
  },
  {
   "cell_type": "code",
   "execution_count": null,
   "metadata": {},
   "outputs": [],
   "source": [
    "for C in DB.compounds.find({},dict(_id=0,synonyms=0),no_cursor_timeout=True):\n",
    "    L = DB.logs.update_one(dict(dsstox_cid=C['dsstox_cid']),{'$set':{'dsstox_sid':C['dsstox_sid']}})\n"
   ]
  },
  {
   "cell_type": "code",
   "execution_count": null,
   "metadata": {},
   "outputs": [],
   "source": []
  }
 ],
 "metadata": {
  "language_info": {
   "name": "python",
   "pygments_lexer": "ipython3"
  }
 },
 "nbformat": 4,
 "nbformat_minor": 2
}
