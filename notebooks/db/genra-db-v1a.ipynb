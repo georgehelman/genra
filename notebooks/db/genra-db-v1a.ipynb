{
 "cells": [
  {
   "cell_type": "code",
   "execution_count": 1,
   "metadata": {},
   "outputs": [
    {
     "name": "stdout",
     "output_type": "stream",
     "text": [
      "Populating the interactive namespace from numpy and matplotlib\n"
     ]
    }
   ],
   "source": [
    "# %load ../env.py\n",
    "%reload_ext autoreload\n",
    "%autoreload 2\n",
    "%pylab inline\n",
    "%matplotlib inline\n",
    "\n",
    "import matplotlib.text as text\n",
    "import pandas as pd\n",
    "import numpy as np\n",
    "import pylab as pl\n",
    "import scipy as sp\n",
    "import sys\n",
    "import rpy2 \n",
    "import os \n",
    "\n",
    "#Set environment variables\n",
    "\n",
    "\n",
    "# Set up the local source files\n",
    "TOP = '/'.join(os.getcwd().split('/')[:-2])+'/'\n",
    "#TOP = \"/share/home/ishah/ipynb/pb/HTTR_WF/\"\n",
    "\n",
    "LIB = TOP+'lib'\n",
    "if not LIB in sys.path: \n",
    "    sys.path.insert(0,LIB)\n",
    "\n",
    "os.environ['PYTHONPATH']=LIB\n",
    "\n",
    "\n",
    "DAT_DIR = TOP + '/data/'\n",
    "FIG_DIR = TOP + '/figs/'\n",
    "\n",
    "if not os.path.exists(DAT_DIR): os.mkdir(DAT_DIR)\n",
    "if not os.path.exists(FIG_DIR): os.mkdir(FIG_DIR)\n",
    "\n",
    "\n",
    "from db.mongo import *\n"
   ]
  },
  {
   "cell_type": "markdown",
   "metadata": {},
   "source": [
    "# Summary\n",
    "\n",
    "Create the new version of the GenRA database. The last version is genra_v3 so this will be genra_dev_v4. The keys steps are:\n",
    "\n",
    "* Chemical data: load chemical structure data from DSSTox and create chemical fingerprints\n",
    "* Bioactivity data: load bioactivity data from different sources (ToxCast, Tox21, other?) and create bioactivity fingerprints\n",
    "* Toxicity data: load toxicity data from toxrefdb and create toxicity fingerprints\n",
    "* Physprop data: load physprob data from DSSTox"
   ]
  },
  {
   "cell_type": "markdown",
   "metadata": {},
   "source": [
    "# Chemical Data\n",
    "\n",
    "## Loading from DSSTox\n",
    "Todo: describe how the chemical information is loaded into the database and kept updated. \n",
    "\n",
    "Right now just copy over collection that is already setup\n",
    "\n",
    "`mongodump -j 10 -d ghelman -c compounds -o dump`\n",
    "\n",
    "`mongodump -j 10 -d ghelman -c logs -o dump`\n",
    "\n",
    "`mongorestore -j 10 -d genra_dev_v4 -c compounds dump/compounds.bson`\n",
    "\n",
    "`mongorestore -j 10 -d genra_dev_v4 -c logs dump/logs.bson`\n"
   ]
  },
  {
   "cell_type": "code",
   "execution_count": 3,
   "metadata": {},
   "outputs": [
    {
     "data": {
      "text/plain": [
       "[u'physprop',\n",
       " u'test_compounds',\n",
       " u'logs',\n",
       " u'toxval',\n",
       " u'test_physprop',\n",
       " u'fingerprints',\n",
       " u'meta',\n",
       " u'invitrodb',\n",
       " u'test_fp',\n",
       " u'compounds']"
      ]
     },
     "execution_count": 3,
     "metadata": {},
     "output_type": "execute_result"
    }
   ],
   "source": [
    "DB = openMongo(db='genra_dev_v4')\n",
    "GH = openMongo(db='ghelman')\n",
    "GH.collection_names()"
   ]
  },
  {
   "cell_type": "code",
   "execution_count": 8,
   "metadata": {},
   "outputs": [
    {
     "data": {
      "text/plain": [
       "{u'_id': ObjectId('58fe610bf0e291b4c06a1aec'),\n",
       " u'casrn': u'80-05-7',\n",
       " u'chemspider_id': 6371,\n",
       " u'created_at': datetime.datetime(2017, 4, 24, 20, 32, 19),\n",
       " u'dsstox_cid': u'DTXCID30182',\n",
       " u'dsstox_sid': u'DTXSID7020182',\n",
       " u'gsid': 20182,\n",
       " u'inchi_key': u'IISBACLAFKSPIT-UHFFFAOYSA-N',\n",
       " u'iupac': u\"4,4'-(Propane-2,2-diyl)diphenol\",\n",
       " u'mol_weight': 228.29100036621094,\n",
       " u'name': u'Bisphenol A',\n",
       " u'pubchem_cid': 6623,\n",
       " u'smiles': u'CC(C)(C1=CC=C(O)C=C1)C1=CC=C(O)C=C1',\n",
       " u'updated_at': datetime.datetime(2017, 8, 30, 19, 10, 40)}"
      ]
     },
     "execution_count": 8,
     "metadata": {},
     "output_type": "execute_result"
    }
   ],
   "source": [
    "DB.compounds.find_one({'name':'Bisphenol A'},dict(synonyms=0))"
   ]
  },
  {
   "cell_type": "code",
   "execution_count": 10,
   "metadata": {},
   "outputs": [
    {
     "data": {
      "text/plain": [
       "{u'_id': ObjectId('58fe610bf0e291b4c06a1aee'),\n",
       " u'dsstox_cid': u'DTXCID30182',\n",
       " u'logs': [u'Added to database',\n",
       "  {u'collection': u'compounds',\n",
       "   u'compound': u'DTXCID30182',\n",
       "   u'field': u'predicted_props',\n",
       "   u'prop_name': u'ACD_BP',\n",
       "   u'time': datetime.datetime(2017, 7, 7, 18, 24, 11),\n",
       "   u'type': u'add',\n",
       "   u'value': 400.837},\n",
       "  {u'collection': u'compounds',\n",
       "   u'compound': u'DTXCID30182',\n",
       "   u'field': u'predicted_props',\n",
       "   u'prop_name': u'ACD_FP',\n",
       "   u'time': datetime.datetime(2017, 7, 7, 18, 24, 11),\n",
       "   u'type': u'add',\n",
       "   u'value': 192.423},\n",
       "  {u'collection': u'compounds',\n",
       "   u'compound': u'DTXCID30182',\n",
       "   u'field': u'predicted_props',\n",
       "   u'prop_name': u'ACD_LogP_v_LogP_Classic',\n",
       "   u'time': datetime.datetime(2017, 7, 7, 18, 24, 11),\n",
       "   u'type': u'add',\n",
       "   u'value': 3.431},\n",
       "  {u'collection': u'compounds',\n",
       "   u'compound': u'DTXCID30182',\n",
       "   u'field': u'predicted_props',\n",
       "   u'prop_name': u'ACD_Prop_Parachor',\n",
       "   u'time': datetime.datetime(2017, 7, 26, 18, 24, 49),\n",
       "   u'type': u'add',\n",
       "   u'value': 519.793},\n",
       "  {u'collection': u'compounds',\n",
       "   u'compound': u'DTXCID30182',\n",
       "   u'field': u'predicted_props',\n",
       "   u'prop_name': u'TEST_BCF',\n",
       "   u'time': datetime.datetime(2017, 8, 4, 18, 24, 13),\n",
       "   u'type': u'add',\n",
       "   u'value': 117.22},\n",
       "  {u'collection': u'compounds',\n",
       "   u'compound': u'DTXCID30182',\n",
       "   u'field': u'predicted_props',\n",
       "   u'prop_name': u'OPERA_AOH',\n",
       "   u'time': datetime.datetime(2017, 8, 30, 19, 10, 40),\n",
       "   u'type': u'add',\n",
       "   u'value': 1.64102e-11}]}"
      ]
     },
     "execution_count": 10,
     "metadata": {},
     "output_type": "execute_result"
    }
   ],
   "source": [
    "DB.logs.find_one(dict(dsstox_cid='DTXCID30182'))"
   ]
  },
  {
   "cell_type": "code",
   "execution_count": null,
   "metadata": {},
   "outputs": [],
   "source": [
    "for C in DB.compounds.find({},dict(_id=0,synonyms=0),no_cursor_timeout=True):\n",
    "    L = DB.logs.update_one(dict(dsstox_cid=C['dsstox_cid']),{'$set':{'dsstox_sid':C['dsstox_sid']}})\n"
   ]
  },
  {
   "cell_type": "code",
   "execution_count": null,
   "metadata": {},
   "outputs": [],
   "source": []
  }
 ],
 "metadata": {
  "kernelspec": {
   "display_name": "Python 2",
   "language": "python",
   "name": "python2"
  },
  "language_info": {
   "codemirror_mode": {
    "name": "ipython",
    "version": 2
   },
   "file_extension": ".py",
   "mimetype": "text/x-python",
   "name": "python",
   "nbconvert_exporter": "python",
   "pygments_lexer": "ipython2",
   "version": "2.7.13"
  }
 },
 "nbformat": 4,
 "nbformat_minor": 2
}
