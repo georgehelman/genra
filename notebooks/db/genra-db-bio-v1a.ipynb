{
 "cells": [
  {
   "cell_type": "code",
   "execution_count": null,
   "metadata": {},
   "outputs": [],
   "source": [
    "# %load ../env.py\n",
    "%load_ext autoreload\n",
    "%autoreload 2\n",
    "%pylab inline\n",
    "%matplotlib inline\n",
    "\n",
    "import matplotlib.text as text\n",
    "import pandas as pd\n",
    "import numpy as np\n",
    "import pylab as pl\n",
    "import scipy as sp\n",
    "import sys\n",
    "import rpy2 \n",
    "import os \n",
    "\n",
    "#Set environment variables\n",
    "\n",
    "\n",
    "# Set up the local source files\n",
    "TOP = '/'.join(os.getcwd().split('/')[:-2])+'/'\n",
    "#TOP = \"/share/home/ishah/ipynb/pb/HTTR_WF/\"\n",
    "\n",
    "LIB = TOP+'lib'\n",
    "if not LIB in sys.path: \n",
    "    sys.path.insert(0,LIB)\n",
    "\n",
    "os.environ['PYTHONPATH']=LIB\n",
    "\n",
    "\n",
    "DAT_DIR = TOP + '/data/'\n",
    "FIG_DIR = TOP + '/figs/'\n",
    "\n",
    "if not os.path.exists(DAT_DIR): os.mkdir(DAT_DIR)\n",
    "if not os.path.exists(FIG_DIR): os.mkdir(FIG_DIR)\n",
    "\n",
    "\n",
    "from db.mongo import *\n",
    "\n",
    "DB = openMongo(db='genra_dev_v4')"
   ]
  },
  {
   "cell_type": "markdown",
   "metadata": {},
   "source": [
    "# Goal\n",
    "\n",
    "Load the bio_fp\n",
    "\n",
    "`mongorestore -j20 -u ishah -p ishah -d genra_dev_v4 -c bio_fp dump/genra_v3/bio_fp.bson`"
   ]
  },
  {
   "cell_type": "code",
   "execution_count": null,
   "metadata": {},
   "outputs": [],
   "source": [
    "print DB.bio_fp.count()\n",
    "DB.bio_fp.find_one().keys()"
   ]
  },
  {
   "cell_type": "code",
   "execution_count": null,
   "metadata": {},
   "outputs": [],
   "source": [
    "for FP in DB.bio_fp.find():\n",
    "    dtxcid = FP['dsstox_cid']\n",
    "    if dtxcid != dtxcid or not dtxcid: continue\n",
    "    C=DB.compounds.find_one(dict(dsstox_cid=dtxcid))\n",
    "    if not C: \n",
    "        print dtxcid, \"Not found!\"\n",
    "        DB.bio_fp.update_one(dict(dsstox_cid=dtxcid),{'$set':dict(dsstox_sid=None)})\n",
    "    else:\n",
    "        DB.bio_fp.update_one(dict(dsstox_cid=dtxcid),{'$set':dict(dsstox_sid=C['dsstox_sid'])})"
   ]
  },
  {
   "cell_type": "code",
   "execution_count": null,
   "metadata": {},
   "outputs": [],
   "source": [
    "DB.chm_fp.count()"
   ]
  },
  {
   "cell_type": "code",
   "execution_count": null,
   "metadata": {},
   "outputs": [],
   "source": []
  },
  {
   "cell_type": "code",
   "execution_count": null,
   "metadata": {},
   "outputs": [],
   "source": []
  }
 ],
 "metadata": {
  "language_info": {
   "name": "python",
   "pygments_lexer": "ipython3"
  }
 },
 "nbformat": 4,
 "nbformat_minor": 2
}
