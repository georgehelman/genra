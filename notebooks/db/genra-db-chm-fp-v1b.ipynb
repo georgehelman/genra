{
 "cells": [
  {
   "cell_type": "markdown",
   "metadata": {},
   "source": [
    "# Create chm_fp collection in genra_dev_v4"
   ]
  },
  {
   "cell_type": "code",
   "execution_count": null,
   "metadata": {},
   "outputs": [],
   "source": [
    "# %load ../env.py\n",
    "%reload_ext autoreload\n",
    "%autoreload 2\n",
    "%pylab inline\n",
    "%matplotlib inline\n",
    "\n",
    "import matplotlib.text as text\n",
    "import pandas as pd\n",
    "import numpy as np\n",
    "import pylab as pl\n",
    "import scipy as sp\n",
    "import sys\n",
    "import rpy2 \n",
    "import os \n",
    "\n",
    "#Set environment variables\n",
    "\n",
    "\n",
    "# Set up the local source files\n",
    "TOP = '/'.join(os.getcwd().split('/')[:-2])+'/'\n",
    "#TOP = \"/share/home/ishah/ipynb/pb/HTTR_WF/\"\n",
    "\n",
    "LIB = TOP+'lib'\n",
    "if not LIB in sys.path: \n",
    "    sys.path.insert(0,LIB)\n",
    "\n",
    "os.environ['PYTHONPATH']=LIB\n",
    "\n",
    "\n",
    "DAT_DIR = TOP + '/data/'\n",
    "FIG_DIR = TOP + '/figs/'\n",
    "\n",
    "if not os.path.exists(DAT_DIR): os.mkdir(DAT_DIR)\n",
    "if not os.path.exists(FIG_DIR): os.mkdir(FIG_DIR)\n",
    "\n",
    "\n",
    "from db.mongo import *\n",
    "from db.fpsim import *\n",
    "from chm.mkfp import *\n",
    "DB = openMongo(db='genra_dev_v4')\n"
   ]
  },
  {
   "cell_type": "markdown",
   "metadata": {},
   "source": [
    "# Parallel FP generation\n",
    "`ipcluster start --profile=pb_parallel --n=25`"
   ]
  },
  {
   "cell_type": "code",
   "execution_count": null,
   "metadata": {},
   "outputs": [],
   "source": [
    "import ipyparallel as PP\n",
    "\n",
    "RC=PP.Client(profile='pb_parallel')\n",
    "d_view=RC[:]\n",
    "lb_view = RC.load_balanced_view()\n",
    "lb_view.block = True\n",
    "x=file(\"../parenv.py\",'r').read()\n",
    "d_view.execute(x)\n"
   ]
  },
  {
   "cell_type": "code",
   "execution_count": null,
   "metadata": {},
   "outputs": [],
   "source": [
    "from chm.mkfp import *"
   ]
  },
  {
   "cell_type": "code",
   "execution_count": null,
   "metadata": {},
   "outputs": [],
   "source": [
    "d_view.execute(\"from chm.mkfp import *\")\n",
    "#d_view.execute(\"DB = openMongo(db='genra_dev_v4')\")"
   ]
  },
  {
   "cell_type": "markdown",
   "metadata": {},
   "source": [
    "## Test threaded makeFP"
   ]
  },
  {
   "cell_type": "code",
   "execution_count": null,
   "metadata": {},
   "outputs": [],
   "source": [
    "from threading import Thread\n",
    "SID = []\n",
    "\n",
    "def procCurs(curs,res):\n",
    "    for C in curs:\n",
    "        makeFP(C['dsstox_sid'], col_comp=DB.compounds,col_chm_fp=DB.chm_fp,\n",
    "               save=True,replace=False)\n",
    "        \n",
    "        \n",
    "Curs = DB.compounds.parallel_scan(50)\n",
    "TH0  = [Thread(target=procCurs,args=(curs,SID)) for curs in Curs]\n",
    "for th in TH0: th.start()\n",
    "for th in TH0: th.join()\n"
   ]
  },
  {
   "cell_type": "markdown",
   "metadata": {},
   "source": [
    "## How many chemicals left to do"
   ]
  },
  {
   "cell_type": "code",
   "execution_count": null,
   "metadata": {},
   "outputs": [],
   "source": [
    "DONE = DB.chm_fp.distinct('dsstox_sid')\n",
    "WORK = []\n",
    "\n",
    "for C in DB.compounds.find():\n",
    "    if DB.chm_fp.find(dict(dsstox_sid=C['dsstox_sid'])).count()>0: \n",
    "        continue\n",
    "    else:\n",
    "        WORK.append(C['dsstox_sid'])\n",
    "#list(set(DB.compounds.distinct('dsstox_sid')).difference(DONE))\n",
    "len(WORK)"
   ]
  },
  {
   "cell_type": "code",
   "execution_count": null,
   "metadata": {},
   "outputs": [],
   "source": [
    "WORK = []\n",
    "for j in xrange(0,DB.compounds.count(),100000):\n",
    "    WORK += [i['dsstox_sid'] for i in DB.compounds.find().skip(j).limit(100000)]\n",
    "    if j % 100000==0: \n",
    "        print j"
   ]
  },
  {
   "cell_type": "code",
   "execution_count": null,
   "metadata": {},
   "outputs": [],
   "source": [
    "len(WORK)"
   ]
  },
  {
   "cell_type": "markdown",
   "metadata": {},
   "source": [
    "## Run in parallel"
   ]
  },
  {
   "cell_type": "code",
   "execution_count": null,
   "metadata": {},
   "outputs": [],
   "source": [
    "import datetime\n",
    "from chm.mkfp import *\n",
    "\n",
    "            \n",
    "print \"Start ... \", datetime.datetime.now().strftime(\"%Y-%m-%d %H:%M:%S\"), \"tasks = \",len(WORK)\n",
    "\n",
    "lb_view.map(lambda dtxsid: makeFP(dtxsid, col_comp=DB.compounds,col_chm_fp=DB.chm_fp,save=True,replace=False),WORK)\n",
    "\n",
    "\n",
    "print \"End \", datetime.datetime.now().strftime(\"%Y-%m-%d %H:%M:%S\"), \"tasks = \",len(WORK)\n",
    "\n"
   ]
  },
  {
   "cell_type": "code",
   "execution_count": null,
   "metadata": {},
   "outputs": [],
   "source": [
    "\n",
    "for i in ['name','mrgn.ds','mrgn.n','httr.n','httr.ds','casrn',\n",
    "          'dsstox_cid','dsstox_sid']:\n",
    "    print i\n",
    "    DB.chm_fp.create_index(i)\n"
   ]
  }
 ],
 "metadata": {
  "language_info": {
   "name": "python",
   "pygments_lexer": "ipython3"
  }
 },
 "nbformat": 4,
 "nbformat_minor": 2
}
